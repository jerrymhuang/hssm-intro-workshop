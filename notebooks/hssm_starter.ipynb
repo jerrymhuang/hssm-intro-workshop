{
 "cells": [
  {
   "cell_type": "code",
   "execution_count": 1,
   "id": "initial_id",
   "metadata": {
    "collapsed": true,
    "jupyter": {
     "is_executing": true
    }
   },
   "outputs": [],
   "source": [
    "import warnings\n",
    "\n",
    "warnings.filterwarnings('ignore')"
   ]
  },
  {
   "cell_type": "code",
   "execution_count": 2,
   "id": "596838c4afe2d5fd",
   "metadata": {
    "jupyter": {
     "is_executing": true
    }
   },
   "outputs": [],
   "source": [
    "import numpy as np\n",
    "import matplotlib.pyplot as plt\n",
    "import seaborn as sns"
   ]
  },
  {
   "cell_type": "code",
   "execution_count": 3,
   "id": "cd28cb0ef4a45ac4",
   "metadata": {},
   "outputs": [
    {
     "name": "stderr",
     "output_type": "stream",
     "text": [
      "WARNING (pytensor.configdefaults): g++ not available, if using conda: `conda install gxx`\n",
      "WARNING (pytensor.configdefaults): g++ not detected!  PyTensor will be unable to compile C-implementations and will default to Python. Performance may be severely degraded. To remove this warning, set PyTensor flags cxx to an empty string.\n"
     ]
    },
    {
     "ename": "RuntimeError",
     "evalue": "jaxlib is version 0.4.21, but this version of jax requires version >= 0.4.34.",
     "output_type": "error",
     "traceback": [
      "\u001b[1;31m---------------------------------------------------------------------------\u001b[0m",
      "\u001b[1;31mRuntimeError\u001b[0m                              Traceback (most recent call last)",
      "Cell \u001b[1;32mIn[3], line 4\u001b[0m\n\u001b[0;32m      2\u001b[0m \u001b[38;5;28;01mimport\u001b[39;00m \u001b[38;5;21;01mbambi\u001b[39;00m \u001b[38;5;28;01mas\u001b[39;00m \u001b[38;5;21;01mbmb\u001b[39;00m\n\u001b[0;32m      3\u001b[0m \u001b[38;5;28;01mimport\u001b[39;00m \u001b[38;5;21;01mhddm_wfpt\u001b[39;00m\n\u001b[1;32m----> 4\u001b[0m \u001b[38;5;28;01mimport\u001b[39;00m \u001b[38;5;21;01mjax\u001b[39;00m\n\u001b[0;32m      5\u001b[0m \u001b[38;5;28;01mimport\u001b[39;00m \u001b[38;5;21;01mpytensor\u001b[39;00m\n\u001b[0;32m      7\u001b[0m \u001b[38;5;28;01mimport\u001b[39;00m \u001b[38;5;21;01mhssm\u001b[39;00m\n",
      "File \u001b[1;32m~\\AppData\\Local\\Packages\\PythonSoftwareFoundation.Python.3.10_qbz5n2kfra8p0\\LocalCache\\local-packages\\Python310\\site-packages\\jax\\__init__.py:25\u001b[0m\n\u001b[0;32m     22\u001b[0m \u001b[38;5;28;01mfrom\u001b[39;00m \u001b[38;5;21;01mjax\u001b[39;00m\u001b[38;5;21;01m.\u001b[39;00m\u001b[38;5;21;01mversion\u001b[39;00m \u001b[38;5;28;01mimport\u001b[39;00m __version_info__ \u001b[38;5;28;01mas\u001b[39;00m __version_info__\n\u001b[0;32m     24\u001b[0m \u001b[38;5;66;03m# Set Cloud TPU env vars if necessary before transitively loading C++ backend\u001b[39;00m\n\u001b[1;32m---> 25\u001b[0m \u001b[38;5;28;01mfrom\u001b[39;00m \u001b[38;5;21;01mjax\u001b[39;00m\u001b[38;5;21;01m.\u001b[39;00m\u001b[38;5;21;01m_src\u001b[39;00m\u001b[38;5;21;01m.\u001b[39;00m\u001b[38;5;21;01mcloud_tpu_init\u001b[39;00m \u001b[38;5;28;01mimport\u001b[39;00m cloud_tpu_init \u001b[38;5;28;01mas\u001b[39;00m _cloud_tpu_init\n\u001b[0;32m     26\u001b[0m \u001b[38;5;28;01mtry\u001b[39;00m:\n\u001b[0;32m     27\u001b[0m   _cloud_tpu_init()\n",
      "File \u001b[1;32m~\\AppData\\Local\\Packages\\PythonSoftwareFoundation.Python.3.10_qbz5n2kfra8p0\\LocalCache\\local-packages\\Python310\\site-packages\\jax\\_src\\cloud_tpu_init.py:17\u001b[0m\n\u001b[0;32m     15\u001b[0m \u001b[38;5;28;01mimport\u001b[39;00m \u001b[38;5;21;01mos\u001b[39;00m\n\u001b[0;32m     16\u001b[0m \u001b[38;5;28;01mfrom\u001b[39;00m \u001b[38;5;21;01mjax\u001b[39;00m \u001b[38;5;28;01mimport\u001b[39;00m version\n\u001b[1;32m---> 17\u001b[0m \u001b[38;5;28;01mfrom\u001b[39;00m \u001b[38;5;21;01mjax\u001b[39;00m\u001b[38;5;21;01m.\u001b[39;00m\u001b[38;5;21;01m_src\u001b[39;00m \u001b[38;5;28;01mimport\u001b[39;00m config\n\u001b[0;32m     18\u001b[0m \u001b[38;5;28;01mfrom\u001b[39;00m \u001b[38;5;21;01mjax\u001b[39;00m\u001b[38;5;21;01m.\u001b[39;00m\u001b[38;5;21;01m_src\u001b[39;00m \u001b[38;5;28;01mimport\u001b[39;00m hardware_utils\n\u001b[0;32m     20\u001b[0m running_in_cloud_tpu_vm: \u001b[38;5;28mbool\u001b[39m \u001b[38;5;241m=\u001b[39m \u001b[38;5;28;01mFalse\u001b[39;00m\n",
      "File \u001b[1;32m~\\AppData\\Local\\Packages\\PythonSoftwareFoundation.Python.3.10_qbz5n2kfra8p0\\LocalCache\\local-packages\\Python310\\site-packages\\jax\\_src\\config.py:27\u001b[0m\n\u001b[0;32m     24\u001b[0m \u001b[38;5;28;01mimport\u001b[39;00m \u001b[38;5;21;01mthreading\u001b[39;00m\n\u001b[0;32m     25\u001b[0m \u001b[38;5;28;01mfrom\u001b[39;00m \u001b[38;5;21;01mtyping\u001b[39;00m \u001b[38;5;28;01mimport\u001b[39;00m Any, Generic, NamedTuple, NoReturn, Protocol, TypeVar, cast\n\u001b[1;32m---> 27\u001b[0m \u001b[38;5;28;01mfrom\u001b[39;00m \u001b[38;5;21;01mjax\u001b[39;00m\u001b[38;5;21;01m.\u001b[39;00m\u001b[38;5;21;01m_src\u001b[39;00m \u001b[38;5;28;01mimport\u001b[39;00m lib\n\u001b[0;32m     28\u001b[0m \u001b[38;5;28;01mfrom\u001b[39;00m \u001b[38;5;21;01mjax\u001b[39;00m\u001b[38;5;21;01m.\u001b[39;00m\u001b[38;5;21;01m_src\u001b[39;00m\u001b[38;5;21;01m.\u001b[39;00m\u001b[38;5;21;01mlib\u001b[39;00m \u001b[38;5;28;01mimport\u001b[39;00m guard_lib\n\u001b[0;32m     29\u001b[0m \u001b[38;5;28;01mfrom\u001b[39;00m \u001b[38;5;21;01mjax\u001b[39;00m\u001b[38;5;21;01m.\u001b[39;00m\u001b[38;5;21;01m_src\u001b[39;00m\u001b[38;5;21;01m.\u001b[39;00m\u001b[38;5;21;01mlib\u001b[39;00m \u001b[38;5;28;01mimport\u001b[39;00m jax_jit\n",
      "File \u001b[1;32m~\\AppData\\Local\\Packages\\PythonSoftwareFoundation.Python.3.10_qbz5n2kfra8p0\\LocalCache\\local-packages\\Python310\\site-packages\\jax\\_src\\lib\\__init__.py:75\u001b[0m\n\u001b[0;32m     71\u001b[0m   \u001b[38;5;28;01mreturn\u001b[39;00m _jaxlib_version\n\u001b[0;32m     74\u001b[0m version_str \u001b[38;5;241m=\u001b[39m jaxlib\u001b[38;5;241m.\u001b[39mversion\u001b[38;5;241m.\u001b[39m__version__\n\u001b[1;32m---> 75\u001b[0m version \u001b[38;5;241m=\u001b[39m \u001b[43mcheck_jaxlib_version\u001b[49m\u001b[43m(\u001b[49m\n\u001b[0;32m     76\u001b[0m \u001b[43m  \u001b[49m\u001b[43mjax_version\u001b[49m\u001b[38;5;241;43m=\u001b[39;49m\u001b[43mjax\u001b[49m\u001b[38;5;241;43m.\u001b[39;49m\u001b[43mversion\u001b[49m\u001b[38;5;241;43m.\u001b[39;49m\u001b[43m__version__\u001b[49m\u001b[43m,\u001b[49m\n\u001b[0;32m     77\u001b[0m \u001b[43m  \u001b[49m\u001b[43mjaxlib_version\u001b[49m\u001b[38;5;241;43m=\u001b[39;49m\u001b[43mjaxlib\u001b[49m\u001b[38;5;241;43m.\u001b[39;49m\u001b[43mversion\u001b[49m\u001b[38;5;241;43m.\u001b[39;49m\u001b[43m__version__\u001b[49m\u001b[43m,\u001b[49m\n\u001b[0;32m     78\u001b[0m \u001b[43m  \u001b[49m\u001b[43mminimum_jaxlib_version\u001b[49m\u001b[38;5;241;43m=\u001b[39;49m\u001b[43mjax\u001b[49m\u001b[38;5;241;43m.\u001b[39;49m\u001b[43mversion\u001b[49m\u001b[38;5;241;43m.\u001b[39;49m\u001b[43m_minimum_jaxlib_version\u001b[49m\u001b[43m)\u001b[49m\n\u001b[0;32m     80\u001b[0m \u001b[38;5;66;03m# Before importing any C compiled modules from jaxlib, first import the CPU\u001b[39;00m\n\u001b[0;32m     81\u001b[0m \u001b[38;5;66;03m# feature guard module to verify that jaxlib was compiled in a way that only\u001b[39;00m\n\u001b[0;32m     82\u001b[0m \u001b[38;5;66;03m# uses instructions that are present on this machine.\u001b[39;00m\n\u001b[0;32m     83\u001b[0m \u001b[38;5;28;01mimport\u001b[39;00m \u001b[38;5;21;01mjaxlib\u001b[39;00m\u001b[38;5;21;01m.\u001b[39;00m\u001b[38;5;21;01mcpu_feature_guard\u001b[39;00m \u001b[38;5;28;01mas\u001b[39;00m \u001b[38;5;21;01mcpu_feature_guard\u001b[39;00m\n",
      "File \u001b[1;32m~\\AppData\\Local\\Packages\\PythonSoftwareFoundation.Python.3.10_qbz5n2kfra8p0\\LocalCache\\local-packages\\Python310\\site-packages\\jax\\_src\\lib\\__init__.py:64\u001b[0m, in \u001b[0;36mcheck_jaxlib_version\u001b[1;34m(jax_version, jaxlib_version, minimum_jaxlib_version)\u001b[0m\n\u001b[0;32m     61\u001b[0m \u001b[38;5;28;01mif\u001b[39;00m _jaxlib_version \u001b[38;5;241m<\u001b[39m _minimum_jaxlib_version:\n\u001b[0;32m     62\u001b[0m   msg \u001b[38;5;241m=\u001b[39m (\u001b[38;5;124mf\u001b[39m\u001b[38;5;124m'\u001b[39m\u001b[38;5;124mjaxlib is version \u001b[39m\u001b[38;5;132;01m{\u001b[39;00mjaxlib_version\u001b[38;5;132;01m}\u001b[39;00m\u001b[38;5;124m, but this version \u001b[39m\u001b[38;5;124m'\u001b[39m\n\u001b[0;32m     63\u001b[0m          \u001b[38;5;124mf\u001b[39m\u001b[38;5;124m'\u001b[39m\u001b[38;5;124mof jax requires version >= \u001b[39m\u001b[38;5;132;01m{\u001b[39;00mminimum_jaxlib_version\u001b[38;5;132;01m}\u001b[39;00m\u001b[38;5;124m.\u001b[39m\u001b[38;5;124m'\u001b[39m)\n\u001b[1;32m---> 64\u001b[0m   \u001b[38;5;28;01mraise\u001b[39;00m \u001b[38;5;167;01mRuntimeError\u001b[39;00m(msg)\n\u001b[0;32m     66\u001b[0m \u001b[38;5;28;01mif\u001b[39;00m _jaxlib_version \u001b[38;5;241m>\u001b[39m _jax_version:\n\u001b[0;32m     67\u001b[0m   \u001b[38;5;28;01mraise\u001b[39;00m \u001b[38;5;167;01mRuntimeError\u001b[39;00m(\n\u001b[0;32m     68\u001b[0m       \u001b[38;5;124mf\u001b[39m\u001b[38;5;124m'\u001b[39m\u001b[38;5;124mjaxlib version \u001b[39m\u001b[38;5;132;01m{\u001b[39;00mjaxlib_version\u001b[38;5;132;01m}\u001b[39;00m\u001b[38;5;124m is newer than and \u001b[39m\u001b[38;5;124m'\u001b[39m\n\u001b[0;32m     69\u001b[0m       \u001b[38;5;124mf\u001b[39m\u001b[38;5;124m'\u001b[39m\u001b[38;5;124mincompatible with jax version \u001b[39m\u001b[38;5;132;01m{\u001b[39;00mjax_version\u001b[38;5;132;01m}\u001b[39;00m\u001b[38;5;124m. Please \u001b[39m\u001b[38;5;124m'\u001b[39m\n\u001b[0;32m     70\u001b[0m       \u001b[38;5;124m'\u001b[39m\u001b[38;5;124mupdate your jax and/or jaxlib packages.\u001b[39m\u001b[38;5;124m'\u001b[39m)\n",
      "\u001b[1;31mRuntimeError\u001b[0m: jaxlib is version 0.4.21, but this version of jax requires version >= 0.4.34."
     ]
    }
   ],
   "source": [
    "import arviz as az\n",
    "import bambi as bmb\n",
    "import hddm_wfpt\n",
    "import jax\n",
    "import pytensor\n",
    "\n",
    "import hssm"
   ]
  },
  {
   "cell_type": "code",
   "execution_count": 5,
   "id": "c4c79b58",
   "metadata": {},
   "outputs": [
    {
     "ename": "NameError",
     "evalue": "name 'jaxlib' is not defined",
     "output_type": "error",
     "traceback": [
      "\u001b[1;31m---------------------------------------------------------------------------\u001b[0m",
      "\u001b[1;31mNameError\u001b[0m                                 Traceback (most recent call last)",
      "Cell \u001b[1;32mIn[5], line 1\u001b[0m\n\u001b[1;32m----> 1\u001b[0m \u001b[43mjaxlib\u001b[49m\u001b[38;5;241m.\u001b[39m__version__\n",
      "\u001b[1;31mNameError\u001b[0m: name 'jaxlib' is not defined"
     ]
    }
   ],
   "source": [
    "jaxlib.__version__"
   ]
  },
  {
   "cell_type": "code",
   "execution_count": 11,
   "id": "9deb7545",
   "metadata": {},
   "outputs": [],
   "source": [
    "RNG = np.random.default_rng(seed=2025)\n",
    "np.set_printoptions(suppress=True)"
   ]
  },
  {
   "cell_type": "code",
   "execution_count": 12,
   "id": "c5ab9799",
   "metadata": {},
   "outputs": [],
   "source": [
    "pytensor.config.floatX = \"float32\"\n",
    "jax.config.update(\"jax_enable_x64\", False)"
   ]
  },
  {
   "cell_type": "code",
   "execution_count": 13,
   "id": "e7ec92a0",
   "metadata": {},
   "outputs": [],
   "source": [
    "true_params = {\n",
    "    \"v\": 0.5,\n",
    "    \"a\": 1.5,\n",
    "    \"z\": 0.5,\n",
    "    \"t\": 0.5\n",
    "}"
   ]
  },
  {
   "cell_type": "code",
   "execution_count": 14,
   "id": "a100dd71",
   "metadata": {},
   "outputs": [],
   "source": [
    "dataset = hssm.simulate_data(model=\"ddm\", theta=true_params, size=1000)"
   ]
  },
  {
   "cell_type": "code",
   "execution_count": 15,
   "id": "7f858966",
   "metadata": {},
   "outputs": [
    {
     "data": {
      "application/vnd.microsoft.datawrangler.viewer.v0+json": {
       "columns": [
        {
         "name": "index",
         "rawType": "int64",
         "type": "integer"
        },
        {
         "name": "rt",
         "rawType": "float64",
         "type": "float"
        },
        {
         "name": "response",
         "rawType": "float64",
         "type": "float"
        }
       ],
       "conversionMethod": "pd.DataFrame",
       "ref": "06c9809d-51e9-40e9-98fa-926062dda95f",
       "rows": [
        [
         "0",
         "1.7047042846679688",
         "1.0"
        ],
        [
         "1",
         "3.108257532119751",
         "1.0"
        ],
        [
         "2",
         "1.8387303352355957",
         "1.0"
        ],
        [
         "3",
         "0.6745446920394897",
         "1.0"
        ],
        [
         "4",
         "1.2711181640625",
         "1.0"
        ],
        [
         "5",
         "3.6297900676727295",
         "1.0"
        ],
        [
         "6",
         "3.4050965309143066",
         "-1.0"
        ],
        [
         "7",
         "1.0741798877716064",
         "1.0"
        ],
        [
         "8",
         "0.9521464705467224",
         "1.0"
        ],
        [
         "9",
         "6.117311477661133",
         "1.0"
        ],
        [
         "10",
         "4.24189567565918",
         "-1.0"
        ],
        [
         "11",
         "1.7734884023666382",
         "1.0"
        ],
        [
         "12",
         "2.2925004959106445",
         "-1.0"
        ],
        [
         "13",
         "2.463301658630371",
         "-1.0"
        ],
        [
         "14",
         "2.5854830741882324",
         "1.0"
        ],
        [
         "15",
         "2.6532139778137207",
         "1.0"
        ],
        [
         "16",
         "1.3056224584579468",
         "1.0"
        ],
        [
         "17",
         "0.9142711758613586",
         "1.0"
        ],
        [
         "18",
         "0.880185604095459",
         "-1.0"
        ],
        [
         "19",
         "3.134150266647339",
         "1.0"
        ],
        [
         "20",
         "5.048405170440674",
         "1.0"
        ],
        [
         "21",
         "4.093739032745361",
         "1.0"
        ],
        [
         "22",
         "2.6735875606536865",
         "1.0"
        ],
        [
         "23",
         "0.927143394947052",
         "1.0"
        ],
        [
         "24",
         "2.16414475440979",
         "1.0"
        ],
        [
         "25",
         "1.5179641246795654",
         "1.0"
        ],
        [
         "26",
         "3.1916847229003906",
         "1.0"
        ],
        [
         "27",
         "1.5703314542770386",
         "1.0"
        ],
        [
         "28",
         "5.014423370361328",
         "1.0"
        ],
        [
         "29",
         "1.1621371507644653",
         "-1.0"
        ],
        [
         "30",
         "1.0549675226211548",
         "-1.0"
        ],
        [
         "31",
         "4.461972713470459",
         "1.0"
        ],
        [
         "32",
         "1.5621130466461182",
         "1.0"
        ],
        [
         "33",
         "1.7714556455612183",
         "1.0"
        ],
        [
         "34",
         "1.3332961797714233",
         "-1.0"
        ],
        [
         "35",
         "2.4280667304992676",
         "1.0"
        ],
        [
         "36",
         "7.801658630371094",
         "1.0"
        ],
        [
         "37",
         "1.8480881452560425",
         "1.0"
        ],
        [
         "38",
         "0.8839453458786011",
         "-1.0"
        ],
        [
         "39",
         "1.1123417615890503",
         "1.0"
        ],
        [
         "40",
         "2.0428483486175537",
         "1.0"
        ],
        [
         "41",
         "2.41555118560791",
         "-1.0"
        ],
        [
         "42",
         "2.043328046798706",
         "1.0"
        ],
        [
         "43",
         "0.7513357400894165",
         "1.0"
        ],
        [
         "44",
         "1.7782771587371826",
         "-1.0"
        ],
        [
         "45",
         "2.0102689266204834",
         "1.0"
        ],
        [
         "46",
         "3.5539309978485107",
         "1.0"
        ],
        [
         "47",
         "0.9592156410217285",
         "1.0"
        ],
        [
         "48",
         "2.489717721939087",
         "1.0"
        ],
        [
         "49",
         "2.3850300312042236",
         "-1.0"
        ]
       ],
       "shape": {
        "columns": 2,
        "rows": 1000
       }
      },
      "text/html": [
       "<div>\n",
       "<style scoped>\n",
       "    .dataframe tbody tr th:only-of-type {\n",
       "        vertical-align: middle;\n",
       "    }\n",
       "\n",
       "    .dataframe tbody tr th {\n",
       "        vertical-align: top;\n",
       "    }\n",
       "\n",
       "    .dataframe thead th {\n",
       "        text-align: right;\n",
       "    }\n",
       "</style>\n",
       "<table border=\"1\" class=\"dataframe\">\n",
       "  <thead>\n",
       "    <tr style=\"text-align: right;\">\n",
       "      <th></th>\n",
       "      <th>rt</th>\n",
       "      <th>response</th>\n",
       "    </tr>\n",
       "  </thead>\n",
       "  <tbody>\n",
       "    <tr>\n",
       "      <th>0</th>\n",
       "      <td>1.704704</td>\n",
       "      <td>1.0</td>\n",
       "    </tr>\n",
       "    <tr>\n",
       "      <th>1</th>\n",
       "      <td>3.108258</td>\n",
       "      <td>1.0</td>\n",
       "    </tr>\n",
       "    <tr>\n",
       "      <th>2</th>\n",
       "      <td>1.838730</td>\n",
       "      <td>1.0</td>\n",
       "    </tr>\n",
       "    <tr>\n",
       "      <th>3</th>\n",
       "      <td>0.674545</td>\n",
       "      <td>1.0</td>\n",
       "    </tr>\n",
       "    <tr>\n",
       "      <th>4</th>\n",
       "      <td>1.271118</td>\n",
       "      <td>1.0</td>\n",
       "    </tr>\n",
       "    <tr>\n",
       "      <th>...</th>\n",
       "      <td>...</td>\n",
       "      <td>...</td>\n",
       "    </tr>\n",
       "    <tr>\n",
       "      <th>995</th>\n",
       "      <td>1.969554</td>\n",
       "      <td>1.0</td>\n",
       "    </tr>\n",
       "    <tr>\n",
       "      <th>996</th>\n",
       "      <td>3.676566</td>\n",
       "      <td>1.0</td>\n",
       "    </tr>\n",
       "    <tr>\n",
       "      <th>997</th>\n",
       "      <td>0.799636</td>\n",
       "      <td>1.0</td>\n",
       "    </tr>\n",
       "    <tr>\n",
       "      <th>998</th>\n",
       "      <td>2.761686</td>\n",
       "      <td>1.0</td>\n",
       "    </tr>\n",
       "    <tr>\n",
       "      <th>999</th>\n",
       "      <td>1.790918</td>\n",
       "      <td>1.0</td>\n",
       "    </tr>\n",
       "  </tbody>\n",
       "</table>\n",
       "<p>1000 rows × 2 columns</p>\n",
       "</div>"
      ],
      "text/plain": [
       "           rt  response\n",
       "0    1.704704       1.0\n",
       "1    3.108258       1.0\n",
       "2    1.838730       1.0\n",
       "3    0.674545       1.0\n",
       "4    1.271118       1.0\n",
       "..        ...       ...\n",
       "995  1.969554       1.0\n",
       "996  3.676566       1.0\n",
       "997  0.799636       1.0\n",
       "998  2.761686       1.0\n",
       "999  1.790918       1.0\n",
       "\n",
       "[1000 rows x 2 columns]"
      ]
     },
     "execution_count": 15,
     "metadata": {},
     "output_type": "execute_result"
    }
   ],
   "source": [
    "dataset"
   ]
  },
  {
   "cell_type": "code",
   "execution_count": 18,
   "id": "2cbeb3f0",
   "metadata": {},
   "outputs": [
    {
     "data": {
      "text/plain": [
       "<Axes: xlabel='rt', ylabel='Count'>"
      ]
     },
     "execution_count": 18,
     "metadata": {},
     "output_type": "execute_result"
    },
    {
     "data": {
      "image/png": "[encoded data removed]",
      "text/plain": [
       "<Figure size 640x480 with 1 Axes>"
      ]
     },
     "metadata": {},
     "output_type": "display_data"
    }
   ],
   "source": [
    "sns.histplot(dataset.rt)"
   ]
  },
  {
   "cell_type": "code",
   "execution_count": 21,
   "id": "ed3f4aac",
   "metadata": {},
   "outputs": [
    {
     "name": "stderr",
     "output_type": "stream",
     "text": [
      "ERROR (pytensor.graph.rewriting.basic): Rewrite failure due to: constant_folding\n",
      "ERROR (pytensor.graph.rewriting.basic): node: Le(0.0, 20.0)\n",
      "ERROR (pytensor.graph.rewriting.basic): TRACEBACK:\n",
      "ERROR (pytensor.graph.rewriting.basic): Traceback (most recent call last):\n",
      "  File \"c:\\Users\\Gerald Wong\\.conda\\envs\\hssm-play\\lib\\site-packages\\pytensor\\graph\\rewriting\\basic.py\", line 1922, in process_node\n",
      "    replacements = node_rewriter.transform(fgraph, node)\n",
      "  File \"c:\\Users\\Gerald Wong\\.conda\\envs\\hssm-play\\lib\\site-packages\\pytensor\\graph\\rewriting\\basic.py\", line 1086, in transform\n",
      "    return self.fn(fgraph, node)\n",
      "  File \"c:\\Users\\Gerald Wong\\.conda\\envs\\hssm-play\\lib\\site-packages\\pytensor\\tensor\\rewriting\\basic.py\", line 1173, in constant_folding\n",
      "    return unconditional_constant_folding.transform(fgraph, node)\n",
      "  File \"c:\\Users\\Gerald Wong\\.conda\\envs\\hssm-play\\lib\\site-packages\\pytensor\\graph\\rewriting\\basic.py\", line 1086, in transform\n",
      "    return self.fn(fgraph, node)\n",
      "  File \"c:\\Users\\Gerald Wong\\.conda\\envs\\hssm-play\\lib\\site-packages\\pytensor\\tensor\\rewriting\\basic.py\", line 1122, in unconditional_constant_folding\n",
      "    thunk = node.op.make_thunk(node, storage_map, compute_map, no_recycling=[])\n",
      "  File \"c:\\Users\\Gerald Wong\\.conda\\envs\\hssm-play\\lib\\site-packages\\pytensor\\link\\c\\op.py\", line 119, in make_thunk\n",
      "    return self.make_c_thunk(node, storage_map, compute_map, no_recycling)\n",
      "  File \"c:\\Users\\Gerald Wong\\.conda\\envs\\hssm-play\\lib\\site-packages\\pytensor\\link\\c\\op.py\", line 84, in make_c_thunk\n",
      "    outputs = cl.make_thunk(\n",
      "  File \"c:\\Users\\Gerald Wong\\.conda\\envs\\hssm-play\\lib\\site-packages\\pytensor\\link\\c\\basic.py\", line 1185, in make_thunk\n",
      "    cthunk, module, in_storage, out_storage, error_storage = self.__compile__(\n",
      "  File \"c:\\Users\\Gerald Wong\\.conda\\envs\\hssm-play\\lib\\site-packages\\pytensor\\link\\c\\basic.py\", line 1102, in __compile__\n",
      "    thunk, module = self.cthunk_factory(\n",
      "  File \"c:\\Users\\Gerald Wong\\.conda\\envs\\hssm-play\\lib\\site-packages\\pytensor\\link\\c\\basic.py\", line 1626, in cthunk_factory\n",
      "    module = cache.module_from_key(key=key, lnk=self)\n",
      "  File \"c:\\Users\\Gerald Wong\\.conda\\envs\\hssm-play\\lib\\site-packages\\pytensor\\link\\c\\cmodule.py\", line 1250, in module_from_key\n",
      "    module = lnk.compile_cmodule(location)\n",
      "  File \"c:\\Users\\Gerald Wong\\.conda\\envs\\hssm-play\\lib\\site-packages\\pytensor\\link\\c\\basic.py\", line 1527, in compile_cmodule\n",
      "    module = c_compiler.compile_str(\n",
      "  File \"c:\\Users\\Gerald Wong\\.conda\\envs\\hssm-play\\lib\\site-packages\\pytensor\\link\\c\\cmodule.py\", line 2676, in compile_str\n",
      "    raise CompileError(\n",
      "pytensor.link.c.exceptions.CompileError: Compilation failed (return status=1):\n",
      "\"C:\\Users\\Gerald Wong\\.conda\\envs\\hssm-play\\Library\\bin\\g++.EXE\" -shared -g -O3 -fno-math-errno -Wno-unused-label -Wno-unused-variable -Wno-write-strings -Wno-c++11-narrowing -fno-exceptions -fno-unwind-tables -fno-asynchronous-unwind-tables -DNPY_NO_DEPRECATED_API=NPY_1_7_API_VERSION -m64 -DMS_WIN64 -I\"c:\\Users\\Gerald Wong\\.conda\\envs\\hssm-play\\lib\\site-packages\\numpy\\core\\include\" -I\"c:\\Users\\Gerald Wong\\.conda\\envs\\hssm-play\\include\" -I\"c:\\Users\\Gerald Wong\\.conda\\envs\\hssm-play\\lib\\site-packages\\pytensor\\link\\c\\c_code\" -L\"c:\\Users\\Gerald Wong\\.conda\\envs\\hssm-play\\libs\" -L\"c:\\Users\\Gerald Wong\\.conda\\envs\\hssm-play\" -o \"C:\\Users\\Gerald Wong\\AppData\\Local\\PyTensor\\compiledir_Windows-10-10.0.26100-SP0-Intel64_Family_6_Model_154_Stepping_3_GenuineIntel-3.10.16-64\\tmpo9v2ljbw\\m351cee309b3a772f0ada42412e9bb467763f329fb211f2b5d43f901c4d892c83.pyd\" \"C:\\Users\\Gerald Wong\\AppData\\Local\\PyTensor\\compiledir_Windows-10-10.0.26100-SP0-Intel64_Family_6_Model_154_Stepping_3_GenuineIntel-3.10.16-64\\tmpo9v2ljbw\\mod.cpp\" \"c:\\Users\\Gerald Wong\\.conda\\envs\\hssm-play\\python310.dll\"\n",
      "C:/Users/Gerald Wong/.conda/envs/hssm-play/Library/bin/../lib/gcc/x86_64-w64-mingw32/13.3.0/../../../../x86_64-w64-mingw32/bin/ld.exe: cannot find Wong/.conda/envs/hssm-play/Library/lib: No such file or directory\n",
      "collect2.exe: error: ld returned 1 exit status\n",
      "\n",
      "\n"
     ]
    },
    {
     "name": "stdout",
     "output_type": "stream",
     "text": [
      "\n",
      "You can find the C code in this temporary file: C:\\Users\\GERALD~1\\AppData\\Local\\Temp\\pytensor_compilation_error_r29r3c_j\n"
     ]
    },
    {
     "name": "stderr",
     "output_type": "stream",
     "text": [
      "ERROR (pytensor.graph.rewriting.basic): Rewrite failure due to: constant_folding\n",
      "ERROR (pytensor.graph.rewriting.basic): node: ExpandDims{axis=0}(-inf)\n",
      "ERROR (pytensor.graph.rewriting.basic): TRACEBACK:\n",
      "ERROR (pytensor.graph.rewriting.basic): Traceback (most recent call last):\n",
      "  File \"c:\\Users\\Gerald Wong\\.conda\\envs\\hssm-play\\lib\\site-packages\\pytensor\\graph\\rewriting\\basic.py\", line 1922, in process_node\n",
      "    replacements = node_rewriter.transform(fgraph, node)\n",
      "  File \"c:\\Users\\Gerald Wong\\.conda\\envs\\hssm-play\\lib\\site-packages\\pytensor\\graph\\rewriting\\basic.py\", line 1086, in transform\n",
      "    return self.fn(fgraph, node)\n",
      "  File \"c:\\Users\\Gerald Wong\\.conda\\envs\\hssm-play\\lib\\site-packages\\pytensor\\tensor\\rewriting\\basic.py\", line 1173, in constant_folding\n",
      "    return unconditional_constant_folding.transform(fgraph, node)\n",
      "  File \"c:\\Users\\Gerald Wong\\.conda\\envs\\hssm-play\\lib\\site-packages\\pytensor\\graph\\rewriting\\basic.py\", line 1086, in transform\n",
      "    return self.fn(fgraph, node)\n",
      "  File \"c:\\Users\\Gerald Wong\\.conda\\envs\\hssm-play\\lib\\site-packages\\pytensor\\tensor\\rewriting\\basic.py\", line 1122, in unconditional_constant_folding\n",
      "    thunk = node.op.make_thunk(node, storage_map, compute_map, no_recycling=[])\n",
      "  File \"c:\\Users\\Gerald Wong\\.conda\\envs\\hssm-play\\lib\\site-packages\\pytensor\\link\\c\\op.py\", line 119, in make_thunk\n",
      "    return self.make_c_thunk(node, storage_map, compute_map, no_recycling)\n",
      "  File \"c:\\Users\\Gerald Wong\\.conda\\envs\\hssm-play\\lib\\site-packages\\pytensor\\link\\c\\op.py\", line 84, in make_c_thunk\n",
      "    outputs = cl.make_thunk(\n",
      "  File \"c:\\Users\\Gerald Wong\\.conda\\envs\\hssm-play\\lib\\site-packages\\pytensor\\link\\c\\basic.py\", line 1185, in make_thunk\n",
      "    cthunk, module, in_storage, out_storage, error_storage = self.__compile__(\n",
      "  File \"c:\\Users\\Gerald Wong\\.conda\\envs\\hssm-play\\lib\\site-packages\\pytensor\\link\\c\\basic.py\", line 1102, in __compile__\n",
      "    thunk, module = self.cthunk_factory(\n",
      "  File \"c:\\Users\\Gerald Wong\\.conda\\envs\\hssm-play\\lib\\site-packages\\pytensor\\link\\c\\basic.py\", line 1626, in cthunk_factory\n",
      "    module = cache.module_from_key(key=key, lnk=self)\n",
      "  File \"c:\\Users\\Gerald Wong\\.conda\\envs\\hssm-play\\lib\\site-packages\\pytensor\\link\\c\\cmodule.py\", line 1250, in module_from_key\n",
      "    module = lnk.compile_cmodule(location)\n",
      "  File \"c:\\Users\\Gerald Wong\\.conda\\envs\\hssm-play\\lib\\site-packages\\pytensor\\link\\c\\basic.py\", line 1527, in compile_cmodule\n",
      "    module = c_compiler.compile_str(\n",
      "  File \"c:\\Users\\Gerald Wong\\.conda\\envs\\hssm-play\\lib\\site-packages\\pytensor\\link\\c\\cmodule.py\", line 2676, in compile_str\n",
      "    raise CompileError(\n",
      "pytensor.link.c.exceptions.CompileError: Compilation failed (return status=1):\n",
      "\"C:\\Users\\Gerald Wong\\.conda\\envs\\hssm-play\\Library\\bin\\g++.EXE\" -shared -g -O3 -fno-math-errno -Wno-unused-label -Wno-unused-variable -Wno-write-strings -Wno-c++11-narrowing -fno-exceptions -fno-unwind-tables -fno-asynchronous-unwind-tables -DNPY_NO_DEPRECATED_API=NPY_1_7_API_VERSION -m64 -DMS_WIN64 -I\"c:\\Users\\Gerald Wong\\.conda\\envs\\hssm-play\\lib\\site-packages\\numpy\\core\\include\" -I\"c:\\Users\\Gerald Wong\\.conda\\envs\\hssm-play\\include\" -I\"c:\\Users\\Gerald Wong\\.conda\\envs\\hssm-play\\lib\\site-packages\\pytensor\\link\\c\\c_code\" -L\"c:\\Users\\Gerald Wong\\.conda\\envs\\hssm-play\\libs\" -L\"c:\\Users\\Gerald Wong\\.conda\\envs\\hssm-play\" -o \"C:\\Users\\Gerald Wong\\AppData\\Local\\PyTensor\\compiledir_Windows-10-10.0.26100-SP0-Intel64_Family_6_Model_154_Stepping_3_GenuineIntel-3.10.16-64\\tmpivw0wkud\\m592274835bee3bcf7bf2cb65b70477fb2a0214df94b73fac749e4ac5fb9f3e01.pyd\" \"C:\\Users\\Gerald Wong\\AppData\\Local\\PyTensor\\compiledir_Windows-10-10.0.26100-SP0-Intel64_Family_6_Model_154_Stepping_3_GenuineIntel-3.10.16-64\\tmpivw0wkud\\mod.cpp\" \"c:\\Users\\Gerald Wong\\.conda\\envs\\hssm-play\\python310.dll\"\n",
      "C:/Users/Gerald Wong/.conda/envs/hssm-play/Library/bin/../lib/gcc/x86_64-w64-mingw32/13.3.0/../../../../x86_64-w64-mingw32/bin/ld.exe: cannot find Wong/.conda/envs/hssm-play/Library/lib: No such file or directory\n",
      "collect2.exe: error: ld returned 1 exit status\n",
      "\n",
      "\n"
     ]
    },
    {
     "name": "stdout",
     "output_type": "stream",
     "text": [
      "\n",
      "You can find the C code in this temporary file: C:\\Users\\GERALD~1\\AppData\\Local\\Temp\\pytensor_compilation_error_x7foo6aj\n"
     ]
    },
    {
     "name": "stderr",
     "output_type": "stream",
     "text": [
      "ERROR (pytensor.graph.rewriting.basic): Rewrite failure due to: constant_folding\n",
      "ERROR (pytensor.graph.rewriting.basic): node: ExpandDims{axis=0}(20.0)\n",
      "ERROR (pytensor.graph.rewriting.basic): TRACEBACK:\n",
      "ERROR (pytensor.graph.rewriting.basic): Traceback (most recent call last):\n",
      "  File \"c:\\Users\\Gerald Wong\\.conda\\envs\\hssm-play\\lib\\site-packages\\pytensor\\graph\\rewriting\\basic.py\", line 1922, in process_node\n",
      "    replacements = node_rewriter.transform(fgraph, node)\n",
      "  File \"c:\\Users\\Gerald Wong\\.conda\\envs\\hssm-play\\lib\\site-packages\\pytensor\\graph\\rewriting\\basic.py\", line 1086, in transform\n",
      "    return self.fn(fgraph, node)\n",
      "  File \"c:\\Users\\Gerald Wong\\.conda\\envs\\hssm-play\\lib\\site-packages\\pytensor\\tensor\\rewriting\\basic.py\", line 1173, in constant_folding\n",
      "    return unconditional_constant_folding.transform(fgraph, node)\n",
      "  File \"c:\\Users\\Gerald Wong\\.conda\\envs\\hssm-play\\lib\\site-packages\\pytensor\\graph\\rewriting\\basic.py\", line 1086, in transform\n",
      "    return self.fn(fgraph, node)\n",
      "  File \"c:\\Users\\Gerald Wong\\.conda\\envs\\hssm-play\\lib\\site-packages\\pytensor\\tensor\\rewriting\\basic.py\", line 1122, in unconditional_constant_folding\n",
      "    thunk = node.op.make_thunk(node, storage_map, compute_map, no_recycling=[])\n",
      "  File \"c:\\Users\\Gerald Wong\\.conda\\envs\\hssm-play\\lib\\site-packages\\pytensor\\link\\c\\op.py\", line 119, in make_thunk\n",
      "    return self.make_c_thunk(node, storage_map, compute_map, no_recycling)\n",
      "  File \"c:\\Users\\Gerald Wong\\.conda\\envs\\hssm-play\\lib\\site-packages\\pytensor\\link\\c\\op.py\", line 84, in make_c_thunk\n",
      "    outputs = cl.make_thunk(\n",
      "  File \"c:\\Users\\Gerald Wong\\.conda\\envs\\hssm-play\\lib\\site-packages\\pytensor\\link\\c\\basic.py\", line 1185, in make_thunk\n",
      "    cthunk, module, in_storage, out_storage, error_storage = self.__compile__(\n",
      "  File \"c:\\Users\\Gerald Wong\\.conda\\envs\\hssm-play\\lib\\site-packages\\pytensor\\link\\c\\basic.py\", line 1102, in __compile__\n",
      "    thunk, module = self.cthunk_factory(\n",
      "  File \"c:\\Users\\Gerald Wong\\.conda\\envs\\hssm-play\\lib\\site-packages\\pytensor\\link\\c\\basic.py\", line 1626, in cthunk_factory\n",
      "    module = cache.module_from_key(key=key, lnk=self)\n",
      "  File \"c:\\Users\\Gerald Wong\\.conda\\envs\\hssm-play\\lib\\site-packages\\pytensor\\link\\c\\cmodule.py\", line 1250, in module_from_key\n",
      "    module = lnk.compile_cmodule(location)\n",
      "  File \"c:\\Users\\Gerald Wong\\.conda\\envs\\hssm-play\\lib\\site-packages\\pytensor\\link\\c\\basic.py\", line 1527, in compile_cmodule\n",
      "    module = c_compiler.compile_str(\n",
      "  File \"c:\\Users\\Gerald Wong\\.conda\\envs\\hssm-play\\lib\\site-packages\\pytensor\\link\\c\\cmodule.py\", line 2676, in compile_str\n",
      "    raise CompileError(\n",
      "pytensor.link.c.exceptions.CompileError: Compilation failed (return status=1):\n",
      "\"C:\\Users\\Gerald Wong\\.conda\\envs\\hssm-play\\Library\\bin\\g++.EXE\" -shared -g -O3 -fno-math-errno -Wno-unused-label -Wno-unused-variable -Wno-write-strings -Wno-c++11-narrowing -fno-exceptions -fno-unwind-tables -fno-asynchronous-unwind-tables -DNPY_NO_DEPRECATED_API=NPY_1_7_API_VERSION -m64 -DMS_WIN64 -I\"c:\\Users\\Gerald Wong\\.conda\\envs\\hssm-play\\lib\\site-packages\\numpy\\core\\include\" -I\"c:\\Users\\Gerald Wong\\.conda\\envs\\hssm-play\\include\" -I\"c:\\Users\\Gerald Wong\\.conda\\envs\\hssm-play\\lib\\site-packages\\pytensor\\link\\c\\c_code\" -L\"c:\\Users\\Gerald Wong\\.conda\\envs\\hssm-play\\libs\" -L\"c:\\Users\\Gerald Wong\\.conda\\envs\\hssm-play\" -o \"C:\\Users\\Gerald Wong\\AppData\\Local\\PyTensor\\compiledir_Windows-10-10.0.26100-SP0-Intel64_Family_6_Model_154_Stepping_3_GenuineIntel-3.10.16-64\\tmpnqg2q547\\m52592e18fb66ba378e5be6fe9bccf91a7fa21d4d238285546214d2f3b9d3aec5.pyd\" \"C:\\Users\\Gerald Wong\\AppData\\Local\\PyTensor\\compiledir_Windows-10-10.0.26100-SP0-Intel64_Family_6_Model_154_Stepping_3_GenuineIntel-3.10.16-64\\tmpnqg2q547\\mod.cpp\" \"c:\\Users\\Gerald Wong\\.conda\\envs\\hssm-play\\python310.dll\"\n",
      "C:/Users/Gerald Wong/.conda/envs/hssm-play/Library/bin/../lib/gcc/x86_64-w64-mingw32/13.3.0/../../../../x86_64-w64-mingw32/bin/ld.exe: cannot find Wong/.conda/envs/hssm-play/Library/lib: No such file or directory\n",
      "collect2.exe: error: ld returned 1 exit status\n",
      "\n",
      "\n"
     ]
    },
    {
     "name": "stdout",
     "output_type": "stream",
     "text": [
      "\n",
      "You can find the C code in this temporary file: C:\\Users\\GERALD~1\\AppData\\Local\\Temp\\pytensor_compilation_error_0l7n6ens\n"
     ]
    },
    {
     "name": "stderr",
     "output_type": "stream",
     "text": [
      "ERROR (pytensor.graph.rewriting.basic): Rewrite failure due to: constant_folding\n",
      "ERROR (pytensor.graph.rewriting.basic): node: ExpandDims{axis=0}(-1.0)\n",
      "ERROR (pytensor.graph.rewriting.basic): TRACEBACK:\n",
      "ERROR (pytensor.graph.rewriting.basic): Traceback (most recent call last):\n",
      "  File \"c:\\Users\\Gerald Wong\\.conda\\envs\\hssm-play\\lib\\site-packages\\pytensor\\graph\\rewriting\\basic.py\", line 1922, in process_node\n",
      "    replacements = node_rewriter.transform(fgraph, node)\n",
      "  File \"c:\\Users\\Gerald Wong\\.conda\\envs\\hssm-play\\lib\\site-packages\\pytensor\\graph\\rewriting\\basic.py\", line 1086, in transform\n",
      "    return self.fn(fgraph, node)\n",
      "  File \"c:\\Users\\Gerald Wong\\.conda\\envs\\hssm-play\\lib\\site-packages\\pytensor\\tensor\\rewriting\\basic.py\", line 1173, in constant_folding\n",
      "    return unconditional_constant_folding.transform(fgraph, node)\n",
      "  File \"c:\\Users\\Gerald Wong\\.conda\\envs\\hssm-play\\lib\\site-packages\\pytensor\\graph\\rewriting\\basic.py\", line 1086, in transform\n",
      "    return self.fn(fgraph, node)\n",
      "  File \"c:\\Users\\Gerald Wong\\.conda\\envs\\hssm-play\\lib\\site-packages\\pytensor\\tensor\\rewriting\\basic.py\", line 1122, in unconditional_constant_folding\n",
      "    thunk = node.op.make_thunk(node, storage_map, compute_map, no_recycling=[])\n",
      "  File \"c:\\Users\\Gerald Wong\\.conda\\envs\\hssm-play\\lib\\site-packages\\pytensor\\link\\c\\op.py\", line 119, in make_thunk\n",
      "    return self.make_c_thunk(node, storage_map, compute_map, no_recycling)\n",
      "  File \"c:\\Users\\Gerald Wong\\.conda\\envs\\hssm-play\\lib\\site-packages\\pytensor\\link\\c\\op.py\", line 84, in make_c_thunk\n",
      "    outputs = cl.make_thunk(\n",
      "  File \"c:\\Users\\Gerald Wong\\.conda\\envs\\hssm-play\\lib\\site-packages\\pytensor\\link\\c\\basic.py\", line 1185, in make_thunk\n",
      "    cthunk, module, in_storage, out_storage, error_storage = self.__compile__(\n",
      "  File \"c:\\Users\\Gerald Wong\\.conda\\envs\\hssm-play\\lib\\site-packages\\pytensor\\link\\c\\basic.py\", line 1102, in __compile__\n",
      "    thunk, module = self.cthunk_factory(\n",
      "  File \"c:\\Users\\Gerald Wong\\.conda\\envs\\hssm-play\\lib\\site-packages\\pytensor\\link\\c\\basic.py\", line 1626, in cthunk_factory\n",
      "    module = cache.module_from_key(key=key, lnk=self)\n",
      "  File \"c:\\Users\\Gerald Wong\\.conda\\envs\\hssm-play\\lib\\site-packages\\pytensor\\link\\c\\cmodule.py\", line 1250, in module_from_key\n",
      "    module = lnk.compile_cmodule(location)\n",
      "  File \"c:\\Users\\Gerald Wong\\.conda\\envs\\hssm-play\\lib\\site-packages\\pytensor\\link\\c\\basic.py\", line 1527, in compile_cmodule\n",
      "    module = c_compiler.compile_str(\n",
      "  File \"c:\\Users\\Gerald Wong\\.conda\\envs\\hssm-play\\lib\\site-packages\\pytensor\\link\\c\\cmodule.py\", line 2676, in compile_str\n",
      "    raise CompileError(\n",
      "pytensor.link.c.exceptions.CompileError: Compilation failed (return status=1):\n",
      "\"C:\\Users\\Gerald Wong\\.conda\\envs\\hssm-play\\Library\\bin\\g++.EXE\" -shared -g -O3 -fno-math-errno -Wno-unused-label -Wno-unused-variable -Wno-write-strings -Wno-c++11-narrowing -fno-exceptions -fno-unwind-tables -fno-asynchronous-unwind-tables -DNPY_NO_DEPRECATED_API=NPY_1_7_API_VERSION -m64 -DMS_WIN64 -I\"c:\\Users\\Gerald Wong\\.conda\\envs\\hssm-play\\lib\\site-packages\\numpy\\core\\include\" -I\"c:\\Users\\Gerald Wong\\.conda\\envs\\hssm-play\\include\" -I\"c:\\Users\\Gerald Wong\\.conda\\envs\\hssm-play\\lib\\site-packages\\pytensor\\link\\c\\c_code\" -L\"c:\\Users\\Gerald Wong\\.conda\\envs\\hssm-play\\libs\" -L\"c:\\Users\\Gerald Wong\\.conda\\envs\\hssm-play\" -o \"C:\\Users\\Gerald Wong\\AppData\\Local\\PyTensor\\compiledir_Windows-10-10.0.26100-SP0-Intel64_Family_6_Model_154_Stepping_3_GenuineIntel-3.10.16-64\\tmp4htsw7b1\\m52592e18fb66ba378e5be6fe9bccf91a7fa21d4d238285546214d2f3b9d3aec5.pyd\" \"C:\\Users\\Gerald Wong\\AppData\\Local\\PyTensor\\compiledir_Windows-10-10.0.26100-SP0-Intel64_Family_6_Model_154_Stepping_3_GenuineIntel-3.10.16-64\\tmp4htsw7b1\\mod.cpp\" \"c:\\Users\\Gerald Wong\\.conda\\envs\\hssm-play\\python310.dll\"\n",
      "C:/Users/Gerald Wong/.conda/envs/hssm-play/Library/bin/../lib/gcc/x86_64-w64-mingw32/13.3.0/../../../../x86_64-w64-mingw32/bin/ld.exe: cannot find Wong/.conda/envs/hssm-play/Library/lib: No such file or directory\n",
      "collect2.exe: error: ld returned 1 exit status\n",
      "\n",
      "\n"
     ]
    },
    {
     "name": "stdout",
     "output_type": "stream",
     "text": [
      "\n",
      "You can find the C code in this temporary file: C:\\Users\\GERALD~1\\AppData\\Local\\Temp\\pytensor_compilation_error_l293psm7\n"
     ]
    },
    {
     "name": "stderr",
     "output_type": "stream",
     "text": [
      "ERROR (pytensor.graph.rewriting.basic): Rewrite failure due to: constant_folding\n",
      "ERROR (pytensor.graph.rewriting.basic): node: ExpandDims{axis=0}(0.0)\n",
      "ERROR (pytensor.graph.rewriting.basic): TRACEBACK:\n",
      "ERROR (pytensor.graph.rewriting.basic): Traceback (most recent call last):\n",
      "  File \"c:\\Users\\Gerald Wong\\.conda\\envs\\hssm-play\\lib\\site-packages\\pytensor\\graph\\rewriting\\basic.py\", line 1922, in process_node\n",
      "    replacements = node_rewriter.transform(fgraph, node)\n",
      "  File \"c:\\Users\\Gerald Wong\\.conda\\envs\\hssm-play\\lib\\site-packages\\pytensor\\graph\\rewriting\\basic.py\", line 1086, in transform\n",
      "    return self.fn(fgraph, node)\n",
      "  File \"c:\\Users\\Gerald Wong\\.conda\\envs\\hssm-play\\lib\\site-packages\\pytensor\\tensor\\rewriting\\basic.py\", line 1173, in constant_folding\n",
      "    return unconditional_constant_folding.transform(fgraph, node)\n",
      "  File \"c:\\Users\\Gerald Wong\\.conda\\envs\\hssm-play\\lib\\site-packages\\pytensor\\graph\\rewriting\\basic.py\", line 1086, in transform\n",
      "    return self.fn(fgraph, node)\n",
      "  File \"c:\\Users\\Gerald Wong\\.conda\\envs\\hssm-play\\lib\\site-packages\\pytensor\\tensor\\rewriting\\basic.py\", line 1122, in unconditional_constant_folding\n",
      "    thunk = node.op.make_thunk(node, storage_map, compute_map, no_recycling=[])\n",
      "  File \"c:\\Users\\Gerald Wong\\.conda\\envs\\hssm-play\\lib\\site-packages\\pytensor\\link\\c\\op.py\", line 119, in make_thunk\n",
      "    return self.make_c_thunk(node, storage_map, compute_map, no_recycling)\n",
      "  File \"c:\\Users\\Gerald Wong\\.conda\\envs\\hssm-play\\lib\\site-packages\\pytensor\\link\\c\\op.py\", line 84, in make_c_thunk\n",
      "    outputs = cl.make_thunk(\n",
      "  File \"c:\\Users\\Gerald Wong\\.conda\\envs\\hssm-play\\lib\\site-packages\\pytensor\\link\\c\\basic.py\", line 1185, in make_thunk\n",
      "    cthunk, module, in_storage, out_storage, error_storage = self.__compile__(\n",
      "  File \"c:\\Users\\Gerald Wong\\.conda\\envs\\hssm-play\\lib\\site-packages\\pytensor\\link\\c\\basic.py\", line 1102, in __compile__\n",
      "    thunk, module = self.cthunk_factory(\n",
      "  File \"c:\\Users\\Gerald Wong\\.conda\\envs\\hssm-play\\lib\\site-packages\\pytensor\\link\\c\\basic.py\", line 1626, in cthunk_factory\n",
      "    module = cache.module_from_key(key=key, lnk=self)\n",
      "  File \"c:\\Users\\Gerald Wong\\.conda\\envs\\hssm-play\\lib\\site-packages\\pytensor\\link\\c\\cmodule.py\", line 1250, in module_from_key\n",
      "    module = lnk.compile_cmodule(location)\n",
      "  File \"c:\\Users\\Gerald Wong\\.conda\\envs\\hssm-play\\lib\\site-packages\\pytensor\\link\\c\\basic.py\", line 1527, in compile_cmodule\n",
      "    module = c_compiler.compile_str(\n",
      "  File \"c:\\Users\\Gerald Wong\\.conda\\envs\\hssm-play\\lib\\site-packages\\pytensor\\link\\c\\cmodule.py\", line 2676, in compile_str\n",
      "    raise CompileError(\n",
      "pytensor.link.c.exceptions.CompileError: Compilation failed (return status=1):\n",
      "\"C:\\Users\\Gerald Wong\\.conda\\envs\\hssm-play\\Library\\bin\\g++.EXE\" -shared -g -O3 -fno-math-errno -Wno-unused-label -Wno-unused-variable -Wno-write-strings -Wno-c++11-narrowing -fno-exceptions -fno-unwind-tables -fno-asynchronous-unwind-tables -DNPY_NO_DEPRECATED_API=NPY_1_7_API_VERSION -m64 -DMS_WIN64 -I\"c:\\Users\\Gerald Wong\\.conda\\envs\\hssm-play\\lib\\site-packages\\numpy\\core\\include\" -I\"c:\\Users\\Gerald Wong\\.conda\\envs\\hssm-play\\include\" -I\"c:\\Users\\Gerald Wong\\.conda\\envs\\hssm-play\\lib\\site-packages\\pytensor\\link\\c\\c_code\" -L\"c:\\Users\\Gerald Wong\\.conda\\envs\\hssm-play\\libs\" -L\"c:\\Users\\Gerald Wong\\.conda\\envs\\hssm-play\" -o \"C:\\Users\\Gerald Wong\\AppData\\Local\\PyTensor\\compiledir_Windows-10-10.0.26100-SP0-Intel64_Family_6_Model_154_Stepping_3_GenuineIntel-3.10.16-64\\tmpnxs3g_sj\\m52592e18fb66ba378e5be6fe9bccf91a7fa21d4d238285546214d2f3b9d3aec5.pyd\" \"C:\\Users\\Gerald Wong\\AppData\\Local\\PyTensor\\compiledir_Windows-10-10.0.26100-SP0-Intel64_Family_6_Model_154_Stepping_3_GenuineIntel-3.10.16-64\\tmpnxs3g_sj\\mod.cpp\" \"c:\\Users\\Gerald Wong\\.conda\\envs\\hssm-play\\python310.dll\"\n",
      "C:/Users/Gerald Wong/.conda/envs/hssm-play/Library/bin/../lib/gcc/x86_64-w64-mingw32/13.3.0/../../../../x86_64-w64-mingw32/bin/ld.exe: cannot find Wong/.conda/envs/hssm-play/Library/lib: No such file or directory\n",
      "collect2.exe: error: ld returned 1 exit status\n",
      "\n",
      "\n"
     ]
    },
    {
     "name": "stdout",
     "output_type": "stream",
     "text": [
      "\n",
      "You can find the C code in this temporary file: C:\\Users\\GERALD~1\\AppData\\Local\\Temp\\pytensor_compilation_error_cdzj166v\n"
     ]
    },
    {
     "name": "stderr",
     "output_type": "stream",
     "text": [
      "ERROR (pytensor.graph.rewriting.basic): Rewrite failure due to: constant_folding\n",
      "ERROR (pytensor.graph.rewriting.basic): node: Le(0.0, 20.0)\n",
      "ERROR (pytensor.graph.rewriting.basic): TRACEBACK:\n",
      "ERROR (pytensor.graph.rewriting.basic): Traceback (most recent call last):\n",
      "  File \"c:\\Users\\Gerald Wong\\.conda\\envs\\hssm-play\\lib\\site-packages\\pytensor\\graph\\rewriting\\basic.py\", line 1922, in process_node\n",
      "    replacements = node_rewriter.transform(fgraph, node)\n",
      "  File \"c:\\Users\\Gerald Wong\\.conda\\envs\\hssm-play\\lib\\site-packages\\pytensor\\graph\\rewriting\\basic.py\", line 1086, in transform\n",
      "    return self.fn(fgraph, node)\n",
      "  File \"c:\\Users\\Gerald Wong\\.conda\\envs\\hssm-play\\lib\\site-packages\\pytensor\\tensor\\rewriting\\basic.py\", line 1173, in constant_folding\n",
      "    return unconditional_constant_folding.transform(fgraph, node)\n",
      "  File \"c:\\Users\\Gerald Wong\\.conda\\envs\\hssm-play\\lib\\site-packages\\pytensor\\graph\\rewriting\\basic.py\", line 1086, in transform\n",
      "    return self.fn(fgraph, node)\n",
      "  File \"c:\\Users\\Gerald Wong\\.conda\\envs\\hssm-play\\lib\\site-packages\\pytensor\\tensor\\rewriting\\basic.py\", line 1122, in unconditional_constant_folding\n",
      "    thunk = node.op.make_thunk(node, storage_map, compute_map, no_recycling=[])\n",
      "  File \"c:\\Users\\Gerald Wong\\.conda\\envs\\hssm-play\\lib\\site-packages\\pytensor\\link\\c\\op.py\", line 119, in make_thunk\n",
      "    return self.make_c_thunk(node, storage_map, compute_map, no_recycling)\n",
      "  File \"c:\\Users\\Gerald Wong\\.conda\\envs\\hssm-play\\lib\\site-packages\\pytensor\\link\\c\\op.py\", line 84, in make_c_thunk\n",
      "    outputs = cl.make_thunk(\n",
      "  File \"c:\\Users\\Gerald Wong\\.conda\\envs\\hssm-play\\lib\\site-packages\\pytensor\\link\\c\\basic.py\", line 1185, in make_thunk\n",
      "    cthunk, module, in_storage, out_storage, error_storage = self.__compile__(\n",
      "  File \"c:\\Users\\Gerald Wong\\.conda\\envs\\hssm-play\\lib\\site-packages\\pytensor\\link\\c\\basic.py\", line 1102, in __compile__\n",
      "    thunk, module = self.cthunk_factory(\n",
      "  File \"c:\\Users\\Gerald Wong\\.conda\\envs\\hssm-play\\lib\\site-packages\\pytensor\\link\\c\\basic.py\", line 1626, in cthunk_factory\n",
      "    module = cache.module_from_key(key=key, lnk=self)\n",
      "  File \"c:\\Users\\Gerald Wong\\.conda\\envs\\hssm-play\\lib\\site-packages\\pytensor\\link\\c\\cmodule.py\", line 1250, in module_from_key\n",
      "    module = lnk.compile_cmodule(location)\n",
      "  File \"c:\\Users\\Gerald Wong\\.conda\\envs\\hssm-play\\lib\\site-packages\\pytensor\\link\\c\\basic.py\", line 1527, in compile_cmodule\n",
      "    module = c_compiler.compile_str(\n",
      "  File \"c:\\Users\\Gerald Wong\\.conda\\envs\\hssm-play\\lib\\site-packages\\pytensor\\link\\c\\cmodule.py\", line 2676, in compile_str\n",
      "    raise CompileError(\n",
      "pytensor.link.c.exceptions.CompileError: Compilation failed (return status=1):\n",
      "\"C:\\Users\\Gerald Wong\\.conda\\envs\\hssm-play\\Library\\bin\\g++.EXE\" -shared -g -O3 -fno-math-errno -Wno-unused-label -Wno-unused-variable -Wno-write-strings -Wno-c++11-narrowing -fno-exceptions -fno-unwind-tables -fno-asynchronous-unwind-tables -DNPY_NO_DEPRECATED_API=NPY_1_7_API_VERSION -m64 -DMS_WIN64 -I\"c:\\Users\\Gerald Wong\\.conda\\envs\\hssm-play\\lib\\site-packages\\numpy\\core\\include\" -I\"c:\\Users\\Gerald Wong\\.conda\\envs\\hssm-play\\include\" -I\"c:\\Users\\Gerald Wong\\.conda\\envs\\hssm-play\\lib\\site-packages\\pytensor\\link\\c\\c_code\" -L\"c:\\Users\\Gerald Wong\\.conda\\envs\\hssm-play\\libs\" -L\"c:\\Users\\Gerald Wong\\.conda\\envs\\hssm-play\" -o \"C:\\Users\\Gerald Wong\\AppData\\Local\\PyTensor\\compiledir_Windows-10-10.0.26100-SP0-Intel64_Family_6_Model_154_Stepping_3_GenuineIntel-3.10.16-64\\tmp1al8x7se\\m351cee309b3a772f0ada42412e9bb467763f329fb211f2b5d43f901c4d892c83.pyd\" \"C:\\Users\\Gerald Wong\\AppData\\Local\\PyTensor\\compiledir_Windows-10-10.0.26100-SP0-Intel64_Family_6_Model_154_Stepping_3_GenuineIntel-3.10.16-64\\tmp1al8x7se\\mod.cpp\" \"c:\\Users\\Gerald Wong\\.conda\\envs\\hssm-play\\python310.dll\"\n",
      "C:/Users/Gerald Wong/.conda/envs/hssm-play/Library/bin/../lib/gcc/x86_64-w64-mingw32/13.3.0/../../../../x86_64-w64-mingw32/bin/ld.exe: cannot find Wong/.conda/envs/hssm-play/Library/lib: No such file or directory\n",
      "collect2.exe: error: ld returned 1 exit status\n",
      "\n",
      "\n"
     ]
    },
    {
     "name": "stdout",
     "output_type": "stream",
     "text": [
      "\n",
      "You can find the C code in this temporary file: C:\\Users\\GERALD~1\\AppData\\Local\\Temp\\pytensor_compilation_error_mauy268k\n"
     ]
    },
    {
     "name": "stderr",
     "output_type": "stream",
     "text": [
      "ERROR (pytensor.graph.rewriting.basic): Rewrite failure due to: constant_folding\n",
      "ERROR (pytensor.graph.rewriting.basic): node: ExpandDims{axis=0}(-inf)\n",
      "ERROR (pytensor.graph.rewriting.basic): TRACEBACK:\n",
      "ERROR (pytensor.graph.rewriting.basic): Traceback (most recent call last):\n",
      "  File \"c:\\Users\\Gerald Wong\\.conda\\envs\\hssm-play\\lib\\site-packages\\pytensor\\graph\\rewriting\\basic.py\", line 1922, in process_node\n",
      "    replacements = node_rewriter.transform(fgraph, node)\n",
      "  File \"c:\\Users\\Gerald Wong\\.conda\\envs\\hssm-play\\lib\\site-packages\\pytensor\\graph\\rewriting\\basic.py\", line 1086, in transform\n",
      "    return self.fn(fgraph, node)\n",
      "  File \"c:\\Users\\Gerald Wong\\.conda\\envs\\hssm-play\\lib\\site-packages\\pytensor\\tensor\\rewriting\\basic.py\", line 1173, in constant_folding\n",
      "    return unconditional_constant_folding.transform(fgraph, node)\n",
      "  File \"c:\\Users\\Gerald Wong\\.conda\\envs\\hssm-play\\lib\\site-packages\\pytensor\\graph\\rewriting\\basic.py\", line 1086, in transform\n",
      "    return self.fn(fgraph, node)\n",
      "  File \"c:\\Users\\Gerald Wong\\.conda\\envs\\hssm-play\\lib\\site-packages\\pytensor\\tensor\\rewriting\\basic.py\", line 1122, in unconditional_constant_folding\n",
      "    thunk = node.op.make_thunk(node, storage_map, compute_map, no_recycling=[])\n",
      "  File \"c:\\Users\\Gerald Wong\\.conda\\envs\\hssm-play\\lib\\site-packages\\pytensor\\link\\c\\op.py\", line 119, in make_thunk\n",
      "    return self.make_c_thunk(node, storage_map, compute_map, no_recycling)\n",
      "  File \"c:\\Users\\Gerald Wong\\.conda\\envs\\hssm-play\\lib\\site-packages\\pytensor\\link\\c\\op.py\", line 84, in make_c_thunk\n",
      "    outputs = cl.make_thunk(\n",
      "  File \"c:\\Users\\Gerald Wong\\.conda\\envs\\hssm-play\\lib\\site-packages\\pytensor\\link\\c\\basic.py\", line 1185, in make_thunk\n",
      "    cthunk, module, in_storage, out_storage, error_storage = self.__compile__(\n",
      "  File \"c:\\Users\\Gerald Wong\\.conda\\envs\\hssm-play\\lib\\site-packages\\pytensor\\link\\c\\basic.py\", line 1102, in __compile__\n",
      "    thunk, module = self.cthunk_factory(\n",
      "  File \"c:\\Users\\Gerald Wong\\.conda\\envs\\hssm-play\\lib\\site-packages\\pytensor\\link\\c\\basic.py\", line 1626, in cthunk_factory\n",
      "    module = cache.module_from_key(key=key, lnk=self)\n",
      "  File \"c:\\Users\\Gerald Wong\\.conda\\envs\\hssm-play\\lib\\site-packages\\pytensor\\link\\c\\cmodule.py\", line 1250, in module_from_key\n",
      "    module = lnk.compile_cmodule(location)\n",
      "  File \"c:\\Users\\Gerald Wong\\.conda\\envs\\hssm-play\\lib\\site-packages\\pytensor\\link\\c\\basic.py\", line 1527, in compile_cmodule\n",
      "    module = c_compiler.compile_str(\n",
      "  File \"c:\\Users\\Gerald Wong\\.conda\\envs\\hssm-play\\lib\\site-packages\\pytensor\\link\\c\\cmodule.py\", line 2676, in compile_str\n",
      "    raise CompileError(\n",
      "pytensor.link.c.exceptions.CompileError: Compilation failed (return status=1):\n",
      "\"C:\\Users\\Gerald Wong\\.conda\\envs\\hssm-play\\Library\\bin\\g++.EXE\" -shared -g -O3 -fno-math-errno -Wno-unused-label -Wno-unused-variable -Wno-write-strings -Wno-c++11-narrowing -fno-exceptions -fno-unwind-tables -fno-asynchronous-unwind-tables -DNPY_NO_DEPRECATED_API=NPY_1_7_API_VERSION -m64 -DMS_WIN64 -I\"c:\\Users\\Gerald Wong\\.conda\\envs\\hssm-play\\lib\\site-packages\\numpy\\core\\include\" -I\"c:\\Users\\Gerald Wong\\.conda\\envs\\hssm-play\\include\" -I\"c:\\Users\\Gerald Wong\\.conda\\envs\\hssm-play\\lib\\site-packages\\pytensor\\link\\c\\c_code\" -L\"c:\\Users\\Gerald Wong\\.conda\\envs\\hssm-play\\libs\" -L\"c:\\Users\\Gerald Wong\\.conda\\envs\\hssm-play\" -o \"C:\\Users\\Gerald Wong\\AppData\\Local\\PyTensor\\compiledir_Windows-10-10.0.26100-SP0-Intel64_Family_6_Model_154_Stepping_3_GenuineIntel-3.10.16-64\\tmp1w1vu2c5\\m592274835bee3bcf7bf2cb65b70477fb2a0214df94b73fac749e4ac5fb9f3e01.pyd\" \"C:\\Users\\Gerald Wong\\AppData\\Local\\PyTensor\\compiledir_Windows-10-10.0.26100-SP0-Intel64_Family_6_Model_154_Stepping_3_GenuineIntel-3.10.16-64\\tmp1w1vu2c5\\mod.cpp\" \"c:\\Users\\Gerald Wong\\.conda\\envs\\hssm-play\\python310.dll\"\n",
      "C:/Users/Gerald Wong/.conda/envs/hssm-play/Library/bin/../lib/gcc/x86_64-w64-mingw32/13.3.0/../../../../x86_64-w64-mingw32/bin/ld.exe: cannot find Wong/.conda/envs/hssm-play/Library/lib: No such file or directory\n",
      "collect2.exe: error: ld returned 1 exit status\n",
      "\n",
      "\n"
     ]
    },
    {
     "name": "stdout",
     "output_type": "stream",
     "text": [
      "\n",
      "You can find the C code in this temporary file: C:\\Users\\GERALD~1\\AppData\\Local\\Temp\\pytensor_compilation_error_c2jrz5xh\n"
     ]
    },
    {
     "name": "stderr",
     "output_type": "stream",
     "text": [
      "ERROR (pytensor.graph.rewriting.basic): Rewrite failure due to: constant_folding\n",
      "ERROR (pytensor.graph.rewriting.basic): node: ExpandDims{axis=0}(20.0)\n",
      "ERROR (pytensor.graph.rewriting.basic): TRACEBACK:\n",
      "ERROR (pytensor.graph.rewriting.basic): Traceback (most recent call last):\n",
      "  File \"c:\\Users\\Gerald Wong\\.conda\\envs\\hssm-play\\lib\\site-packages\\pytensor\\graph\\rewriting\\basic.py\", line 1922, in process_node\n",
      "    replacements = node_rewriter.transform(fgraph, node)\n",
      "  File \"c:\\Users\\Gerald Wong\\.conda\\envs\\hssm-play\\lib\\site-packages\\pytensor\\graph\\rewriting\\basic.py\", line 1086, in transform\n",
      "    return self.fn(fgraph, node)\n",
      "  File \"c:\\Users\\Gerald Wong\\.conda\\envs\\hssm-play\\lib\\site-packages\\pytensor\\tensor\\rewriting\\basic.py\", line 1173, in constant_folding\n",
      "    return unconditional_constant_folding.transform(fgraph, node)\n",
      "  File \"c:\\Users\\Gerald Wong\\.conda\\envs\\hssm-play\\lib\\site-packages\\pytensor\\graph\\rewriting\\basic.py\", line 1086, in transform\n",
      "    return self.fn(fgraph, node)\n",
      "  File \"c:\\Users\\Gerald Wong\\.conda\\envs\\hssm-play\\lib\\site-packages\\pytensor\\tensor\\rewriting\\basic.py\", line 1122, in unconditional_constant_folding\n",
      "    thunk = node.op.make_thunk(node, storage_map, compute_map, no_recycling=[])\n",
      "  File \"c:\\Users\\Gerald Wong\\.conda\\envs\\hssm-play\\lib\\site-packages\\pytensor\\link\\c\\op.py\", line 119, in make_thunk\n",
      "    return self.make_c_thunk(node, storage_map, compute_map, no_recycling)\n",
      "  File \"c:\\Users\\Gerald Wong\\.conda\\envs\\hssm-play\\lib\\site-packages\\pytensor\\link\\c\\op.py\", line 84, in make_c_thunk\n",
      "    outputs = cl.make_thunk(\n",
      "  File \"c:\\Users\\Gerald Wong\\.conda\\envs\\hssm-play\\lib\\site-packages\\pytensor\\link\\c\\basic.py\", line 1185, in make_thunk\n",
      "    cthunk, module, in_storage, out_storage, error_storage = self.__compile__(\n",
      "  File \"c:\\Users\\Gerald Wong\\.conda\\envs\\hssm-play\\lib\\site-packages\\pytensor\\link\\c\\basic.py\", line 1102, in __compile__\n",
      "    thunk, module = self.cthunk_factory(\n",
      "  File \"c:\\Users\\Gerald Wong\\.conda\\envs\\hssm-play\\lib\\site-packages\\pytensor\\link\\c\\basic.py\", line 1626, in cthunk_factory\n",
      "    module = cache.module_from_key(key=key, lnk=self)\n",
      "  File \"c:\\Users\\Gerald Wong\\.conda\\envs\\hssm-play\\lib\\site-packages\\pytensor\\link\\c\\cmodule.py\", line 1250, in module_from_key\n",
      "    module = lnk.compile_cmodule(location)\n",
      "  File \"c:\\Users\\Gerald Wong\\.conda\\envs\\hssm-play\\lib\\site-packages\\pytensor\\link\\c\\basic.py\", line 1527, in compile_cmodule\n",
      "    module = c_compiler.compile_str(\n",
      "  File \"c:\\Users\\Gerald Wong\\.conda\\envs\\hssm-play\\lib\\site-packages\\pytensor\\link\\c\\cmodule.py\", line 2676, in compile_str\n",
      "    raise CompileError(\n",
      "pytensor.link.c.exceptions.CompileError: Compilation failed (return status=1):\n",
      "\"C:\\Users\\Gerald Wong\\.conda\\envs\\hssm-play\\Library\\bin\\g++.EXE\" -shared -g -O3 -fno-math-errno -Wno-unused-label -Wno-unused-variable -Wno-write-strings -Wno-c++11-narrowing -fno-exceptions -fno-unwind-tables -fno-asynchronous-unwind-tables -DNPY_NO_DEPRECATED_API=NPY_1_7_API_VERSION -m64 -DMS_WIN64 -I\"c:\\Users\\Gerald Wong\\.conda\\envs\\hssm-play\\lib\\site-packages\\numpy\\core\\include\" -I\"c:\\Users\\Gerald Wong\\.conda\\envs\\hssm-play\\include\" -I\"c:\\Users\\Gerald Wong\\.conda\\envs\\hssm-play\\lib\\site-packages\\pytensor\\link\\c\\c_code\" -L\"c:\\Users\\Gerald Wong\\.conda\\envs\\hssm-play\\libs\" -L\"c:\\Users\\Gerald Wong\\.conda\\envs\\hssm-play\" -o \"C:\\Users\\Gerald Wong\\AppData\\Local\\PyTensor\\compiledir_Windows-10-10.0.26100-SP0-Intel64_Family_6_Model_154_Stepping_3_GenuineIntel-3.10.16-64\\tmpq1kyif3y\\m52592e18fb66ba378e5be6fe9bccf91a7fa21d4d238285546214d2f3b9d3aec5.pyd\" \"C:\\Users\\Gerald Wong\\AppData\\Local\\PyTensor\\compiledir_Windows-10-10.0.26100-SP0-Intel64_Family_6_Model_154_Stepping_3_GenuineIntel-3.10.16-64\\tmpq1kyif3y\\mod.cpp\" \"c:\\Users\\Gerald Wong\\.conda\\envs\\hssm-play\\python310.dll\"\n",
      "C:/Users/Gerald Wong/.conda/envs/hssm-play/Library/bin/../lib/gcc/x86_64-w64-mingw32/13.3.0/../../../../x86_64-w64-mingw32/bin/ld.exe: cannot find Wong/.conda/envs/hssm-play/Library/lib: No such file or directory\n",
      "collect2.exe: error: ld returned 1 exit status\n",
      "\n",
      "\n"
     ]
    },
    {
     "name": "stdout",
     "output_type": "stream",
     "text": [
      "\n",
      "You can find the C code in this temporary file: C:\\Users\\GERALD~1\\AppData\\Local\\Temp\\pytensor_compilation_error_7j9wyic7\n"
     ]
    },
    {
     "name": "stderr",
     "output_type": "stream",
     "text": [
      "ERROR (pytensor.graph.rewriting.basic): Rewrite failure due to: constant_folding\n",
      "ERROR (pytensor.graph.rewriting.basic): node: ExpandDims{axis=0}(-1.0)\n",
      "ERROR (pytensor.graph.rewriting.basic): TRACEBACK:\n",
      "ERROR (pytensor.graph.rewriting.basic): Traceback (most recent call last):\n",
      "  File \"c:\\Users\\Gerald Wong\\.conda\\envs\\hssm-play\\lib\\site-packages\\pytensor\\graph\\rewriting\\basic.py\", line 1922, in process_node\n",
      "    replacements = node_rewriter.transform(fgraph, node)\n",
      "  File \"c:\\Users\\Gerald Wong\\.conda\\envs\\hssm-play\\lib\\site-packages\\pytensor\\graph\\rewriting\\basic.py\", line 1086, in transform\n",
      "    return self.fn(fgraph, node)\n",
      "  File \"c:\\Users\\Gerald Wong\\.conda\\envs\\hssm-play\\lib\\site-packages\\pytensor\\tensor\\rewriting\\basic.py\", line 1173, in constant_folding\n",
      "    return unconditional_constant_folding.transform(fgraph, node)\n",
      "  File \"c:\\Users\\Gerald Wong\\.conda\\envs\\hssm-play\\lib\\site-packages\\pytensor\\graph\\rewriting\\basic.py\", line 1086, in transform\n",
      "    return self.fn(fgraph, node)\n",
      "  File \"c:\\Users\\Gerald Wong\\.conda\\envs\\hssm-play\\lib\\site-packages\\pytensor\\tensor\\rewriting\\basic.py\", line 1122, in unconditional_constant_folding\n",
      "    thunk = node.op.make_thunk(node, storage_map, compute_map, no_recycling=[])\n",
      "  File \"c:\\Users\\Gerald Wong\\.conda\\envs\\hssm-play\\lib\\site-packages\\pytensor\\link\\c\\op.py\", line 119, in make_thunk\n",
      "    return self.make_c_thunk(node, storage_map, compute_map, no_recycling)\n",
      "  File \"c:\\Users\\Gerald Wong\\.conda\\envs\\hssm-play\\lib\\site-packages\\pytensor\\link\\c\\op.py\", line 84, in make_c_thunk\n",
      "    outputs = cl.make_thunk(\n",
      "  File \"c:\\Users\\Gerald Wong\\.conda\\envs\\hssm-play\\lib\\site-packages\\pytensor\\link\\c\\basic.py\", line 1185, in make_thunk\n",
      "    cthunk, module, in_storage, out_storage, error_storage = self.__compile__(\n",
      "  File \"c:\\Users\\Gerald Wong\\.conda\\envs\\hssm-play\\lib\\site-packages\\pytensor\\link\\c\\basic.py\", line 1102, in __compile__\n",
      "    thunk, module = self.cthunk_factory(\n",
      "  File \"c:\\Users\\Gerald Wong\\.conda\\envs\\hssm-play\\lib\\site-packages\\pytensor\\link\\c\\basic.py\", line 1626, in cthunk_factory\n",
      "    module = cache.module_from_key(key=key, lnk=self)\n",
      "  File \"c:\\Users\\Gerald Wong\\.conda\\envs\\hssm-play\\lib\\site-packages\\pytensor\\link\\c\\cmodule.py\", line 1250, in module_from_key\n",
      "    module = lnk.compile_cmodule(location)\n",
      "  File \"c:\\Users\\Gerald Wong\\.conda\\envs\\hssm-play\\lib\\site-packages\\pytensor\\link\\c\\basic.py\", line 1527, in compile_cmodule\n",
      "    module = c_compiler.compile_str(\n",
      "  File \"c:\\Users\\Gerald Wong\\.conda\\envs\\hssm-play\\lib\\site-packages\\pytensor\\link\\c\\cmodule.py\", line 2676, in compile_str\n",
      "    raise CompileError(\n",
      "pytensor.link.c.exceptions.CompileError: Compilation failed (return status=1):\n",
      "\"C:\\Users\\Gerald Wong\\.conda\\envs\\hssm-play\\Library\\bin\\g++.EXE\" -shared -g -O3 -fno-math-errno -Wno-unused-label -Wno-unused-variable -Wno-write-strings -Wno-c++11-narrowing -fno-exceptions -fno-unwind-tables -fno-asynchronous-unwind-tables -DNPY_NO_DEPRECATED_API=NPY_1_7_API_VERSION -m64 -DMS_WIN64 -I\"c:\\Users\\Gerald Wong\\.conda\\envs\\hssm-play\\lib\\site-packages\\numpy\\core\\include\" -I\"c:\\Users\\Gerald Wong\\.conda\\envs\\hssm-play\\include\" -I\"c:\\Users\\Gerald Wong\\.conda\\envs\\hssm-play\\lib\\site-packages\\pytensor\\link\\c\\c_code\" -L\"c:\\Users\\Gerald Wong\\.conda\\envs\\hssm-play\\libs\" -L\"c:\\Users\\Gerald Wong\\.conda\\envs\\hssm-play\" -o \"C:\\Users\\Gerald Wong\\AppData\\Local\\PyTensor\\compiledir_Windows-10-10.0.26100-SP0-Intel64_Family_6_Model_154_Stepping_3_GenuineIntel-3.10.16-64\\tmpznq87zxe\\m52592e18fb66ba378e5be6fe9bccf91a7fa21d4d238285546214d2f3b9d3aec5.pyd\" \"C:\\Users\\Gerald Wong\\AppData\\Local\\PyTensor\\compiledir_Windows-10-10.0.26100-SP0-Intel64_Family_6_Model_154_Stepping_3_GenuineIntel-3.10.16-64\\tmpznq87zxe\\mod.cpp\" \"c:\\Users\\Gerald Wong\\.conda\\envs\\hssm-play\\python310.dll\"\n",
      "C:/Users/Gerald Wong/.conda/envs/hssm-play/Library/bin/../lib/gcc/x86_64-w64-mingw32/13.3.0/../../../../x86_64-w64-mingw32/bin/ld.exe: cannot find Wong/.conda/envs/hssm-play/Library/lib: No such file or directory\n",
      "collect2.exe: error: ld returned 1 exit status\n",
      "\n",
      "\n"
     ]
    },
    {
     "name": "stdout",
     "output_type": "stream",
     "text": [
      "\n",
      "You can find the C code in this temporary file: C:\\Users\\GERALD~1\\AppData\\Local\\Temp\\pytensor_compilation_error_1bdxu00b\n"
     ]
    },
    {
     "name": "stderr",
     "output_type": "stream",
     "text": [
      "ERROR (pytensor.graph.rewriting.basic): Rewrite failure due to: constant_folding\n",
      "ERROR (pytensor.graph.rewriting.basic): node: ExpandDims{axis=0}(0.0)\n",
      "ERROR (pytensor.graph.rewriting.basic): TRACEBACK:\n",
      "ERROR (pytensor.graph.rewriting.basic): Traceback (most recent call last):\n",
      "  File \"c:\\Users\\Gerald Wong\\.conda\\envs\\hssm-play\\lib\\site-packages\\pytensor\\graph\\rewriting\\basic.py\", line 1922, in process_node\n",
      "    replacements = node_rewriter.transform(fgraph, node)\n",
      "  File \"c:\\Users\\Gerald Wong\\.conda\\envs\\hssm-play\\lib\\site-packages\\pytensor\\graph\\rewriting\\basic.py\", line 1086, in transform\n",
      "    return self.fn(fgraph, node)\n",
      "  File \"c:\\Users\\Gerald Wong\\.conda\\envs\\hssm-play\\lib\\site-packages\\pytensor\\tensor\\rewriting\\basic.py\", line 1173, in constant_folding\n",
      "    return unconditional_constant_folding.transform(fgraph, node)\n",
      "  File \"c:\\Users\\Gerald Wong\\.conda\\envs\\hssm-play\\lib\\site-packages\\pytensor\\graph\\rewriting\\basic.py\", line 1086, in transform\n",
      "    return self.fn(fgraph, node)\n",
      "  File \"c:\\Users\\Gerald Wong\\.conda\\envs\\hssm-play\\lib\\site-packages\\pytensor\\tensor\\rewriting\\basic.py\", line 1122, in unconditional_constant_folding\n",
      "    thunk = node.op.make_thunk(node, storage_map, compute_map, no_recycling=[])\n",
      "  File \"c:\\Users\\Gerald Wong\\.conda\\envs\\hssm-play\\lib\\site-packages\\pytensor\\link\\c\\op.py\", line 119, in make_thunk\n",
      "    return self.make_c_thunk(node, storage_map, compute_map, no_recycling)\n",
      "  File \"c:\\Users\\Gerald Wong\\.conda\\envs\\hssm-play\\lib\\site-packages\\pytensor\\link\\c\\op.py\", line 84, in make_c_thunk\n",
      "    outputs = cl.make_thunk(\n",
      "  File \"c:\\Users\\Gerald Wong\\.conda\\envs\\hssm-play\\lib\\site-packages\\pytensor\\link\\c\\basic.py\", line 1185, in make_thunk\n",
      "    cthunk, module, in_storage, out_storage, error_storage = self.__compile__(\n",
      "  File \"c:\\Users\\Gerald Wong\\.conda\\envs\\hssm-play\\lib\\site-packages\\pytensor\\link\\c\\basic.py\", line 1102, in __compile__\n",
      "    thunk, module = self.cthunk_factory(\n",
      "  File \"c:\\Users\\Gerald Wong\\.conda\\envs\\hssm-play\\lib\\site-packages\\pytensor\\link\\c\\basic.py\", line 1626, in cthunk_factory\n",
      "    module = cache.module_from_key(key=key, lnk=self)\n",
      "  File \"c:\\Users\\Gerald Wong\\.conda\\envs\\hssm-play\\lib\\site-packages\\pytensor\\link\\c\\cmodule.py\", line 1250, in module_from_key\n",
      "    module = lnk.compile_cmodule(location)\n",
      "  File \"c:\\Users\\Gerald Wong\\.conda\\envs\\hssm-play\\lib\\site-packages\\pytensor\\link\\c\\basic.py\", line 1527, in compile_cmodule\n",
      "    module = c_compiler.compile_str(\n",
      "  File \"c:\\Users\\Gerald Wong\\.conda\\envs\\hssm-play\\lib\\site-packages\\pytensor\\link\\c\\cmodule.py\", line 2676, in compile_str\n",
      "    raise CompileError(\n",
      "pytensor.link.c.exceptions.CompileError: Compilation failed (return status=1):\n",
      "\"C:\\Users\\Gerald Wong\\.conda\\envs\\hssm-play\\Library\\bin\\g++.EXE\" -shared -g -O3 -fno-math-errno -Wno-unused-label -Wno-unused-variable -Wno-write-strings -Wno-c++11-narrowing -fno-exceptions -fno-unwind-tables -fno-asynchronous-unwind-tables -DNPY_NO_DEPRECATED_API=NPY_1_7_API_VERSION -m64 -DMS_WIN64 -I\"c:\\Users\\Gerald Wong\\.conda\\envs\\hssm-play\\lib\\site-packages\\numpy\\core\\include\" -I\"c:\\Users\\Gerald Wong\\.conda\\envs\\hssm-play\\include\" -I\"c:\\Users\\Gerald Wong\\.conda\\envs\\hssm-play\\lib\\site-packages\\pytensor\\link\\c\\c_code\" -L\"c:\\Users\\Gerald Wong\\.conda\\envs\\hssm-play\\libs\" -L\"c:\\Users\\Gerald Wong\\.conda\\envs\\hssm-play\" -o \"C:\\Users\\Gerald Wong\\AppData\\Local\\PyTensor\\compiledir_Windows-10-10.0.26100-SP0-Intel64_Family_6_Model_154_Stepping_3_GenuineIntel-3.10.16-64\\tmpd86yqc4l\\m52592e18fb66ba378e5be6fe9bccf91a7fa21d4d238285546214d2f3b9d3aec5.pyd\" \"C:\\Users\\Gerald Wong\\AppData\\Local\\PyTensor\\compiledir_Windows-10-10.0.26100-SP0-Intel64_Family_6_Model_154_Stepping_3_GenuineIntel-3.10.16-64\\tmpd86yqc4l\\mod.cpp\" \"c:\\Users\\Gerald Wong\\.conda\\envs\\hssm-play\\python310.dll\"\n",
      "C:/Users/Gerald Wong/.conda/envs/hssm-play/Library/bin/../lib/gcc/x86_64-w64-mingw32/13.3.0/../../../../x86_64-w64-mingw32/bin/ld.exe: cannot find Wong/.conda/envs/hssm-play/Library/lib: No such file or directory\n",
      "collect2.exe: error: ld returned 1 exit status\n",
      "\n",
      "\n"
     ]
    },
    {
     "name": "stdout",
     "output_type": "stream",
     "text": [
      "\n",
      "You can find the C code in this temporary file: C:\\Users\\GERALD~1\\AppData\\Local\\Temp\\pytensor_compilation_error_xv4tfj6d\n"
     ]
    },
    {
     "name": "stderr",
     "output_type": "stream",
     "text": [
      "ERROR (pytensor.graph.rewriting.basic): Rewrite failure due to: constant_folding\n",
      "ERROR (pytensor.graph.rewriting.basic): node: Le(0.0, 20.0)\n",
      "ERROR (pytensor.graph.rewriting.basic): TRACEBACK:\n",
      "ERROR (pytensor.graph.rewriting.basic): Traceback (most recent call last):\n",
      "  File \"c:\\Users\\Gerald Wong\\.conda\\envs\\hssm-play\\lib\\site-packages\\pytensor\\graph\\rewriting\\basic.py\", line 1922, in process_node\n",
      "    replacements = node_rewriter.transform(fgraph, node)\n",
      "  File \"c:\\Users\\Gerald Wong\\.conda\\envs\\hssm-play\\lib\\site-packages\\pytensor\\graph\\rewriting\\basic.py\", line 1086, in transform\n",
      "    return self.fn(fgraph, node)\n",
      "  File \"c:\\Users\\Gerald Wong\\.conda\\envs\\hssm-play\\lib\\site-packages\\pytensor\\tensor\\rewriting\\basic.py\", line 1173, in constant_folding\n",
      "    return unconditional_constant_folding.transform(fgraph, node)\n",
      "  File \"c:\\Users\\Gerald Wong\\.conda\\envs\\hssm-play\\lib\\site-packages\\pytensor\\graph\\rewriting\\basic.py\", line 1086, in transform\n",
      "    return self.fn(fgraph, node)\n",
      "  File \"c:\\Users\\Gerald Wong\\.conda\\envs\\hssm-play\\lib\\site-packages\\pytensor\\tensor\\rewriting\\basic.py\", line 1122, in unconditional_constant_folding\n",
      "    thunk = node.op.make_thunk(node, storage_map, compute_map, no_recycling=[])\n",
      "  File \"c:\\Users\\Gerald Wong\\.conda\\envs\\hssm-play\\lib\\site-packages\\pytensor\\link\\c\\op.py\", line 119, in make_thunk\n",
      "    return self.make_c_thunk(node, storage_map, compute_map, no_recycling)\n",
      "  File \"c:\\Users\\Gerald Wong\\.conda\\envs\\hssm-play\\lib\\site-packages\\pytensor\\link\\c\\op.py\", line 84, in make_c_thunk\n",
      "    outputs = cl.make_thunk(\n",
      "  File \"c:\\Users\\Gerald Wong\\.conda\\envs\\hssm-play\\lib\\site-packages\\pytensor\\link\\c\\basic.py\", line 1185, in make_thunk\n",
      "    cthunk, module, in_storage, out_storage, error_storage = self.__compile__(\n",
      "  File \"c:\\Users\\Gerald Wong\\.conda\\envs\\hssm-play\\lib\\site-packages\\pytensor\\link\\c\\basic.py\", line 1102, in __compile__\n",
      "    thunk, module = self.cthunk_factory(\n",
      "  File \"c:\\Users\\Gerald Wong\\.conda\\envs\\hssm-play\\lib\\site-packages\\pytensor\\link\\c\\basic.py\", line 1626, in cthunk_factory\n",
      "    module = cache.module_from_key(key=key, lnk=self)\n",
      "  File \"c:\\Users\\Gerald Wong\\.conda\\envs\\hssm-play\\lib\\site-packages\\pytensor\\link\\c\\cmodule.py\", line 1250, in module_from_key\n",
      "    module = lnk.compile_cmodule(location)\n",
      "  File \"c:\\Users\\Gerald Wong\\.conda\\envs\\hssm-play\\lib\\site-packages\\pytensor\\link\\c\\basic.py\", line 1527, in compile_cmodule\n",
      "    module = c_compiler.compile_str(\n",
      "  File \"c:\\Users\\Gerald Wong\\.conda\\envs\\hssm-play\\lib\\site-packages\\pytensor\\link\\c\\cmodule.py\", line 2676, in compile_str\n",
      "    raise CompileError(\n",
      "pytensor.link.c.exceptions.CompileError: Compilation failed (return status=1):\n",
      "\"C:\\Users\\Gerald Wong\\.conda\\envs\\hssm-play\\Library\\bin\\g++.EXE\" -shared -g -O3 -fno-math-errno -Wno-unused-label -Wno-unused-variable -Wno-write-strings -Wno-c++11-narrowing -fno-exceptions -fno-unwind-tables -fno-asynchronous-unwind-tables -DNPY_NO_DEPRECATED_API=NPY_1_7_API_VERSION -m64 -DMS_WIN64 -I\"c:\\Users\\Gerald Wong\\.conda\\envs\\hssm-play\\lib\\site-packages\\numpy\\core\\include\" -I\"c:\\Users\\Gerald Wong\\.conda\\envs\\hssm-play\\include\" -I\"c:\\Users\\Gerald Wong\\.conda\\envs\\hssm-play\\lib\\site-packages\\pytensor\\link\\c\\c_code\" -L\"c:\\Users\\Gerald Wong\\.conda\\envs\\hssm-play\\libs\" -L\"c:\\Users\\Gerald Wong\\.conda\\envs\\hssm-play\" -o \"C:\\Users\\Gerald Wong\\AppData\\Local\\PyTensor\\compiledir_Windows-10-10.0.26100-SP0-Intel64_Family_6_Model_154_Stepping_3_GenuineIntel-3.10.16-64\\tmph89ngk2n\\m351cee309b3a772f0ada42412e9bb467763f329fb211f2b5d43f901c4d892c83.pyd\" \"C:\\Users\\Gerald Wong\\AppData\\Local\\PyTensor\\compiledir_Windows-10-10.0.26100-SP0-Intel64_Family_6_Model_154_Stepping_3_GenuineIntel-3.10.16-64\\tmph89ngk2n\\mod.cpp\" \"c:\\Users\\Gerald Wong\\.conda\\envs\\hssm-play\\python310.dll\"\n",
      "C:/Users/Gerald Wong/.conda/envs/hssm-play/Library/bin/../lib/gcc/x86_64-w64-mingw32/13.3.0/../../../../x86_64-w64-mingw32/bin/ld.exe: cannot find Wong/.conda/envs/hssm-play/Library/lib: No such file or directory\n",
      "collect2.exe: error: ld returned 1 exit status\n",
      "\n",
      "\n"
     ]
    },
    {
     "name": "stdout",
     "output_type": "stream",
     "text": [
      "\n",
      "You can find the C code in this temporary file: C:\\Users\\GERALD~1\\AppData\\Local\\Temp\\pytensor_compilation_error_g9aia7fo\n"
     ]
    },
    {
     "name": "stderr",
     "output_type": "stream",
     "text": [
      "ERROR (pytensor.graph.rewriting.basic): Rewrite failure due to: constant_folding\n",
      "ERROR (pytensor.graph.rewriting.basic): node: ExpandDims{axis=0}(-inf)\n",
      "ERROR (pytensor.graph.rewriting.basic): TRACEBACK:\n",
      "ERROR (pytensor.graph.rewriting.basic): Traceback (most recent call last):\n",
      "  File \"c:\\Users\\Gerald Wong\\.conda\\envs\\hssm-play\\lib\\site-packages\\pytensor\\graph\\rewriting\\basic.py\", line 1922, in process_node\n",
      "    replacements = node_rewriter.transform(fgraph, node)\n",
      "  File \"c:\\Users\\Gerald Wong\\.conda\\envs\\hssm-play\\lib\\site-packages\\pytensor\\graph\\rewriting\\basic.py\", line 1086, in transform\n",
      "    return self.fn(fgraph, node)\n",
      "  File \"c:\\Users\\Gerald Wong\\.conda\\envs\\hssm-play\\lib\\site-packages\\pytensor\\tensor\\rewriting\\basic.py\", line 1173, in constant_folding\n",
      "    return unconditional_constant_folding.transform(fgraph, node)\n",
      "  File \"c:\\Users\\Gerald Wong\\.conda\\envs\\hssm-play\\lib\\site-packages\\pytensor\\graph\\rewriting\\basic.py\", line 1086, in transform\n",
      "    return self.fn(fgraph, node)\n",
      "  File \"c:\\Users\\Gerald Wong\\.conda\\envs\\hssm-play\\lib\\site-packages\\pytensor\\tensor\\rewriting\\basic.py\", line 1122, in unconditional_constant_folding\n",
      "    thunk = node.op.make_thunk(node, storage_map, compute_map, no_recycling=[])\n",
      "  File \"c:\\Users\\Gerald Wong\\.conda\\envs\\hssm-play\\lib\\site-packages\\pytensor\\link\\c\\op.py\", line 119, in make_thunk\n",
      "    return self.make_c_thunk(node, storage_map, compute_map, no_recycling)\n",
      "  File \"c:\\Users\\Gerald Wong\\.conda\\envs\\hssm-play\\lib\\site-packages\\pytensor\\link\\c\\op.py\", line 84, in make_c_thunk\n",
      "    outputs = cl.make_thunk(\n",
      "  File \"c:\\Users\\Gerald Wong\\.conda\\envs\\hssm-play\\lib\\site-packages\\pytensor\\link\\c\\basic.py\", line 1185, in make_thunk\n",
      "    cthunk, module, in_storage, out_storage, error_storage = self.__compile__(\n",
      "  File \"c:\\Users\\Gerald Wong\\.conda\\envs\\hssm-play\\lib\\site-packages\\pytensor\\link\\c\\basic.py\", line 1102, in __compile__\n",
      "    thunk, module = self.cthunk_factory(\n",
      "  File \"c:\\Users\\Gerald Wong\\.conda\\envs\\hssm-play\\lib\\site-packages\\pytensor\\link\\c\\basic.py\", line 1626, in cthunk_factory\n",
      "    module = cache.module_from_key(key=key, lnk=self)\n",
      "  File \"c:\\Users\\Gerald Wong\\.conda\\envs\\hssm-play\\lib\\site-packages\\pytensor\\link\\c\\cmodule.py\", line 1250, in module_from_key\n",
      "    module = lnk.compile_cmodule(location)\n",
      "  File \"c:\\Users\\Gerald Wong\\.conda\\envs\\hssm-play\\lib\\site-packages\\pytensor\\link\\c\\basic.py\", line 1527, in compile_cmodule\n",
      "    module = c_compiler.compile_str(\n",
      "  File \"c:\\Users\\Gerald Wong\\.conda\\envs\\hssm-play\\lib\\site-packages\\pytensor\\link\\c\\cmodule.py\", line 2676, in compile_str\n",
      "    raise CompileError(\n",
      "pytensor.link.c.exceptions.CompileError: Compilation failed (return status=1):\n",
      "\"C:\\Users\\Gerald Wong\\.conda\\envs\\hssm-play\\Library\\bin\\g++.EXE\" -shared -g -O3 -fno-math-errno -Wno-unused-label -Wno-unused-variable -Wno-write-strings -Wno-c++11-narrowing -fno-exceptions -fno-unwind-tables -fno-asynchronous-unwind-tables -DNPY_NO_DEPRECATED_API=NPY_1_7_API_VERSION -m64 -DMS_WIN64 -I\"c:\\Users\\Gerald Wong\\.conda\\envs\\hssm-play\\lib\\site-packages\\numpy\\core\\include\" -I\"c:\\Users\\Gerald Wong\\.conda\\envs\\hssm-play\\include\" -I\"c:\\Users\\Gerald Wong\\.conda\\envs\\hssm-play\\lib\\site-packages\\pytensor\\link\\c\\c_code\" -L\"c:\\Users\\Gerald Wong\\.conda\\envs\\hssm-play\\libs\" -L\"c:\\Users\\Gerald Wong\\.conda\\envs\\hssm-play\" -o \"C:\\Users\\Gerald Wong\\AppData\\Local\\PyTensor\\compiledir_Windows-10-10.0.26100-SP0-Intel64_Family_6_Model_154_Stepping_3_GenuineIntel-3.10.16-64\\tmp8zex3b6z\\m592274835bee3bcf7bf2cb65b70477fb2a0214df94b73fac749e4ac5fb9f3e01.pyd\" \"C:\\Users\\Gerald Wong\\AppData\\Local\\PyTensor\\compiledir_Windows-10-10.0.26100-SP0-Intel64_Family_6_Model_154_Stepping_3_GenuineIntel-3.10.16-64\\tmp8zex3b6z\\mod.cpp\" \"c:\\Users\\Gerald Wong\\.conda\\envs\\hssm-play\\python310.dll\"\n",
      "C:/Users/Gerald Wong/.conda/envs/hssm-play/Library/bin/../lib/gcc/x86_64-w64-mingw32/13.3.0/../../../../x86_64-w64-mingw32/bin/ld.exe: cannot find Wong/.conda/envs/hssm-play/Library/lib: No such file or directory\n",
      "collect2.exe: error: ld returned 1 exit status\n",
      "\n",
      "\n"
     ]
    },
    {
     "name": "stdout",
     "output_type": "stream",
     "text": [
      "\n",
      "You can find the C code in this temporary file: C:\\Users\\GERALD~1\\AppData\\Local\\Temp\\pytensor_compilation_error_ga_rhfol\n"
     ]
    },
    {
     "name": "stderr",
     "output_type": "stream",
     "text": [
      "ERROR (pytensor.graph.rewriting.basic): Rewrite failure due to: constant_folding\n",
      "ERROR (pytensor.graph.rewriting.basic): node: ExpandDims{axis=0}(20.0)\n",
      "ERROR (pytensor.graph.rewriting.basic): TRACEBACK:\n",
      "ERROR (pytensor.graph.rewriting.basic): Traceback (most recent call last):\n",
      "  File \"c:\\Users\\Gerald Wong\\.conda\\envs\\hssm-play\\lib\\site-packages\\pytensor\\graph\\rewriting\\basic.py\", line 1922, in process_node\n",
      "    replacements = node_rewriter.transform(fgraph, node)\n",
      "  File \"c:\\Users\\Gerald Wong\\.conda\\envs\\hssm-play\\lib\\site-packages\\pytensor\\graph\\rewriting\\basic.py\", line 1086, in transform\n",
      "    return self.fn(fgraph, node)\n",
      "  File \"c:\\Users\\Gerald Wong\\.conda\\envs\\hssm-play\\lib\\site-packages\\pytensor\\tensor\\rewriting\\basic.py\", line 1173, in constant_folding\n",
      "    return unconditional_constant_folding.transform(fgraph, node)\n",
      "  File \"c:\\Users\\Gerald Wong\\.conda\\envs\\hssm-play\\lib\\site-packages\\pytensor\\graph\\rewriting\\basic.py\", line 1086, in transform\n",
      "    return self.fn(fgraph, node)\n",
      "  File \"c:\\Users\\Gerald Wong\\.conda\\envs\\hssm-play\\lib\\site-packages\\pytensor\\tensor\\rewriting\\basic.py\", line 1122, in unconditional_constant_folding\n",
      "    thunk = node.op.make_thunk(node, storage_map, compute_map, no_recycling=[])\n",
      "  File \"c:\\Users\\Gerald Wong\\.conda\\envs\\hssm-play\\lib\\site-packages\\pytensor\\link\\c\\op.py\", line 119, in make_thunk\n",
      "    return self.make_c_thunk(node, storage_map, compute_map, no_recycling)\n",
      "  File \"c:\\Users\\Gerald Wong\\.conda\\envs\\hssm-play\\lib\\site-packages\\pytensor\\link\\c\\op.py\", line 84, in make_c_thunk\n",
      "    outputs = cl.make_thunk(\n",
      "  File \"c:\\Users\\Gerald Wong\\.conda\\envs\\hssm-play\\lib\\site-packages\\pytensor\\link\\c\\basic.py\", line 1185, in make_thunk\n",
      "    cthunk, module, in_storage, out_storage, error_storage = self.__compile__(\n",
      "  File \"c:\\Users\\Gerald Wong\\.conda\\envs\\hssm-play\\lib\\site-packages\\pytensor\\link\\c\\basic.py\", line 1102, in __compile__\n",
      "    thunk, module = self.cthunk_factory(\n",
      "  File \"c:\\Users\\Gerald Wong\\.conda\\envs\\hssm-play\\lib\\site-packages\\pytensor\\link\\c\\basic.py\", line 1626, in cthunk_factory\n",
      "    module = cache.module_from_key(key=key, lnk=self)\n",
      "  File \"c:\\Users\\Gerald Wong\\.conda\\envs\\hssm-play\\lib\\site-packages\\pytensor\\link\\c\\cmodule.py\", line 1250, in module_from_key\n",
      "    module = lnk.compile_cmodule(location)\n",
      "  File \"c:\\Users\\Gerald Wong\\.conda\\envs\\hssm-play\\lib\\site-packages\\pytensor\\link\\c\\basic.py\", line 1527, in compile_cmodule\n",
      "    module = c_compiler.compile_str(\n",
      "  File \"c:\\Users\\Gerald Wong\\.conda\\envs\\hssm-play\\lib\\site-packages\\pytensor\\link\\c\\cmodule.py\", line 2676, in compile_str\n",
      "    raise CompileError(\n",
      "pytensor.link.c.exceptions.CompileError: Compilation failed (return status=1):\n",
      "\"C:\\Users\\Gerald Wong\\.conda\\envs\\hssm-play\\Library\\bin\\g++.EXE\" -shared -g -O3 -fno-math-errno -Wno-unused-label -Wno-unused-variable -Wno-write-strings -Wno-c++11-narrowing -fno-exceptions -fno-unwind-tables -fno-asynchronous-unwind-tables -DNPY_NO_DEPRECATED_API=NPY_1_7_API_VERSION -m64 -DMS_WIN64 -I\"c:\\Users\\Gerald Wong\\.conda\\envs\\hssm-play\\lib\\site-packages\\numpy\\core\\include\" -I\"c:\\Users\\Gerald Wong\\.conda\\envs\\hssm-play\\include\" -I\"c:\\Users\\Gerald Wong\\.conda\\envs\\hssm-play\\lib\\site-packages\\pytensor\\link\\c\\c_code\" -L\"c:\\Users\\Gerald Wong\\.conda\\envs\\hssm-play\\libs\" -L\"c:\\Users\\Gerald Wong\\.conda\\envs\\hssm-play\" -o \"C:\\Users\\Gerald Wong\\AppData\\Local\\PyTensor\\compiledir_Windows-10-10.0.26100-SP0-Intel64_Family_6_Model_154_Stepping_3_GenuineIntel-3.10.16-64\\tmpa176j0de\\m52592e18fb66ba378e5be6fe9bccf91a7fa21d4d238285546214d2f3b9d3aec5.pyd\" \"C:\\Users\\Gerald Wong\\AppData\\Local\\PyTensor\\compiledir_Windows-10-10.0.26100-SP0-Intel64_Family_6_Model_154_Stepping_3_GenuineIntel-3.10.16-64\\tmpa176j0de\\mod.cpp\" \"c:\\Users\\Gerald Wong\\.conda\\envs\\hssm-play\\python310.dll\"\n",
      "C:/Users/Gerald Wong/.conda/envs/hssm-play/Library/bin/../lib/gcc/x86_64-w64-mingw32/13.3.0/../../../../x86_64-w64-mingw32/bin/ld.exe: cannot find Wong/.conda/envs/hssm-play/Library/lib: No such file or directory\n",
      "collect2.exe: error: ld returned 1 exit status\n",
      "\n",
      "\n"
     ]
    },
    {
     "name": "stdout",
     "output_type": "stream",
     "text": [
      "\n",
      "You can find the C code in this temporary file: C:\\Users\\GERALD~1\\AppData\\Local\\Temp\\pytensor_compilation_error_rma852ff\n"
     ]
    },
    {
     "name": "stderr",
     "output_type": "stream",
     "text": [
      "ERROR (pytensor.graph.rewriting.basic): Rewrite failure due to: constant_folding\n",
      "ERROR (pytensor.graph.rewriting.basic): node: ExpandDims{axis=0}(-1.0)\n",
      "ERROR (pytensor.graph.rewriting.basic): TRACEBACK:\n",
      "ERROR (pytensor.graph.rewriting.basic): Traceback (most recent call last):\n",
      "  File \"c:\\Users\\Gerald Wong\\.conda\\envs\\hssm-play\\lib\\site-packages\\pytensor\\graph\\rewriting\\basic.py\", line 1922, in process_node\n",
      "    replacements = node_rewriter.transform(fgraph, node)\n",
      "  File \"c:\\Users\\Gerald Wong\\.conda\\envs\\hssm-play\\lib\\site-packages\\pytensor\\graph\\rewriting\\basic.py\", line 1086, in transform\n",
      "    return self.fn(fgraph, node)\n",
      "  File \"c:\\Users\\Gerald Wong\\.conda\\envs\\hssm-play\\lib\\site-packages\\pytensor\\tensor\\rewriting\\basic.py\", line 1173, in constant_folding\n",
      "    return unconditional_constant_folding.transform(fgraph, node)\n",
      "  File \"c:\\Users\\Gerald Wong\\.conda\\envs\\hssm-play\\lib\\site-packages\\pytensor\\graph\\rewriting\\basic.py\", line 1086, in transform\n",
      "    return self.fn(fgraph, node)\n",
      "  File \"c:\\Users\\Gerald Wong\\.conda\\envs\\hssm-play\\lib\\site-packages\\pytensor\\tensor\\rewriting\\basic.py\", line 1122, in unconditional_constant_folding\n",
      "    thunk = node.op.make_thunk(node, storage_map, compute_map, no_recycling=[])\n",
      "  File \"c:\\Users\\Gerald Wong\\.conda\\envs\\hssm-play\\lib\\site-packages\\pytensor\\link\\c\\op.py\", line 119, in make_thunk\n",
      "    return self.make_c_thunk(node, storage_map, compute_map, no_recycling)\n",
      "  File \"c:\\Users\\Gerald Wong\\.conda\\envs\\hssm-play\\lib\\site-packages\\pytensor\\link\\c\\op.py\", line 84, in make_c_thunk\n",
      "    outputs = cl.make_thunk(\n",
      "  File \"c:\\Users\\Gerald Wong\\.conda\\envs\\hssm-play\\lib\\site-packages\\pytensor\\link\\c\\basic.py\", line 1185, in make_thunk\n",
      "    cthunk, module, in_storage, out_storage, error_storage = self.__compile__(\n",
      "  File \"c:\\Users\\Gerald Wong\\.conda\\envs\\hssm-play\\lib\\site-packages\\pytensor\\link\\c\\basic.py\", line 1102, in __compile__\n",
      "    thunk, module = self.cthunk_factory(\n",
      "  File \"c:\\Users\\Gerald Wong\\.conda\\envs\\hssm-play\\lib\\site-packages\\pytensor\\link\\c\\basic.py\", line 1626, in cthunk_factory\n",
      "    module = cache.module_from_key(key=key, lnk=self)\n",
      "  File \"c:\\Users\\Gerald Wong\\.conda\\envs\\hssm-play\\lib\\site-packages\\pytensor\\link\\c\\cmodule.py\", line 1250, in module_from_key\n",
      "    module = lnk.compile_cmodule(location)\n",
      "  File \"c:\\Users\\Gerald Wong\\.conda\\envs\\hssm-play\\lib\\site-packages\\pytensor\\link\\c\\basic.py\", line 1527, in compile_cmodule\n",
      "    module = c_compiler.compile_str(\n",
      "  File \"c:\\Users\\Gerald Wong\\.conda\\envs\\hssm-play\\lib\\site-packages\\pytensor\\link\\c\\cmodule.py\", line 2676, in compile_str\n",
      "    raise CompileError(\n",
      "pytensor.link.c.exceptions.CompileError: Compilation failed (return status=1):\n",
      "\"C:\\Users\\Gerald Wong\\.conda\\envs\\hssm-play\\Library\\bin\\g++.EXE\" -shared -g -O3 -fno-math-errno -Wno-unused-label -Wno-unused-variable -Wno-write-strings -Wno-c++11-narrowing -fno-exceptions -fno-unwind-tables -fno-asynchronous-unwind-tables -DNPY_NO_DEPRECATED_API=NPY_1_7_API_VERSION -m64 -DMS_WIN64 -I\"c:\\Users\\Gerald Wong\\.conda\\envs\\hssm-play\\lib\\site-packages\\numpy\\core\\include\" -I\"c:\\Users\\Gerald Wong\\.conda\\envs\\hssm-play\\include\" -I\"c:\\Users\\Gerald Wong\\.conda\\envs\\hssm-play\\lib\\site-packages\\pytensor\\link\\c\\c_code\" -L\"c:\\Users\\Gerald Wong\\.conda\\envs\\hssm-play\\libs\" -L\"c:\\Users\\Gerald Wong\\.conda\\envs\\hssm-play\" -o \"C:\\Users\\Gerald Wong\\AppData\\Local\\PyTensor\\compiledir_Windows-10-10.0.26100-SP0-Intel64_Family_6_Model_154_Stepping_3_GenuineIntel-3.10.16-64\\tmpmppwjqqf\\m52592e18fb66ba378e5be6fe9bccf91a7fa21d4d238285546214d2f3b9d3aec5.pyd\" \"C:\\Users\\Gerald Wong\\AppData\\Local\\PyTensor\\compiledir_Windows-10-10.0.26100-SP0-Intel64_Family_6_Model_154_Stepping_3_GenuineIntel-3.10.16-64\\tmpmppwjqqf\\mod.cpp\" \"c:\\Users\\Gerald Wong\\.conda\\envs\\hssm-play\\python310.dll\"\n",
      "C:/Users/Gerald Wong/.conda/envs/hssm-play/Library/bin/../lib/gcc/x86_64-w64-mingw32/13.3.0/../../../../x86_64-w64-mingw32/bin/ld.exe: cannot find Wong/.conda/envs/hssm-play/Library/lib: No such file or directory\n",
      "collect2.exe: error: ld returned 1 exit status\n",
      "\n",
      "\n"
     ]
    },
    {
     "name": "stdout",
     "output_type": "stream",
     "text": [
      "\n",
      "You can find the C code in this temporary file: C:\\Users\\GERALD~1\\AppData\\Local\\Temp\\pytensor_compilation_error_fdacw95u\n"
     ]
    },
    {
     "name": "stderr",
     "output_type": "stream",
     "text": [
      "ERROR (pytensor.graph.rewriting.basic): Rewrite failure due to: constant_folding\n",
      "ERROR (pytensor.graph.rewriting.basic): node: ExpandDims{axis=0}(0.0)\n",
      "ERROR (pytensor.graph.rewriting.basic): TRACEBACK:\n",
      "ERROR (pytensor.graph.rewriting.basic): Traceback (most recent call last):\n",
      "  File \"c:\\Users\\Gerald Wong\\.conda\\envs\\hssm-play\\lib\\site-packages\\pytensor\\graph\\rewriting\\basic.py\", line 1922, in process_node\n",
      "    replacements = node_rewriter.transform(fgraph, node)\n",
      "  File \"c:\\Users\\Gerald Wong\\.conda\\envs\\hssm-play\\lib\\site-packages\\pytensor\\graph\\rewriting\\basic.py\", line 1086, in transform\n",
      "    return self.fn(fgraph, node)\n",
      "  File \"c:\\Users\\Gerald Wong\\.conda\\envs\\hssm-play\\lib\\site-packages\\pytensor\\tensor\\rewriting\\basic.py\", line 1173, in constant_folding\n",
      "    return unconditional_constant_folding.transform(fgraph, node)\n",
      "  File \"c:\\Users\\Gerald Wong\\.conda\\envs\\hssm-play\\lib\\site-packages\\pytensor\\graph\\rewriting\\basic.py\", line 1086, in transform\n",
      "    return self.fn(fgraph, node)\n",
      "  File \"c:\\Users\\Gerald Wong\\.conda\\envs\\hssm-play\\lib\\site-packages\\pytensor\\tensor\\rewriting\\basic.py\", line 1122, in unconditional_constant_folding\n",
      "    thunk = node.op.make_thunk(node, storage_map, compute_map, no_recycling=[])\n",
      "  File \"c:\\Users\\Gerald Wong\\.conda\\envs\\hssm-play\\lib\\site-packages\\pytensor\\link\\c\\op.py\", line 119, in make_thunk\n",
      "    return self.make_c_thunk(node, storage_map, compute_map, no_recycling)\n",
      "  File \"c:\\Users\\Gerald Wong\\.conda\\envs\\hssm-play\\lib\\site-packages\\pytensor\\link\\c\\op.py\", line 84, in make_c_thunk\n",
      "    outputs = cl.make_thunk(\n",
      "  File \"c:\\Users\\Gerald Wong\\.conda\\envs\\hssm-play\\lib\\site-packages\\pytensor\\link\\c\\basic.py\", line 1185, in make_thunk\n",
      "    cthunk, module, in_storage, out_storage, error_storage = self.__compile__(\n",
      "  File \"c:\\Users\\Gerald Wong\\.conda\\envs\\hssm-play\\lib\\site-packages\\pytensor\\link\\c\\basic.py\", line 1102, in __compile__\n",
      "    thunk, module = self.cthunk_factory(\n",
      "  File \"c:\\Users\\Gerald Wong\\.conda\\envs\\hssm-play\\lib\\site-packages\\pytensor\\link\\c\\basic.py\", line 1626, in cthunk_factory\n",
      "    module = cache.module_from_key(key=key, lnk=self)\n",
      "  File \"c:\\Users\\Gerald Wong\\.conda\\envs\\hssm-play\\lib\\site-packages\\pytensor\\link\\c\\cmodule.py\", line 1250, in module_from_key\n",
      "    module = lnk.compile_cmodule(location)\n",
      "  File \"c:\\Users\\Gerald Wong\\.conda\\envs\\hssm-play\\lib\\site-packages\\pytensor\\link\\c\\basic.py\", line 1527, in compile_cmodule\n",
      "    module = c_compiler.compile_str(\n",
      "  File \"c:\\Users\\Gerald Wong\\.conda\\envs\\hssm-play\\lib\\site-packages\\pytensor\\link\\c\\cmodule.py\", line 2676, in compile_str\n",
      "    raise CompileError(\n",
      "pytensor.link.c.exceptions.CompileError: Compilation failed (return status=1):\n",
      "\"C:\\Users\\Gerald Wong\\.conda\\envs\\hssm-play\\Library\\bin\\g++.EXE\" -shared -g -O3 -fno-math-errno -Wno-unused-label -Wno-unused-variable -Wno-write-strings -Wno-c++11-narrowing -fno-exceptions -fno-unwind-tables -fno-asynchronous-unwind-tables -DNPY_NO_DEPRECATED_API=NPY_1_7_API_VERSION -m64 -DMS_WIN64 -I\"c:\\Users\\Gerald Wong\\.conda\\envs\\hssm-play\\lib\\site-packages\\numpy\\core\\include\" -I\"c:\\Users\\Gerald Wong\\.conda\\envs\\hssm-play\\include\" -I\"c:\\Users\\Gerald Wong\\.conda\\envs\\hssm-play\\lib\\site-packages\\pytensor\\link\\c\\c_code\" -L\"c:\\Users\\Gerald Wong\\.conda\\envs\\hssm-play\\libs\" -L\"c:\\Users\\Gerald Wong\\.conda\\envs\\hssm-play\" -o \"C:\\Users\\Gerald Wong\\AppData\\Local\\PyTensor\\compiledir_Windows-10-10.0.26100-SP0-Intel64_Family_6_Model_154_Stepping_3_GenuineIntel-3.10.16-64\\tmp8xch7huf\\m52592e18fb66ba378e5be6fe9bccf91a7fa21d4d238285546214d2f3b9d3aec5.pyd\" \"C:\\Users\\Gerald Wong\\AppData\\Local\\PyTensor\\compiledir_Windows-10-10.0.26100-SP0-Intel64_Family_6_Model_154_Stepping_3_GenuineIntel-3.10.16-64\\tmp8xch7huf\\mod.cpp\" \"c:\\Users\\Gerald Wong\\.conda\\envs\\hssm-play\\python310.dll\"\n",
      "C:/Users/Gerald Wong/.conda/envs/hssm-play/Library/bin/../lib/gcc/x86_64-w64-mingw32/13.3.0/../../../../x86_64-w64-mingw32/bin/ld.exe: cannot find Wong/.conda/envs/hssm-play/Library/lib: No such file or directory\n",
      "collect2.exe: error: ld returned 1 exit status\n",
      "\n",
      "\n"
     ]
    },
    {
     "name": "stdout",
     "output_type": "stream",
     "text": [
      "\n",
      "You can find the C code in this temporary file: C:\\Users\\GERALD~1\\AppData\\Local\\Temp\\pytensor_compilation_error_b3bfwczy\n"
     ]
    },
    {
     "name": "stderr",
     "output_type": "stream",
     "text": [
      "ERROR (pytensor.graph.rewriting.basic): Rewrite failure due to: constant_folding\n",
      "ERROR (pytensor.graph.rewriting.basic): node: Le(0.0, 20.0)\n",
      "ERROR (pytensor.graph.rewriting.basic): TRACEBACK:\n",
      "ERROR (pytensor.graph.rewriting.basic): Traceback (most recent call last):\n",
      "  File \"c:\\Users\\Gerald Wong\\.conda\\envs\\hssm-play\\lib\\site-packages\\pytensor\\graph\\rewriting\\basic.py\", line 1922, in process_node\n",
      "    replacements = node_rewriter.transform(fgraph, node)\n",
      "  File \"c:\\Users\\Gerald Wong\\.conda\\envs\\hssm-play\\lib\\site-packages\\pytensor\\graph\\rewriting\\basic.py\", line 1086, in transform\n",
      "    return self.fn(fgraph, node)\n",
      "  File \"c:\\Users\\Gerald Wong\\.conda\\envs\\hssm-play\\lib\\site-packages\\pytensor\\tensor\\rewriting\\basic.py\", line 1173, in constant_folding\n",
      "    return unconditional_constant_folding.transform(fgraph, node)\n",
      "  File \"c:\\Users\\Gerald Wong\\.conda\\envs\\hssm-play\\lib\\site-packages\\pytensor\\graph\\rewriting\\basic.py\", line 1086, in transform\n",
      "    return self.fn(fgraph, node)\n",
      "  File \"c:\\Users\\Gerald Wong\\.conda\\envs\\hssm-play\\lib\\site-packages\\pytensor\\tensor\\rewriting\\basic.py\", line 1122, in unconditional_constant_folding\n",
      "    thunk = node.op.make_thunk(node, storage_map, compute_map, no_recycling=[])\n",
      "  File \"c:\\Users\\Gerald Wong\\.conda\\envs\\hssm-play\\lib\\site-packages\\pytensor\\link\\c\\op.py\", line 119, in make_thunk\n",
      "    return self.make_c_thunk(node, storage_map, compute_map, no_recycling)\n",
      "  File \"c:\\Users\\Gerald Wong\\.conda\\envs\\hssm-play\\lib\\site-packages\\pytensor\\link\\c\\op.py\", line 84, in make_c_thunk\n",
      "    outputs = cl.make_thunk(\n",
      "  File \"c:\\Users\\Gerald Wong\\.conda\\envs\\hssm-play\\lib\\site-packages\\pytensor\\link\\c\\basic.py\", line 1185, in make_thunk\n",
      "    cthunk, module, in_storage, out_storage, error_storage = self.__compile__(\n",
      "  File \"c:\\Users\\Gerald Wong\\.conda\\envs\\hssm-play\\lib\\site-packages\\pytensor\\link\\c\\basic.py\", line 1102, in __compile__\n",
      "    thunk, module = self.cthunk_factory(\n",
      "  File \"c:\\Users\\Gerald Wong\\.conda\\envs\\hssm-play\\lib\\site-packages\\pytensor\\link\\c\\basic.py\", line 1626, in cthunk_factory\n",
      "    module = cache.module_from_key(key=key, lnk=self)\n",
      "  File \"c:\\Users\\Gerald Wong\\.conda\\envs\\hssm-play\\lib\\site-packages\\pytensor\\link\\c\\cmodule.py\", line 1250, in module_from_key\n",
      "    module = lnk.compile_cmodule(location)\n",
      "  File \"c:\\Users\\Gerald Wong\\.conda\\envs\\hssm-play\\lib\\site-packages\\pytensor\\link\\c\\basic.py\", line 1527, in compile_cmodule\n",
      "    module = c_compiler.compile_str(\n",
      "  File \"c:\\Users\\Gerald Wong\\.conda\\envs\\hssm-play\\lib\\site-packages\\pytensor\\link\\c\\cmodule.py\", line 2676, in compile_str\n",
      "    raise CompileError(\n",
      "pytensor.link.c.exceptions.CompileError: Compilation failed (return status=1):\n",
      "\"C:\\Users\\Gerald Wong\\.conda\\envs\\hssm-play\\Library\\bin\\g++.EXE\" -shared -g -O3 -fno-math-errno -Wno-unused-label -Wno-unused-variable -Wno-write-strings -Wno-c++11-narrowing -fno-exceptions -fno-unwind-tables -fno-asynchronous-unwind-tables -DNPY_NO_DEPRECATED_API=NPY_1_7_API_VERSION -m64 -DMS_WIN64 -I\"c:\\Users\\Gerald Wong\\.conda\\envs\\hssm-play\\lib\\site-packages\\numpy\\core\\include\" -I\"c:\\Users\\Gerald Wong\\.conda\\envs\\hssm-play\\include\" -I\"c:\\Users\\Gerald Wong\\.conda\\envs\\hssm-play\\lib\\site-packages\\pytensor\\link\\c\\c_code\" -L\"c:\\Users\\Gerald Wong\\.conda\\envs\\hssm-play\\libs\" -L\"c:\\Users\\Gerald Wong\\.conda\\envs\\hssm-play\" -o \"C:\\Users\\Gerald Wong\\AppData\\Local\\PyTensor\\compiledir_Windows-10-10.0.26100-SP0-Intel64_Family_6_Model_154_Stepping_3_GenuineIntel-3.10.16-64\\tmpcht7i7n5\\m351cee309b3a772f0ada42412e9bb467763f329fb211f2b5d43f901c4d892c83.pyd\" \"C:\\Users\\Gerald Wong\\AppData\\Local\\PyTensor\\compiledir_Windows-10-10.0.26100-SP0-Intel64_Family_6_Model_154_Stepping_3_GenuineIntel-3.10.16-64\\tmpcht7i7n5\\mod.cpp\" \"c:\\Users\\Gerald Wong\\.conda\\envs\\hssm-play\\python310.dll\"\n",
      "C:/Users/Gerald Wong/.conda/envs/hssm-play/Library/bin/../lib/gcc/x86_64-w64-mingw32/13.3.0/../../../../x86_64-w64-mingw32/bin/ld.exe: cannot find Wong/.conda/envs/hssm-play/Library/lib: No such file or directory\n",
      "collect2.exe: error: ld returned 1 exit status\n",
      "\n",
      "\n"
     ]
    },
    {
     "name": "stdout",
     "output_type": "stream",
     "text": [
      "\n",
      "You can find the C code in this temporary file: C:\\Users\\GERALD~1\\AppData\\Local\\Temp\\pytensor_compilation_error_ywcn4tm9\n"
     ]
    },
    {
     "name": "stderr",
     "output_type": "stream",
     "text": [
      "ERROR (pytensor.graph.rewriting.basic): Rewrite failure due to: constant_folding\n",
      "ERROR (pytensor.graph.rewriting.basic): node: ExpandDims{axis=0}(-inf)\n",
      "ERROR (pytensor.graph.rewriting.basic): TRACEBACK:\n",
      "ERROR (pytensor.graph.rewriting.basic): Traceback (most recent call last):\n",
      "  File \"c:\\Users\\Gerald Wong\\.conda\\envs\\hssm-play\\lib\\site-packages\\pytensor\\graph\\rewriting\\basic.py\", line 1922, in process_node\n",
      "    replacements = node_rewriter.transform(fgraph, node)\n",
      "  File \"c:\\Users\\Gerald Wong\\.conda\\envs\\hssm-play\\lib\\site-packages\\pytensor\\graph\\rewriting\\basic.py\", line 1086, in transform\n",
      "    return self.fn(fgraph, node)\n",
      "  File \"c:\\Users\\Gerald Wong\\.conda\\envs\\hssm-play\\lib\\site-packages\\pytensor\\tensor\\rewriting\\basic.py\", line 1173, in constant_folding\n",
      "    return unconditional_constant_folding.transform(fgraph, node)\n",
      "  File \"c:\\Users\\Gerald Wong\\.conda\\envs\\hssm-play\\lib\\site-packages\\pytensor\\graph\\rewriting\\basic.py\", line 1086, in transform\n",
      "    return self.fn(fgraph, node)\n",
      "  File \"c:\\Users\\Gerald Wong\\.conda\\envs\\hssm-play\\lib\\site-packages\\pytensor\\tensor\\rewriting\\basic.py\", line 1122, in unconditional_constant_folding\n",
      "    thunk = node.op.make_thunk(node, storage_map, compute_map, no_recycling=[])\n",
      "  File \"c:\\Users\\Gerald Wong\\.conda\\envs\\hssm-play\\lib\\site-packages\\pytensor\\link\\c\\op.py\", line 119, in make_thunk\n",
      "    return self.make_c_thunk(node, storage_map, compute_map, no_recycling)\n",
      "  File \"c:\\Users\\Gerald Wong\\.conda\\envs\\hssm-play\\lib\\site-packages\\pytensor\\link\\c\\op.py\", line 84, in make_c_thunk\n",
      "    outputs = cl.make_thunk(\n",
      "  File \"c:\\Users\\Gerald Wong\\.conda\\envs\\hssm-play\\lib\\site-packages\\pytensor\\link\\c\\basic.py\", line 1185, in make_thunk\n",
      "    cthunk, module, in_storage, out_storage, error_storage = self.__compile__(\n",
      "  File \"c:\\Users\\Gerald Wong\\.conda\\envs\\hssm-play\\lib\\site-packages\\pytensor\\link\\c\\basic.py\", line 1102, in __compile__\n",
      "    thunk, module = self.cthunk_factory(\n",
      "  File \"c:\\Users\\Gerald Wong\\.conda\\envs\\hssm-play\\lib\\site-packages\\pytensor\\link\\c\\basic.py\", line 1626, in cthunk_factory\n",
      "    module = cache.module_from_key(key=key, lnk=self)\n",
      "  File \"c:\\Users\\Gerald Wong\\.conda\\envs\\hssm-play\\lib\\site-packages\\pytensor\\link\\c\\cmodule.py\", line 1250, in module_from_key\n",
      "    module = lnk.compile_cmodule(location)\n",
      "  File \"c:\\Users\\Gerald Wong\\.conda\\envs\\hssm-play\\lib\\site-packages\\pytensor\\link\\c\\basic.py\", line 1527, in compile_cmodule\n",
      "    module = c_compiler.compile_str(\n",
      "  File \"c:\\Users\\Gerald Wong\\.conda\\envs\\hssm-play\\lib\\site-packages\\pytensor\\link\\c\\cmodule.py\", line 2676, in compile_str\n",
      "    raise CompileError(\n",
      "pytensor.link.c.exceptions.CompileError: Compilation failed (return status=1):\n",
      "\"C:\\Users\\Gerald Wong\\.conda\\envs\\hssm-play\\Library\\bin\\g++.EXE\" -shared -g -O3 -fno-math-errno -Wno-unused-label -Wno-unused-variable -Wno-write-strings -Wno-c++11-narrowing -fno-exceptions -fno-unwind-tables -fno-asynchronous-unwind-tables -DNPY_NO_DEPRECATED_API=NPY_1_7_API_VERSION -m64 -DMS_WIN64 -I\"c:\\Users\\Gerald Wong\\.conda\\envs\\hssm-play\\lib\\site-packages\\numpy\\core\\include\" -I\"c:\\Users\\Gerald Wong\\.conda\\envs\\hssm-play\\include\" -I\"c:\\Users\\Gerald Wong\\.conda\\envs\\hssm-play\\lib\\site-packages\\pytensor\\link\\c\\c_code\" -L\"c:\\Users\\Gerald Wong\\.conda\\envs\\hssm-play\\libs\" -L\"c:\\Users\\Gerald Wong\\.conda\\envs\\hssm-play\" -o \"C:\\Users\\Gerald Wong\\AppData\\Local\\PyTensor\\compiledir_Windows-10-10.0.26100-SP0-Intel64_Family_6_Model_154_Stepping_3_GenuineIntel-3.10.16-64\\tmp9cdhmqc1\\m592274835bee3bcf7bf2cb65b70477fb2a0214df94b73fac749e4ac5fb9f3e01.pyd\" \"C:\\Users\\Gerald Wong\\AppData\\Local\\PyTensor\\compiledir_Windows-10-10.0.26100-SP0-Intel64_Family_6_Model_154_Stepping_3_GenuineIntel-3.10.16-64\\tmp9cdhmqc1\\mod.cpp\" \"c:\\Users\\Gerald Wong\\.conda\\envs\\hssm-play\\python310.dll\"\n",
      "C:/Users/Gerald Wong/.conda/envs/hssm-play/Library/bin/../lib/gcc/x86_64-w64-mingw32/13.3.0/../../../../x86_64-w64-mingw32/bin/ld.exe: cannot find Wong/.conda/envs/hssm-play/Library/lib: No such file or directory\n",
      "collect2.exe: error: ld returned 1 exit status\n",
      "\n",
      "\n"
     ]
    },
    {
     "name": "stdout",
     "output_type": "stream",
     "text": [
      "\n",
      "You can find the C code in this temporary file: C:\\Users\\GERALD~1\\AppData\\Local\\Temp\\pytensor_compilation_error_fwf7q3w9\n"
     ]
    },
    {
     "name": "stderr",
     "output_type": "stream",
     "text": [
      "ERROR (pytensor.graph.rewriting.basic): Rewrite failure due to: constant_folding\n",
      "ERROR (pytensor.graph.rewriting.basic): node: ExpandDims{axis=0}(20.0)\n",
      "ERROR (pytensor.graph.rewriting.basic): TRACEBACK:\n",
      "ERROR (pytensor.graph.rewriting.basic): Traceback (most recent call last):\n",
      "  File \"c:\\Users\\Gerald Wong\\.conda\\envs\\hssm-play\\lib\\site-packages\\pytensor\\graph\\rewriting\\basic.py\", line 1922, in process_node\n",
      "    replacements = node_rewriter.transform(fgraph, node)\n",
      "  File \"c:\\Users\\Gerald Wong\\.conda\\envs\\hssm-play\\lib\\site-packages\\pytensor\\graph\\rewriting\\basic.py\", line 1086, in transform\n",
      "    return self.fn(fgraph, node)\n",
      "  File \"c:\\Users\\Gerald Wong\\.conda\\envs\\hssm-play\\lib\\site-packages\\pytensor\\tensor\\rewriting\\basic.py\", line 1173, in constant_folding\n",
      "    return unconditional_constant_folding.transform(fgraph, node)\n",
      "  File \"c:\\Users\\Gerald Wong\\.conda\\envs\\hssm-play\\lib\\site-packages\\pytensor\\graph\\rewriting\\basic.py\", line 1086, in transform\n",
      "    return self.fn(fgraph, node)\n",
      "  File \"c:\\Users\\Gerald Wong\\.conda\\envs\\hssm-play\\lib\\site-packages\\pytensor\\tensor\\rewriting\\basic.py\", line 1122, in unconditional_constant_folding\n",
      "    thunk = node.op.make_thunk(node, storage_map, compute_map, no_recycling=[])\n",
      "  File \"c:\\Users\\Gerald Wong\\.conda\\envs\\hssm-play\\lib\\site-packages\\pytensor\\link\\c\\op.py\", line 119, in make_thunk\n",
      "    return self.make_c_thunk(node, storage_map, compute_map, no_recycling)\n",
      "  File \"c:\\Users\\Gerald Wong\\.conda\\envs\\hssm-play\\lib\\site-packages\\pytensor\\link\\c\\op.py\", line 84, in make_c_thunk\n",
      "    outputs = cl.make_thunk(\n",
      "  File \"c:\\Users\\Gerald Wong\\.conda\\envs\\hssm-play\\lib\\site-packages\\pytensor\\link\\c\\basic.py\", line 1185, in make_thunk\n",
      "    cthunk, module, in_storage, out_storage, error_storage = self.__compile__(\n",
      "  File \"c:\\Users\\Gerald Wong\\.conda\\envs\\hssm-play\\lib\\site-packages\\pytensor\\link\\c\\basic.py\", line 1102, in __compile__\n",
      "    thunk, module = self.cthunk_factory(\n",
      "  File \"c:\\Users\\Gerald Wong\\.conda\\envs\\hssm-play\\lib\\site-packages\\pytensor\\link\\c\\basic.py\", line 1626, in cthunk_factory\n",
      "    module = cache.module_from_key(key=key, lnk=self)\n",
      "  File \"c:\\Users\\Gerald Wong\\.conda\\envs\\hssm-play\\lib\\site-packages\\pytensor\\link\\c\\cmodule.py\", line 1250, in module_from_key\n",
      "    module = lnk.compile_cmodule(location)\n",
      "  File \"c:\\Users\\Gerald Wong\\.conda\\envs\\hssm-play\\lib\\site-packages\\pytensor\\link\\c\\basic.py\", line 1527, in compile_cmodule\n",
      "    module = c_compiler.compile_str(\n",
      "  File \"c:\\Users\\Gerald Wong\\.conda\\envs\\hssm-play\\lib\\site-packages\\pytensor\\link\\c\\cmodule.py\", line 2676, in compile_str\n",
      "    raise CompileError(\n",
      "pytensor.link.c.exceptions.CompileError: Compilation failed (return status=1):\n",
      "\"C:\\Users\\Gerald Wong\\.conda\\envs\\hssm-play\\Library\\bin\\g++.EXE\" -shared -g -O3 -fno-math-errno -Wno-unused-label -Wno-unused-variable -Wno-write-strings -Wno-c++11-narrowing -fno-exceptions -fno-unwind-tables -fno-asynchronous-unwind-tables -DNPY_NO_DEPRECATED_API=NPY_1_7_API_VERSION -m64 -DMS_WIN64 -I\"c:\\Users\\Gerald Wong\\.conda\\envs\\hssm-play\\lib\\site-packages\\numpy\\core\\include\" -I\"c:\\Users\\Gerald Wong\\.conda\\envs\\hssm-play\\include\" -I\"c:\\Users\\Gerald Wong\\.conda\\envs\\hssm-play\\lib\\site-packages\\pytensor\\link\\c\\c_code\" -L\"c:\\Users\\Gerald Wong\\.conda\\envs\\hssm-play\\libs\" -L\"c:\\Users\\Gerald Wong\\.conda\\envs\\hssm-play\" -o \"C:\\Users\\Gerald Wong\\AppData\\Local\\PyTensor\\compiledir_Windows-10-10.0.26100-SP0-Intel64_Family_6_Model_154_Stepping_3_GenuineIntel-3.10.16-64\\tmp01wrjuud\\m52592e18fb66ba378e5be6fe9bccf91a7fa21d4d238285546214d2f3b9d3aec5.pyd\" \"C:\\Users\\Gerald Wong\\AppData\\Local\\PyTensor\\compiledir_Windows-10-10.0.26100-SP0-Intel64_Family_6_Model_154_Stepping_3_GenuineIntel-3.10.16-64\\tmp01wrjuud\\mod.cpp\" \"c:\\Users\\Gerald Wong\\.conda\\envs\\hssm-play\\python310.dll\"\n",
      "C:/Users/Gerald Wong/.conda/envs/hssm-play/Library/bin/../lib/gcc/x86_64-w64-mingw32/13.3.0/../../../../x86_64-w64-mingw32/bin/ld.exe: cannot find Wong/.conda/envs/hssm-play/Library/lib: No such file or directory\n",
      "collect2.exe: error: ld returned 1 exit status\n",
      "\n",
      "\n"
     ]
    },
    {
     "name": "stdout",
     "output_type": "stream",
     "text": [
      "\n",
      "You can find the C code in this temporary file: C:\\Users\\GERALD~1\\AppData\\Local\\Temp\\pytensor_compilation_error_3ynsfjr3\n"
     ]
    },
    {
     "name": "stderr",
     "output_type": "stream",
     "text": [
      "ERROR (pytensor.graph.rewriting.basic): Rewrite failure due to: constant_folding\n",
      "ERROR (pytensor.graph.rewriting.basic): node: ExpandDims{axis=0}(-1.0)\n",
      "ERROR (pytensor.graph.rewriting.basic): TRACEBACK:\n",
      "ERROR (pytensor.graph.rewriting.basic): Traceback (most recent call last):\n",
      "  File \"c:\\Users\\Gerald Wong\\.conda\\envs\\hssm-play\\lib\\site-packages\\pytensor\\graph\\rewriting\\basic.py\", line 1922, in process_node\n",
      "    replacements = node_rewriter.transform(fgraph, node)\n",
      "  File \"c:\\Users\\Gerald Wong\\.conda\\envs\\hssm-play\\lib\\site-packages\\pytensor\\graph\\rewriting\\basic.py\", line 1086, in transform\n",
      "    return self.fn(fgraph, node)\n",
      "  File \"c:\\Users\\Gerald Wong\\.conda\\envs\\hssm-play\\lib\\site-packages\\pytensor\\tensor\\rewriting\\basic.py\", line 1173, in constant_folding\n",
      "    return unconditional_constant_folding.transform(fgraph, node)\n",
      "  File \"c:\\Users\\Gerald Wong\\.conda\\envs\\hssm-play\\lib\\site-packages\\pytensor\\graph\\rewriting\\basic.py\", line 1086, in transform\n",
      "    return self.fn(fgraph, node)\n",
      "  File \"c:\\Users\\Gerald Wong\\.conda\\envs\\hssm-play\\lib\\site-packages\\pytensor\\tensor\\rewriting\\basic.py\", line 1122, in unconditional_constant_folding\n",
      "    thunk = node.op.make_thunk(node, storage_map, compute_map, no_recycling=[])\n",
      "  File \"c:\\Users\\Gerald Wong\\.conda\\envs\\hssm-play\\lib\\site-packages\\pytensor\\link\\c\\op.py\", line 119, in make_thunk\n",
      "    return self.make_c_thunk(node, storage_map, compute_map, no_recycling)\n",
      "  File \"c:\\Users\\Gerald Wong\\.conda\\envs\\hssm-play\\lib\\site-packages\\pytensor\\link\\c\\op.py\", line 84, in make_c_thunk\n",
      "    outputs = cl.make_thunk(\n",
      "  File \"c:\\Users\\Gerald Wong\\.conda\\envs\\hssm-play\\lib\\site-packages\\pytensor\\link\\c\\basic.py\", line 1185, in make_thunk\n",
      "    cthunk, module, in_storage, out_storage, error_storage = self.__compile__(\n",
      "  File \"c:\\Users\\Gerald Wong\\.conda\\envs\\hssm-play\\lib\\site-packages\\pytensor\\link\\c\\basic.py\", line 1102, in __compile__\n",
      "    thunk, module = self.cthunk_factory(\n",
      "  File \"c:\\Users\\Gerald Wong\\.conda\\envs\\hssm-play\\lib\\site-packages\\pytensor\\link\\c\\basic.py\", line 1626, in cthunk_factory\n",
      "    module = cache.module_from_key(key=key, lnk=self)\n",
      "  File \"c:\\Users\\Gerald Wong\\.conda\\envs\\hssm-play\\lib\\site-packages\\pytensor\\link\\c\\cmodule.py\", line 1250, in module_from_key\n",
      "    module = lnk.compile_cmodule(location)\n",
      "  File \"c:\\Users\\Gerald Wong\\.conda\\envs\\hssm-play\\lib\\site-packages\\pytensor\\link\\c\\basic.py\", line 1527, in compile_cmodule\n",
      "    module = c_compiler.compile_str(\n",
      "  File \"c:\\Users\\Gerald Wong\\.conda\\envs\\hssm-play\\lib\\site-packages\\pytensor\\link\\c\\cmodule.py\", line 2676, in compile_str\n",
      "    raise CompileError(\n",
      "pytensor.link.c.exceptions.CompileError: Compilation failed (return status=1):\n",
      "\"C:\\Users\\Gerald Wong\\.conda\\envs\\hssm-play\\Library\\bin\\g++.EXE\" -shared -g -O3 -fno-math-errno -Wno-unused-label -Wno-unused-variable -Wno-write-strings -Wno-c++11-narrowing -fno-exceptions -fno-unwind-tables -fno-asynchronous-unwind-tables -DNPY_NO_DEPRECATED_API=NPY_1_7_API_VERSION -m64 -DMS_WIN64 -I\"c:\\Users\\Gerald Wong\\.conda\\envs\\hssm-play\\lib\\site-packages\\numpy\\core\\include\" -I\"c:\\Users\\Gerald Wong\\.conda\\envs\\hssm-play\\include\" -I\"c:\\Users\\Gerald Wong\\.conda\\envs\\hssm-play\\lib\\site-packages\\pytensor\\link\\c\\c_code\" -L\"c:\\Users\\Gerald Wong\\.conda\\envs\\hssm-play\\libs\" -L\"c:\\Users\\Gerald Wong\\.conda\\envs\\hssm-play\" -o \"C:\\Users\\Gerald Wong\\AppData\\Local\\PyTensor\\compiledir_Windows-10-10.0.26100-SP0-Intel64_Family_6_Model_154_Stepping_3_GenuineIntel-3.10.16-64\\tmpox53d4t3\\m52592e18fb66ba378e5be6fe9bccf91a7fa21d4d238285546214d2f3b9d3aec5.pyd\" \"C:\\Users\\Gerald Wong\\AppData\\Local\\PyTensor\\compiledir_Windows-10-10.0.26100-SP0-Intel64_Family_6_Model_154_Stepping_3_GenuineIntel-3.10.16-64\\tmpox53d4t3\\mod.cpp\" \"c:\\Users\\Gerald Wong\\.conda\\envs\\hssm-play\\python310.dll\"\n",
      "C:/Users/Gerald Wong/.conda/envs/hssm-play/Library/bin/../lib/gcc/x86_64-w64-mingw32/13.3.0/../../../../x86_64-w64-mingw32/bin/ld.exe: cannot find Wong/.conda/envs/hssm-play/Library/lib: No such file or directory\n",
      "collect2.exe: error: ld returned 1 exit status\n",
      "\n",
      "\n"
     ]
    },
    {
     "name": "stdout",
     "output_type": "stream",
     "text": [
      "\n",
      "You can find the C code in this temporary file: C:\\Users\\GERALD~1\\AppData\\Local\\Temp\\pytensor_compilation_error_1xtgq4ma\n"
     ]
    },
    {
     "name": "stderr",
     "output_type": "stream",
     "text": [
      "ERROR (pytensor.graph.rewriting.basic): Rewrite failure due to: constant_folding\n",
      "ERROR (pytensor.graph.rewriting.basic): node: ExpandDims{axis=0}(0.0)\n",
      "ERROR (pytensor.graph.rewriting.basic): TRACEBACK:\n",
      "ERROR (pytensor.graph.rewriting.basic): Traceback (most recent call last):\n",
      "  File \"c:\\Users\\Gerald Wong\\.conda\\envs\\hssm-play\\lib\\site-packages\\pytensor\\graph\\rewriting\\basic.py\", line 1922, in process_node\n",
      "    replacements = node_rewriter.transform(fgraph, node)\n",
      "  File \"c:\\Users\\Gerald Wong\\.conda\\envs\\hssm-play\\lib\\site-packages\\pytensor\\graph\\rewriting\\basic.py\", line 1086, in transform\n",
      "    return self.fn(fgraph, node)\n",
      "  File \"c:\\Users\\Gerald Wong\\.conda\\envs\\hssm-play\\lib\\site-packages\\pytensor\\tensor\\rewriting\\basic.py\", line 1173, in constant_folding\n",
      "    return unconditional_constant_folding.transform(fgraph, node)\n",
      "  File \"c:\\Users\\Gerald Wong\\.conda\\envs\\hssm-play\\lib\\site-packages\\pytensor\\graph\\rewriting\\basic.py\", line 1086, in transform\n",
      "    return self.fn(fgraph, node)\n",
      "  File \"c:\\Users\\Gerald Wong\\.conda\\envs\\hssm-play\\lib\\site-packages\\pytensor\\tensor\\rewriting\\basic.py\", line 1122, in unconditional_constant_folding\n",
      "    thunk = node.op.make_thunk(node, storage_map, compute_map, no_recycling=[])\n",
      "  File \"c:\\Users\\Gerald Wong\\.conda\\envs\\hssm-play\\lib\\site-packages\\pytensor\\link\\c\\op.py\", line 119, in make_thunk\n",
      "    return self.make_c_thunk(node, storage_map, compute_map, no_recycling)\n",
      "  File \"c:\\Users\\Gerald Wong\\.conda\\envs\\hssm-play\\lib\\site-packages\\pytensor\\link\\c\\op.py\", line 84, in make_c_thunk\n",
      "    outputs = cl.make_thunk(\n",
      "  File \"c:\\Users\\Gerald Wong\\.conda\\envs\\hssm-play\\lib\\site-packages\\pytensor\\link\\c\\basic.py\", line 1185, in make_thunk\n",
      "    cthunk, module, in_storage, out_storage, error_storage = self.__compile__(\n",
      "  File \"c:\\Users\\Gerald Wong\\.conda\\envs\\hssm-play\\lib\\site-packages\\pytensor\\link\\c\\basic.py\", line 1102, in __compile__\n",
      "    thunk, module = self.cthunk_factory(\n",
      "  File \"c:\\Users\\Gerald Wong\\.conda\\envs\\hssm-play\\lib\\site-packages\\pytensor\\link\\c\\basic.py\", line 1626, in cthunk_factory\n",
      "    module = cache.module_from_key(key=key, lnk=self)\n",
      "  File \"c:\\Users\\Gerald Wong\\.conda\\envs\\hssm-play\\lib\\site-packages\\pytensor\\link\\c\\cmodule.py\", line 1250, in module_from_key\n",
      "    module = lnk.compile_cmodule(location)\n",
      "  File \"c:\\Users\\Gerald Wong\\.conda\\envs\\hssm-play\\lib\\site-packages\\pytensor\\link\\c\\basic.py\", line 1527, in compile_cmodule\n",
      "    module = c_compiler.compile_str(\n",
      "  File \"c:\\Users\\Gerald Wong\\.conda\\envs\\hssm-play\\lib\\site-packages\\pytensor\\link\\c\\cmodule.py\", line 2676, in compile_str\n",
      "    raise CompileError(\n",
      "pytensor.link.c.exceptions.CompileError: Compilation failed (return status=1):\n",
      "\"C:\\Users\\Gerald Wong\\.conda\\envs\\hssm-play\\Library\\bin\\g++.EXE\" -shared -g -O3 -fno-math-errno -Wno-unused-label -Wno-unused-variable -Wno-write-strings -Wno-c++11-narrowing -fno-exceptions -fno-unwind-tables -fno-asynchronous-unwind-tables -DNPY_NO_DEPRECATED_API=NPY_1_7_API_VERSION -m64 -DMS_WIN64 -I\"c:\\Users\\Gerald Wong\\.conda\\envs\\hssm-play\\lib\\site-packages\\numpy\\core\\include\" -I\"c:\\Users\\Gerald Wong\\.conda\\envs\\hssm-play\\include\" -I\"c:\\Users\\Gerald Wong\\.conda\\envs\\hssm-play\\lib\\site-packages\\pytensor\\link\\c\\c_code\" -L\"c:\\Users\\Gerald Wong\\.conda\\envs\\hssm-play\\libs\" -L\"c:\\Users\\Gerald Wong\\.conda\\envs\\hssm-play\" -o \"C:\\Users\\Gerald Wong\\AppData\\Local\\PyTensor\\compiledir_Windows-10-10.0.26100-SP0-Intel64_Family_6_Model_154_Stepping_3_GenuineIntel-3.10.16-64\\tmpimpy4q1p\\m52592e18fb66ba378e5be6fe9bccf91a7fa21d4d238285546214d2f3b9d3aec5.pyd\" \"C:\\Users\\Gerald Wong\\AppData\\Local\\PyTensor\\compiledir_Windows-10-10.0.26100-SP0-Intel64_Family_6_Model_154_Stepping_3_GenuineIntel-3.10.16-64\\tmpimpy4q1p\\mod.cpp\" \"c:\\Users\\Gerald Wong\\.conda\\envs\\hssm-play\\python310.dll\"\n",
      "C:/Users/Gerald Wong/.conda/envs/hssm-play/Library/bin/../lib/gcc/x86_64-w64-mingw32/13.3.0/../../../../x86_64-w64-mingw32/bin/ld.exe: cannot find Wong/.conda/envs/hssm-play/Library/lib: No such file or directory\n",
      "collect2.exe: error: ld returned 1 exit status\n",
      "\n",
      "\n"
     ]
    },
    {
     "name": "stdout",
     "output_type": "stream",
     "text": [
      "\n",
      "You can find the C code in this temporary file: C:\\Users\\GERALD~1\\AppData\\Local\\Temp\\pytensor_compilation_error_i11e3avk\n"
     ]
    },
    {
     "name": "stderr",
     "output_type": "stream",
     "text": [
      "ERROR (pytensor.graph.rewriting.basic): Rewrite failure due to: constant_folding\n",
      "ERROR (pytensor.graph.rewriting.basic): node: ExpandDims{axis=0}(-inf)\n",
      "ERROR (pytensor.graph.rewriting.basic): TRACEBACK:\n",
      "ERROR (pytensor.graph.rewriting.basic): Traceback (most recent call last):\n",
      "  File \"c:\\Users\\Gerald Wong\\.conda\\envs\\hssm-play\\lib\\site-packages\\pytensor\\graph\\rewriting\\basic.py\", line 1922, in process_node\n",
      "    replacements = node_rewriter.transform(fgraph, node)\n",
      "  File \"c:\\Users\\Gerald Wong\\.conda\\envs\\hssm-play\\lib\\site-packages\\pytensor\\graph\\rewriting\\basic.py\", line 1086, in transform\n",
      "    return self.fn(fgraph, node)\n",
      "  File \"c:\\Users\\Gerald Wong\\.conda\\envs\\hssm-play\\lib\\site-packages\\pytensor\\tensor\\rewriting\\basic.py\", line 1173, in constant_folding\n",
      "    return unconditional_constant_folding.transform(fgraph, node)\n",
      "  File \"c:\\Users\\Gerald Wong\\.conda\\envs\\hssm-play\\lib\\site-packages\\pytensor\\graph\\rewriting\\basic.py\", line 1086, in transform\n",
      "    return self.fn(fgraph, node)\n",
      "  File \"c:\\Users\\Gerald Wong\\.conda\\envs\\hssm-play\\lib\\site-packages\\pytensor\\tensor\\rewriting\\basic.py\", line 1122, in unconditional_constant_folding\n",
      "    thunk = node.op.make_thunk(node, storage_map, compute_map, no_recycling=[])\n",
      "  File \"c:\\Users\\Gerald Wong\\.conda\\envs\\hssm-play\\lib\\site-packages\\pytensor\\link\\c\\op.py\", line 119, in make_thunk\n",
      "    return self.make_c_thunk(node, storage_map, compute_map, no_recycling)\n",
      "  File \"c:\\Users\\Gerald Wong\\.conda\\envs\\hssm-play\\lib\\site-packages\\pytensor\\link\\c\\op.py\", line 84, in make_c_thunk\n",
      "    outputs = cl.make_thunk(\n",
      "  File \"c:\\Users\\Gerald Wong\\.conda\\envs\\hssm-play\\lib\\site-packages\\pytensor\\link\\c\\basic.py\", line 1185, in make_thunk\n",
      "    cthunk, module, in_storage, out_storage, error_storage = self.__compile__(\n",
      "  File \"c:\\Users\\Gerald Wong\\.conda\\envs\\hssm-play\\lib\\site-packages\\pytensor\\link\\c\\basic.py\", line 1102, in __compile__\n",
      "    thunk, module = self.cthunk_factory(\n",
      "  File \"c:\\Users\\Gerald Wong\\.conda\\envs\\hssm-play\\lib\\site-packages\\pytensor\\link\\c\\basic.py\", line 1626, in cthunk_factory\n",
      "    module = cache.module_from_key(key=key, lnk=self)\n",
      "  File \"c:\\Users\\Gerald Wong\\.conda\\envs\\hssm-play\\lib\\site-packages\\pytensor\\link\\c\\cmodule.py\", line 1250, in module_from_key\n",
      "    module = lnk.compile_cmodule(location)\n",
      "  File \"c:\\Users\\Gerald Wong\\.conda\\envs\\hssm-play\\lib\\site-packages\\pytensor\\link\\c\\basic.py\", line 1527, in compile_cmodule\n",
      "    module = c_compiler.compile_str(\n",
      "  File \"c:\\Users\\Gerald Wong\\.conda\\envs\\hssm-play\\lib\\site-packages\\pytensor\\link\\c\\cmodule.py\", line 2676, in compile_str\n",
      "    raise CompileError(\n",
      "pytensor.link.c.exceptions.CompileError: Compilation failed (return status=1):\n",
      "\"C:\\Users\\Gerald Wong\\.conda\\envs\\hssm-play\\Library\\bin\\g++.EXE\" -shared -g -O3 -fno-math-errno -Wno-unused-label -Wno-unused-variable -Wno-write-strings -Wno-c++11-narrowing -fno-exceptions -fno-unwind-tables -fno-asynchronous-unwind-tables -DNPY_NO_DEPRECATED_API=NPY_1_7_API_VERSION -m64 -DMS_WIN64 -I\"c:\\Users\\Gerald Wong\\.conda\\envs\\hssm-play\\lib\\site-packages\\numpy\\core\\include\" -I\"c:\\Users\\Gerald Wong\\.conda\\envs\\hssm-play\\include\" -I\"c:\\Users\\Gerald Wong\\.conda\\envs\\hssm-play\\lib\\site-packages\\pytensor\\link\\c\\c_code\" -L\"c:\\Users\\Gerald Wong\\.conda\\envs\\hssm-play\\libs\" -L\"c:\\Users\\Gerald Wong\\.conda\\envs\\hssm-play\" -o \"C:\\Users\\Gerald Wong\\AppData\\Local\\PyTensor\\compiledir_Windows-10-10.0.26100-SP0-Intel64_Family_6_Model_154_Stepping_3_GenuineIntel-3.10.16-64\\tmpp4kbk1ew\\m592274835bee3bcf7bf2cb65b70477fb2a0214df94b73fac749e4ac5fb9f3e01.pyd\" \"C:\\Users\\Gerald Wong\\AppData\\Local\\PyTensor\\compiledir_Windows-10-10.0.26100-SP0-Intel64_Family_6_Model_154_Stepping_3_GenuineIntel-3.10.16-64\\tmpp4kbk1ew\\mod.cpp\" \"c:\\Users\\Gerald Wong\\.conda\\envs\\hssm-play\\python310.dll\"\n",
      "C:/Users/Gerald Wong/.conda/envs/hssm-play/Library/bin/../lib/gcc/x86_64-w64-mingw32/13.3.0/../../../../x86_64-w64-mingw32/bin/ld.exe: cannot find Wong/.conda/envs/hssm-play/Library/lib: No such file or directory\n",
      "collect2.exe: error: ld returned 1 exit status\n",
      "\n",
      "\n"
     ]
    },
    {
     "name": "stdout",
     "output_type": "stream",
     "text": [
      "\n",
      "You can find the C code in this temporary file: C:\\Users\\GERALD~1\\AppData\\Local\\Temp\\pytensor_compilation_error_up_1qrkh\n"
     ]
    },
    {
     "name": "stderr",
     "output_type": "stream",
     "text": [
      "ERROR (pytensor.graph.rewriting.basic): Rewrite failure due to: constant_folding\n",
      "ERROR (pytensor.graph.rewriting.basic): node: ExpandDims{axis=0}(20.0)\n",
      "ERROR (pytensor.graph.rewriting.basic): TRACEBACK:\n",
      "ERROR (pytensor.graph.rewriting.basic): Traceback (most recent call last):\n",
      "  File \"c:\\Users\\Gerald Wong\\.conda\\envs\\hssm-play\\lib\\site-packages\\pytensor\\graph\\rewriting\\basic.py\", line 1922, in process_node\n",
      "    replacements = node_rewriter.transform(fgraph, node)\n",
      "  File \"c:\\Users\\Gerald Wong\\.conda\\envs\\hssm-play\\lib\\site-packages\\pytensor\\graph\\rewriting\\basic.py\", line 1086, in transform\n",
      "    return self.fn(fgraph, node)\n",
      "  File \"c:\\Users\\Gerald Wong\\.conda\\envs\\hssm-play\\lib\\site-packages\\pytensor\\tensor\\rewriting\\basic.py\", line 1173, in constant_folding\n",
      "    return unconditional_constant_folding.transform(fgraph, node)\n",
      "  File \"c:\\Users\\Gerald Wong\\.conda\\envs\\hssm-play\\lib\\site-packages\\pytensor\\graph\\rewriting\\basic.py\", line 1086, in transform\n",
      "    return self.fn(fgraph, node)\n",
      "  File \"c:\\Users\\Gerald Wong\\.conda\\envs\\hssm-play\\lib\\site-packages\\pytensor\\tensor\\rewriting\\basic.py\", line 1122, in unconditional_constant_folding\n",
      "    thunk = node.op.make_thunk(node, storage_map, compute_map, no_recycling=[])\n",
      "  File \"c:\\Users\\Gerald Wong\\.conda\\envs\\hssm-play\\lib\\site-packages\\pytensor\\link\\c\\op.py\", line 119, in make_thunk\n",
      "    return self.make_c_thunk(node, storage_map, compute_map, no_recycling)\n",
      "  File \"c:\\Users\\Gerald Wong\\.conda\\envs\\hssm-play\\lib\\site-packages\\pytensor\\link\\c\\op.py\", line 84, in make_c_thunk\n",
      "    outputs = cl.make_thunk(\n",
      "  File \"c:\\Users\\Gerald Wong\\.conda\\envs\\hssm-play\\lib\\site-packages\\pytensor\\link\\c\\basic.py\", line 1185, in make_thunk\n",
      "    cthunk, module, in_storage, out_storage, error_storage = self.__compile__(\n",
      "  File \"c:\\Users\\Gerald Wong\\.conda\\envs\\hssm-play\\lib\\site-packages\\pytensor\\link\\c\\basic.py\", line 1102, in __compile__\n",
      "    thunk, module = self.cthunk_factory(\n",
      "  File \"c:\\Users\\Gerald Wong\\.conda\\envs\\hssm-play\\lib\\site-packages\\pytensor\\link\\c\\basic.py\", line 1626, in cthunk_factory\n",
      "    module = cache.module_from_key(key=key, lnk=self)\n",
      "  File \"c:\\Users\\Gerald Wong\\.conda\\envs\\hssm-play\\lib\\site-packages\\pytensor\\link\\c\\cmodule.py\", line 1250, in module_from_key\n",
      "    module = lnk.compile_cmodule(location)\n",
      "  File \"c:\\Users\\Gerald Wong\\.conda\\envs\\hssm-play\\lib\\site-packages\\pytensor\\link\\c\\basic.py\", line 1527, in compile_cmodule\n",
      "    module = c_compiler.compile_str(\n",
      "  File \"c:\\Users\\Gerald Wong\\.conda\\envs\\hssm-play\\lib\\site-packages\\pytensor\\link\\c\\cmodule.py\", line 2676, in compile_str\n",
      "    raise CompileError(\n",
      "pytensor.link.c.exceptions.CompileError: Compilation failed (return status=1):\n",
      "\"C:\\Users\\Gerald Wong\\.conda\\envs\\hssm-play\\Library\\bin\\g++.EXE\" -shared -g -O3 -fno-math-errno -Wno-unused-label -Wno-unused-variable -Wno-write-strings -Wno-c++11-narrowing -fno-exceptions -fno-unwind-tables -fno-asynchronous-unwind-tables -DNPY_NO_DEPRECATED_API=NPY_1_7_API_VERSION -m64 -DMS_WIN64 -I\"c:\\Users\\Gerald Wong\\.conda\\envs\\hssm-play\\lib\\site-packages\\numpy\\core\\include\" -I\"c:\\Users\\Gerald Wong\\.conda\\envs\\hssm-play\\include\" -I\"c:\\Users\\Gerald Wong\\.conda\\envs\\hssm-play\\lib\\site-packages\\pytensor\\link\\c\\c_code\" -L\"c:\\Users\\Gerald Wong\\.conda\\envs\\hssm-play\\libs\" -L\"c:\\Users\\Gerald Wong\\.conda\\envs\\hssm-play\" -o \"C:\\Users\\Gerald Wong\\AppData\\Local\\PyTensor\\compiledir_Windows-10-10.0.26100-SP0-Intel64_Family_6_Model_154_Stepping_3_GenuineIntel-3.10.16-64\\tmp5vahoq_b\\m52592e18fb66ba378e5be6fe9bccf91a7fa21d4d238285546214d2f3b9d3aec5.pyd\" \"C:\\Users\\Gerald Wong\\AppData\\Local\\PyTensor\\compiledir_Windows-10-10.0.26100-SP0-Intel64_Family_6_Model_154_Stepping_3_GenuineIntel-3.10.16-64\\tmp5vahoq_b\\mod.cpp\" \"c:\\Users\\Gerald Wong\\.conda\\envs\\hssm-play\\python310.dll\"\n",
      "C:/Users/Gerald Wong/.conda/envs/hssm-play/Library/bin/../lib/gcc/x86_64-w64-mingw32/13.3.0/../../../../x86_64-w64-mingw32/bin/ld.exe: cannot find Wong/.conda/envs/hssm-play/Library/lib: No such file or directory\n",
      "collect2.exe: error: ld returned 1 exit status\n",
      "\n",
      "\n"
     ]
    },
    {
     "name": "stdout",
     "output_type": "stream",
     "text": [
      "\n",
      "You can find the C code in this temporary file: C:\\Users\\GERALD~1\\AppData\\Local\\Temp\\pytensor_compilation_error_3d_2k6yq\n"
     ]
    },
    {
     "name": "stderr",
     "output_type": "stream",
     "text": [
      "ERROR (pytensor.graph.rewriting.basic): Rewrite failure due to: constant_folding\n",
      "ERROR (pytensor.graph.rewriting.basic): node: ExpandDims{axis=0}(-1.0)\n",
      "ERROR (pytensor.graph.rewriting.basic): TRACEBACK:\n",
      "ERROR (pytensor.graph.rewriting.basic): Traceback (most recent call last):\n",
      "  File \"c:\\Users\\Gerald Wong\\.conda\\envs\\hssm-play\\lib\\site-packages\\pytensor\\graph\\rewriting\\basic.py\", line 1922, in process_node\n",
      "    replacements = node_rewriter.transform(fgraph, node)\n",
      "  File \"c:\\Users\\Gerald Wong\\.conda\\envs\\hssm-play\\lib\\site-packages\\pytensor\\graph\\rewriting\\basic.py\", line 1086, in transform\n",
      "    return self.fn(fgraph, node)\n",
      "  File \"c:\\Users\\Gerald Wong\\.conda\\envs\\hssm-play\\lib\\site-packages\\pytensor\\tensor\\rewriting\\basic.py\", line 1173, in constant_folding\n",
      "    return unconditional_constant_folding.transform(fgraph, node)\n",
      "  File \"c:\\Users\\Gerald Wong\\.conda\\envs\\hssm-play\\lib\\site-packages\\pytensor\\graph\\rewriting\\basic.py\", line 1086, in transform\n",
      "    return self.fn(fgraph, node)\n",
      "  File \"c:\\Users\\Gerald Wong\\.conda\\envs\\hssm-play\\lib\\site-packages\\pytensor\\tensor\\rewriting\\basic.py\", line 1122, in unconditional_constant_folding\n",
      "    thunk = node.op.make_thunk(node, storage_map, compute_map, no_recycling=[])\n",
      "  File \"c:\\Users\\Gerald Wong\\.conda\\envs\\hssm-play\\lib\\site-packages\\pytensor\\link\\c\\op.py\", line 119, in make_thunk\n",
      "    return self.make_c_thunk(node, storage_map, compute_map, no_recycling)\n",
      "  File \"c:\\Users\\Gerald Wong\\.conda\\envs\\hssm-play\\lib\\site-packages\\pytensor\\link\\c\\op.py\", line 84, in make_c_thunk\n",
      "    outputs = cl.make_thunk(\n",
      "  File \"c:\\Users\\Gerald Wong\\.conda\\envs\\hssm-play\\lib\\site-packages\\pytensor\\link\\c\\basic.py\", line 1185, in make_thunk\n",
      "    cthunk, module, in_storage, out_storage, error_storage = self.__compile__(\n",
      "  File \"c:\\Users\\Gerald Wong\\.conda\\envs\\hssm-play\\lib\\site-packages\\pytensor\\link\\c\\basic.py\", line 1102, in __compile__\n",
      "    thunk, module = self.cthunk_factory(\n",
      "  File \"c:\\Users\\Gerald Wong\\.conda\\envs\\hssm-play\\lib\\site-packages\\pytensor\\link\\c\\basic.py\", line 1626, in cthunk_factory\n",
      "    module = cache.module_from_key(key=key, lnk=self)\n",
      "  File \"c:\\Users\\Gerald Wong\\.conda\\envs\\hssm-play\\lib\\site-packages\\pytensor\\link\\c\\cmodule.py\", line 1250, in module_from_key\n",
      "    module = lnk.compile_cmodule(location)\n",
      "  File \"c:\\Users\\Gerald Wong\\.conda\\envs\\hssm-play\\lib\\site-packages\\pytensor\\link\\c\\basic.py\", line 1527, in compile_cmodule\n",
      "    module = c_compiler.compile_str(\n",
      "  File \"c:\\Users\\Gerald Wong\\.conda\\envs\\hssm-play\\lib\\site-packages\\pytensor\\link\\c\\cmodule.py\", line 2676, in compile_str\n",
      "    raise CompileError(\n",
      "pytensor.link.c.exceptions.CompileError: Compilation failed (return status=1):\n",
      "\"C:\\Users\\Gerald Wong\\.conda\\envs\\hssm-play\\Library\\bin\\g++.EXE\" -shared -g -O3 -fno-math-errno -Wno-unused-label -Wno-unused-variable -Wno-write-strings -Wno-c++11-narrowing -fno-exceptions -fno-unwind-tables -fno-asynchronous-unwind-tables -DNPY_NO_DEPRECATED_API=NPY_1_7_API_VERSION -m64 -DMS_WIN64 -I\"c:\\Users\\Gerald Wong\\.conda\\envs\\hssm-play\\lib\\site-packages\\numpy\\core\\include\" -I\"c:\\Users\\Gerald Wong\\.conda\\envs\\hssm-play\\include\" -I\"c:\\Users\\Gerald Wong\\.conda\\envs\\hssm-play\\lib\\site-packages\\pytensor\\link\\c\\c_code\" -L\"c:\\Users\\Gerald Wong\\.conda\\envs\\hssm-play\\libs\" -L\"c:\\Users\\Gerald Wong\\.conda\\envs\\hssm-play\" -o \"C:\\Users\\Gerald Wong\\AppData\\Local\\PyTensor\\compiledir_Windows-10-10.0.26100-SP0-Intel64_Family_6_Model_154_Stepping_3_GenuineIntel-3.10.16-64\\tmp3_ord24_\\m52592e18fb66ba378e5be6fe9bccf91a7fa21d4d238285546214d2f3b9d3aec5.pyd\" \"C:\\Users\\Gerald Wong\\AppData\\Local\\PyTensor\\compiledir_Windows-10-10.0.26100-SP0-Intel64_Family_6_Model_154_Stepping_3_GenuineIntel-3.10.16-64\\tmp3_ord24_\\mod.cpp\" \"c:\\Users\\Gerald Wong\\.conda\\envs\\hssm-play\\python310.dll\"\n",
      "C:/Users/Gerald Wong/.conda/envs/hssm-play/Library/bin/../lib/gcc/x86_64-w64-mingw32/13.3.0/../../../../x86_64-w64-mingw32/bin/ld.exe: cannot find Wong/.conda/envs/hssm-play/Library/lib: No such file or directory\n",
      "collect2.exe: error: ld returned 1 exit status\n",
      "\n",
      "\n"
     ]
    },
    {
     "name": "stdout",
     "output_type": "stream",
     "text": [
      "\n",
      "You can find the C code in this temporary file: C:\\Users\\GERALD~1\\AppData\\Local\\Temp\\pytensor_compilation_error_k7i08r4z\n"
     ]
    },
    {
     "name": "stderr",
     "output_type": "stream",
     "text": [
      "ERROR (pytensor.graph.rewriting.basic): Rewrite failure due to: constant_folding\n",
      "ERROR (pytensor.graph.rewriting.basic): node: ExpandDims{axis=0}(0.0)\n",
      "ERROR (pytensor.graph.rewriting.basic): TRACEBACK:\n",
      "ERROR (pytensor.graph.rewriting.basic): Traceback (most recent call last):\n",
      "  File \"c:\\Users\\Gerald Wong\\.conda\\envs\\hssm-play\\lib\\site-packages\\pytensor\\graph\\rewriting\\basic.py\", line 1922, in process_node\n",
      "    replacements = node_rewriter.transform(fgraph, node)\n",
      "  File \"c:\\Users\\Gerald Wong\\.conda\\envs\\hssm-play\\lib\\site-packages\\pytensor\\graph\\rewriting\\basic.py\", line 1086, in transform\n",
      "    return self.fn(fgraph, node)\n",
      "  File \"c:\\Users\\Gerald Wong\\.conda\\envs\\hssm-play\\lib\\site-packages\\pytensor\\tensor\\rewriting\\basic.py\", line 1173, in constant_folding\n",
      "    return unconditional_constant_folding.transform(fgraph, node)\n",
      "  File \"c:\\Users\\Gerald Wong\\.conda\\envs\\hssm-play\\lib\\site-packages\\pytensor\\graph\\rewriting\\basic.py\", line 1086, in transform\n",
      "    return self.fn(fgraph, node)\n",
      "  File \"c:\\Users\\Gerald Wong\\.conda\\envs\\hssm-play\\lib\\site-packages\\pytensor\\tensor\\rewriting\\basic.py\", line 1122, in unconditional_constant_folding\n",
      "    thunk = node.op.make_thunk(node, storage_map, compute_map, no_recycling=[])\n",
      "  File \"c:\\Users\\Gerald Wong\\.conda\\envs\\hssm-play\\lib\\site-packages\\pytensor\\link\\c\\op.py\", line 119, in make_thunk\n",
      "    return self.make_c_thunk(node, storage_map, compute_map, no_recycling)\n",
      "  File \"c:\\Users\\Gerald Wong\\.conda\\envs\\hssm-play\\lib\\site-packages\\pytensor\\link\\c\\op.py\", line 84, in make_c_thunk\n",
      "    outputs = cl.make_thunk(\n",
      "  File \"c:\\Users\\Gerald Wong\\.conda\\envs\\hssm-play\\lib\\site-packages\\pytensor\\link\\c\\basic.py\", line 1185, in make_thunk\n",
      "    cthunk, module, in_storage, out_storage, error_storage = self.__compile__(\n",
      "  File \"c:\\Users\\Gerald Wong\\.conda\\envs\\hssm-play\\lib\\site-packages\\pytensor\\link\\c\\basic.py\", line 1102, in __compile__\n",
      "    thunk, module = self.cthunk_factory(\n",
      "  File \"c:\\Users\\Gerald Wong\\.conda\\envs\\hssm-play\\lib\\site-packages\\pytensor\\link\\c\\basic.py\", line 1626, in cthunk_factory\n",
      "    module = cache.module_from_key(key=key, lnk=self)\n",
      "  File \"c:\\Users\\Gerald Wong\\.conda\\envs\\hssm-play\\lib\\site-packages\\pytensor\\link\\c\\cmodule.py\", line 1250, in module_from_key\n",
      "    module = lnk.compile_cmodule(location)\n",
      "  File \"c:\\Users\\Gerald Wong\\.conda\\envs\\hssm-play\\lib\\site-packages\\pytensor\\link\\c\\basic.py\", line 1527, in compile_cmodule\n",
      "    module = c_compiler.compile_str(\n",
      "  File \"c:\\Users\\Gerald Wong\\.conda\\envs\\hssm-play\\lib\\site-packages\\pytensor\\link\\c\\cmodule.py\", line 2676, in compile_str\n",
      "    raise CompileError(\n",
      "pytensor.link.c.exceptions.CompileError: Compilation failed (return status=1):\n",
      "\"C:\\Users\\Gerald Wong\\.conda\\envs\\hssm-play\\Library\\bin\\g++.EXE\" -shared -g -O3 -fno-math-errno -Wno-unused-label -Wno-unused-variable -Wno-write-strings -Wno-c++11-narrowing -fno-exceptions -fno-unwind-tables -fno-asynchronous-unwind-tables -DNPY_NO_DEPRECATED_API=NPY_1_7_API_VERSION -m64 -DMS_WIN64 -I\"c:\\Users\\Gerald Wong\\.conda\\envs\\hssm-play\\lib\\site-packages\\numpy\\core\\include\" -I\"c:\\Users\\Gerald Wong\\.conda\\envs\\hssm-play\\include\" -I\"c:\\Users\\Gerald Wong\\.conda\\envs\\hssm-play\\lib\\site-packages\\pytensor\\link\\c\\c_code\" -L\"c:\\Users\\Gerald Wong\\.conda\\envs\\hssm-play\\libs\" -L\"c:\\Users\\Gerald Wong\\.conda\\envs\\hssm-play\" -o \"C:\\Users\\Gerald Wong\\AppData\\Local\\PyTensor\\compiledir_Windows-10-10.0.26100-SP0-Intel64_Family_6_Model_154_Stepping_3_GenuineIntel-3.10.16-64\\tmpkged_rkb\\m52592e18fb66ba378e5be6fe9bccf91a7fa21d4d238285546214d2f3b9d3aec5.pyd\" \"C:\\Users\\Gerald Wong\\AppData\\Local\\PyTensor\\compiledir_Windows-10-10.0.26100-SP0-Intel64_Family_6_Model_154_Stepping_3_GenuineIntel-3.10.16-64\\tmpkged_rkb\\mod.cpp\" \"c:\\Users\\Gerald Wong\\.conda\\envs\\hssm-play\\python310.dll\"\n",
      "C:/Users/Gerald Wong/.conda/envs/hssm-play/Library/bin/../lib/gcc/x86_64-w64-mingw32/13.3.0/../../../../x86_64-w64-mingw32/bin/ld.exe: cannot find Wong/.conda/envs/hssm-play/Library/lib: No such file or directory\n",
      "collect2.exe: error: ld returned 1 exit status\n",
      "\n",
      "\n"
     ]
    },
    {
     "name": "stdout",
     "output_type": "stream",
     "text": [
      "\n",
      "You can find the C code in this temporary file: C:\\Users\\GERALD~1\\AppData\\Local\\Temp\\pytensor_compilation_error_ojy23fc5\n"
     ]
    },
    {
     "name": "stderr",
     "output_type": "stream",
     "text": [
      "ERROR (pytensor.graph.rewriting.basic): Rewrite failure due to: constant_folding\n",
      "ERROR (pytensor.graph.rewriting.basic): node: ExpandDims{axis=0}(-inf)\n",
      "ERROR (pytensor.graph.rewriting.basic): TRACEBACK:\n",
      "ERROR (pytensor.graph.rewriting.basic): Traceback (most recent call last):\n",
      "  File \"c:\\Users\\Gerald Wong\\.conda\\envs\\hssm-play\\lib\\site-packages\\pytensor\\graph\\rewriting\\basic.py\", line 1922, in process_node\n",
      "    replacements = node_rewriter.transform(fgraph, node)\n",
      "  File \"c:\\Users\\Gerald Wong\\.conda\\envs\\hssm-play\\lib\\site-packages\\pytensor\\graph\\rewriting\\basic.py\", line 1086, in transform\n",
      "    return self.fn(fgraph, node)\n",
      "  File \"c:\\Users\\Gerald Wong\\.conda\\envs\\hssm-play\\lib\\site-packages\\pytensor\\tensor\\rewriting\\basic.py\", line 1173, in constant_folding\n",
      "    return unconditional_constant_folding.transform(fgraph, node)\n",
      "  File \"c:\\Users\\Gerald Wong\\.conda\\envs\\hssm-play\\lib\\site-packages\\pytensor\\graph\\rewriting\\basic.py\", line 1086, in transform\n",
      "    return self.fn(fgraph, node)\n",
      "  File \"c:\\Users\\Gerald Wong\\.conda\\envs\\hssm-play\\lib\\site-packages\\pytensor\\tensor\\rewriting\\basic.py\", line 1122, in unconditional_constant_folding\n",
      "    thunk = node.op.make_thunk(node, storage_map, compute_map, no_recycling=[])\n",
      "  File \"c:\\Users\\Gerald Wong\\.conda\\envs\\hssm-play\\lib\\site-packages\\pytensor\\link\\c\\op.py\", line 119, in make_thunk\n",
      "    return self.make_c_thunk(node, storage_map, compute_map, no_recycling)\n",
      "  File \"c:\\Users\\Gerald Wong\\.conda\\envs\\hssm-play\\lib\\site-packages\\pytensor\\link\\c\\op.py\", line 84, in make_c_thunk\n",
      "    outputs = cl.make_thunk(\n",
      "  File \"c:\\Users\\Gerald Wong\\.conda\\envs\\hssm-play\\lib\\site-packages\\pytensor\\link\\c\\basic.py\", line 1185, in make_thunk\n",
      "    cthunk, module, in_storage, out_storage, error_storage = self.__compile__(\n",
      "  File \"c:\\Users\\Gerald Wong\\.conda\\envs\\hssm-play\\lib\\site-packages\\pytensor\\link\\c\\basic.py\", line 1102, in __compile__\n",
      "    thunk, module = self.cthunk_factory(\n",
      "  File \"c:\\Users\\Gerald Wong\\.conda\\envs\\hssm-play\\lib\\site-packages\\pytensor\\link\\c\\basic.py\", line 1626, in cthunk_factory\n",
      "    module = cache.module_from_key(key=key, lnk=self)\n",
      "  File \"c:\\Users\\Gerald Wong\\.conda\\envs\\hssm-play\\lib\\site-packages\\pytensor\\link\\c\\cmodule.py\", line 1250, in module_from_key\n",
      "    module = lnk.compile_cmodule(location)\n",
      "  File \"c:\\Users\\Gerald Wong\\.conda\\envs\\hssm-play\\lib\\site-packages\\pytensor\\link\\c\\basic.py\", line 1527, in compile_cmodule\n",
      "    module = c_compiler.compile_str(\n",
      "  File \"c:\\Users\\Gerald Wong\\.conda\\envs\\hssm-play\\lib\\site-packages\\pytensor\\link\\c\\cmodule.py\", line 2676, in compile_str\n",
      "    raise CompileError(\n",
      "pytensor.link.c.exceptions.CompileError: Compilation failed (return status=1):\n",
      "\"C:\\Users\\Gerald Wong\\.conda\\envs\\hssm-play\\Library\\bin\\g++.EXE\" -shared -g -O3 -fno-math-errno -Wno-unused-label -Wno-unused-variable -Wno-write-strings -Wno-c++11-narrowing -fno-exceptions -fno-unwind-tables -fno-asynchronous-unwind-tables -DNPY_NO_DEPRECATED_API=NPY_1_7_API_VERSION -m64 -DMS_WIN64 -I\"c:\\Users\\Gerald Wong\\.conda\\envs\\hssm-play\\lib\\site-packages\\numpy\\core\\include\" -I\"c:\\Users\\Gerald Wong\\.conda\\envs\\hssm-play\\include\" -I\"c:\\Users\\Gerald Wong\\.conda\\envs\\hssm-play\\lib\\site-packages\\pytensor\\link\\c\\c_code\" -L\"c:\\Users\\Gerald Wong\\.conda\\envs\\hssm-play\\libs\" -L\"c:\\Users\\Gerald Wong\\.conda\\envs\\hssm-play\" -o \"C:\\Users\\Gerald Wong\\AppData\\Local\\PyTensor\\compiledir_Windows-10-10.0.26100-SP0-Intel64_Family_6_Model_154_Stepping_3_GenuineIntel-3.10.16-64\\tmp6_1hpyb0\\m592274835bee3bcf7bf2cb65b70477fb2a0214df94b73fac749e4ac5fb9f3e01.pyd\" \"C:\\Users\\Gerald Wong\\AppData\\Local\\PyTensor\\compiledir_Windows-10-10.0.26100-SP0-Intel64_Family_6_Model_154_Stepping_3_GenuineIntel-3.10.16-64\\tmp6_1hpyb0\\mod.cpp\" \"c:\\Users\\Gerald Wong\\.conda\\envs\\hssm-play\\python310.dll\"\n",
      "C:/Users/Gerald Wong/.conda/envs/hssm-play/Library/bin/../lib/gcc/x86_64-w64-mingw32/13.3.0/../../../../x86_64-w64-mingw32/bin/ld.exe: cannot find Wong/.conda/envs/hssm-play/Library/lib: No such file or directory\n",
      "collect2.exe: error: ld returned 1 exit status\n",
      "\n",
      "\n"
     ]
    },
    {
     "name": "stdout",
     "output_type": "stream",
     "text": [
      "\n",
      "You can find the C code in this temporary file: C:\\Users\\GERALD~1\\AppData\\Local\\Temp\\pytensor_compilation_error_5v96daul\n"
     ]
    },
    {
     "name": "stderr",
     "output_type": "stream",
     "text": [
      "ERROR (pytensor.graph.rewriting.basic): Rewrite failure due to: constant_folding\n",
      "ERROR (pytensor.graph.rewriting.basic): node: ExpandDims{axis=0}(20.0)\n",
      "ERROR (pytensor.graph.rewriting.basic): TRACEBACK:\n",
      "ERROR (pytensor.graph.rewriting.basic): Traceback (most recent call last):\n",
      "  File \"c:\\Users\\Gerald Wong\\.conda\\envs\\hssm-play\\lib\\site-packages\\pytensor\\graph\\rewriting\\basic.py\", line 1922, in process_node\n",
      "    replacements = node_rewriter.transform(fgraph, node)\n",
      "  File \"c:\\Users\\Gerald Wong\\.conda\\envs\\hssm-play\\lib\\site-packages\\pytensor\\graph\\rewriting\\basic.py\", line 1086, in transform\n",
      "    return self.fn(fgraph, node)\n",
      "  File \"c:\\Users\\Gerald Wong\\.conda\\envs\\hssm-play\\lib\\site-packages\\pytensor\\tensor\\rewriting\\basic.py\", line 1173, in constant_folding\n",
      "    return unconditional_constant_folding.transform(fgraph, node)\n",
      "  File \"c:\\Users\\Gerald Wong\\.conda\\envs\\hssm-play\\lib\\site-packages\\pytensor\\graph\\rewriting\\basic.py\", line 1086, in transform\n",
      "    return self.fn(fgraph, node)\n",
      "  File \"c:\\Users\\Gerald Wong\\.conda\\envs\\hssm-play\\lib\\site-packages\\pytensor\\tensor\\rewriting\\basic.py\", line 1122, in unconditional_constant_folding\n",
      "    thunk = node.op.make_thunk(node, storage_map, compute_map, no_recycling=[])\n",
      "  File \"c:\\Users\\Gerald Wong\\.conda\\envs\\hssm-play\\lib\\site-packages\\pytensor\\link\\c\\op.py\", line 119, in make_thunk\n",
      "    return self.make_c_thunk(node, storage_map, compute_map, no_recycling)\n",
      "  File \"c:\\Users\\Gerald Wong\\.conda\\envs\\hssm-play\\lib\\site-packages\\pytensor\\link\\c\\op.py\", line 84, in make_c_thunk\n",
      "    outputs = cl.make_thunk(\n",
      "  File \"c:\\Users\\Gerald Wong\\.conda\\envs\\hssm-play\\lib\\site-packages\\pytensor\\link\\c\\basic.py\", line 1185, in make_thunk\n",
      "    cthunk, module, in_storage, out_storage, error_storage = self.__compile__(\n",
      "  File \"c:\\Users\\Gerald Wong\\.conda\\envs\\hssm-play\\lib\\site-packages\\pytensor\\link\\c\\basic.py\", line 1102, in __compile__\n",
      "    thunk, module = self.cthunk_factory(\n",
      "  File \"c:\\Users\\Gerald Wong\\.conda\\envs\\hssm-play\\lib\\site-packages\\pytensor\\link\\c\\basic.py\", line 1626, in cthunk_factory\n",
      "    module = cache.module_from_key(key=key, lnk=self)\n",
      "  File \"c:\\Users\\Gerald Wong\\.conda\\envs\\hssm-play\\lib\\site-packages\\pytensor\\link\\c\\cmodule.py\", line 1250, in module_from_key\n",
      "    module = lnk.compile_cmodule(location)\n",
      "  File \"c:\\Users\\Gerald Wong\\.conda\\envs\\hssm-play\\lib\\site-packages\\pytensor\\link\\c\\basic.py\", line 1527, in compile_cmodule\n",
      "    module = c_compiler.compile_str(\n",
      "  File \"c:\\Users\\Gerald Wong\\.conda\\envs\\hssm-play\\lib\\site-packages\\pytensor\\link\\c\\cmodule.py\", line 2676, in compile_str\n",
      "    raise CompileError(\n",
      "pytensor.link.c.exceptions.CompileError: Compilation failed (return status=1):\n",
      "\"C:\\Users\\Gerald Wong\\.conda\\envs\\hssm-play\\Library\\bin\\g++.EXE\" -shared -g -O3 -fno-math-errno -Wno-unused-label -Wno-unused-variable -Wno-write-strings -Wno-c++11-narrowing -fno-exceptions -fno-unwind-tables -fno-asynchronous-unwind-tables -DNPY_NO_DEPRECATED_API=NPY_1_7_API_VERSION -m64 -DMS_WIN64 -I\"c:\\Users\\Gerald Wong\\.conda\\envs\\hssm-play\\lib\\site-packages\\numpy\\core\\include\" -I\"c:\\Users\\Gerald Wong\\.conda\\envs\\hssm-play\\include\" -I\"c:\\Users\\Gerald Wong\\.conda\\envs\\hssm-play\\lib\\site-packages\\pytensor\\link\\c\\c_code\" -L\"c:\\Users\\Gerald Wong\\.conda\\envs\\hssm-play\\libs\" -L\"c:\\Users\\Gerald Wong\\.conda\\envs\\hssm-play\" -o \"C:\\Users\\Gerald Wong\\AppData\\Local\\PyTensor\\compiledir_Windows-10-10.0.26100-SP0-Intel64_Family_6_Model_154_Stepping_3_GenuineIntel-3.10.16-64\\tmp7vqcicpo\\m52592e18fb66ba378e5be6fe9bccf91a7fa21d4d238285546214d2f3b9d3aec5.pyd\" \"C:\\Users\\Gerald Wong\\AppData\\Local\\PyTensor\\compiledir_Windows-10-10.0.26100-SP0-Intel64_Family_6_Model_154_Stepping_3_GenuineIntel-3.10.16-64\\tmp7vqcicpo\\mod.cpp\" \"c:\\Users\\Gerald Wong\\.conda\\envs\\hssm-play\\python310.dll\"\n",
      "C:/Users/Gerald Wong/.conda/envs/hssm-play/Library/bin/../lib/gcc/x86_64-w64-mingw32/13.3.0/../../../../x86_64-w64-mingw32/bin/ld.exe: cannot find Wong/.conda/envs/hssm-play/Library/lib: No such file or directory\n",
      "collect2.exe: error: ld returned 1 exit status\n",
      "\n",
      "\n"
     ]
    },
    {
     "name": "stdout",
     "output_type": "stream",
     "text": [
      "\n",
      "You can find the C code in this temporary file: C:\\Users\\GERALD~1\\AppData\\Local\\Temp\\pytensor_compilation_error_esy_4u9w\n"
     ]
    },
    {
     "name": "stderr",
     "output_type": "stream",
     "text": [
      "ERROR (pytensor.graph.rewriting.basic): Rewrite failure due to: constant_folding\n",
      "ERROR (pytensor.graph.rewriting.basic): node: ExpandDims{axis=0}(-1.0)\n",
      "ERROR (pytensor.graph.rewriting.basic): TRACEBACK:\n",
      "ERROR (pytensor.graph.rewriting.basic): Traceback (most recent call last):\n",
      "  File \"c:\\Users\\Gerald Wong\\.conda\\envs\\hssm-play\\lib\\site-packages\\pytensor\\graph\\rewriting\\basic.py\", line 1922, in process_node\n",
      "    replacements = node_rewriter.transform(fgraph, node)\n",
      "  File \"c:\\Users\\Gerald Wong\\.conda\\envs\\hssm-play\\lib\\site-packages\\pytensor\\graph\\rewriting\\basic.py\", line 1086, in transform\n",
      "    return self.fn(fgraph, node)\n",
      "  File \"c:\\Users\\Gerald Wong\\.conda\\envs\\hssm-play\\lib\\site-packages\\pytensor\\tensor\\rewriting\\basic.py\", line 1173, in constant_folding\n",
      "    return unconditional_constant_folding.transform(fgraph, node)\n",
      "  File \"c:\\Users\\Gerald Wong\\.conda\\envs\\hssm-play\\lib\\site-packages\\pytensor\\graph\\rewriting\\basic.py\", line 1086, in transform\n",
      "    return self.fn(fgraph, node)\n",
      "  File \"c:\\Users\\Gerald Wong\\.conda\\envs\\hssm-play\\lib\\site-packages\\pytensor\\tensor\\rewriting\\basic.py\", line 1122, in unconditional_constant_folding\n",
      "    thunk = node.op.make_thunk(node, storage_map, compute_map, no_recycling=[])\n",
      "  File \"c:\\Users\\Gerald Wong\\.conda\\envs\\hssm-play\\lib\\site-packages\\pytensor\\link\\c\\op.py\", line 119, in make_thunk\n",
      "    return self.make_c_thunk(node, storage_map, compute_map, no_recycling)\n",
      "  File \"c:\\Users\\Gerald Wong\\.conda\\envs\\hssm-play\\lib\\site-packages\\pytensor\\link\\c\\op.py\", line 84, in make_c_thunk\n",
      "    outputs = cl.make_thunk(\n",
      "  File \"c:\\Users\\Gerald Wong\\.conda\\envs\\hssm-play\\lib\\site-packages\\pytensor\\link\\c\\basic.py\", line 1185, in make_thunk\n",
      "    cthunk, module, in_storage, out_storage, error_storage = self.__compile__(\n",
      "  File \"c:\\Users\\Gerald Wong\\.conda\\envs\\hssm-play\\lib\\site-packages\\pytensor\\link\\c\\basic.py\", line 1102, in __compile__\n",
      "    thunk, module = self.cthunk_factory(\n",
      "  File \"c:\\Users\\Gerald Wong\\.conda\\envs\\hssm-play\\lib\\site-packages\\pytensor\\link\\c\\basic.py\", line 1626, in cthunk_factory\n",
      "    module = cache.module_from_key(key=key, lnk=self)\n",
      "  File \"c:\\Users\\Gerald Wong\\.conda\\envs\\hssm-play\\lib\\site-packages\\pytensor\\link\\c\\cmodule.py\", line 1250, in module_from_key\n",
      "    module = lnk.compile_cmodule(location)\n",
      "  File \"c:\\Users\\Gerald Wong\\.conda\\envs\\hssm-play\\lib\\site-packages\\pytensor\\link\\c\\basic.py\", line 1527, in compile_cmodule\n",
      "    module = c_compiler.compile_str(\n",
      "  File \"c:\\Users\\Gerald Wong\\.conda\\envs\\hssm-play\\lib\\site-packages\\pytensor\\link\\c\\cmodule.py\", line 2676, in compile_str\n",
      "    raise CompileError(\n",
      "pytensor.link.c.exceptions.CompileError: Compilation failed (return status=1):\n",
      "\"C:\\Users\\Gerald Wong\\.conda\\envs\\hssm-play\\Library\\bin\\g++.EXE\" -shared -g -O3 -fno-math-errno -Wno-unused-label -Wno-unused-variable -Wno-write-strings -Wno-c++11-narrowing -fno-exceptions -fno-unwind-tables -fno-asynchronous-unwind-tables -DNPY_NO_DEPRECATED_API=NPY_1_7_API_VERSION -m64 -DMS_WIN64 -I\"c:\\Users\\Gerald Wong\\.conda\\envs\\hssm-play\\lib\\site-packages\\numpy\\core\\include\" -I\"c:\\Users\\Gerald Wong\\.conda\\envs\\hssm-play\\include\" -I\"c:\\Users\\Gerald Wong\\.conda\\envs\\hssm-play\\lib\\site-packages\\pytensor\\link\\c\\c_code\" -L\"c:\\Users\\Gerald Wong\\.conda\\envs\\hssm-play\\libs\" -L\"c:\\Users\\Gerald Wong\\.conda\\envs\\hssm-play\" -o \"C:\\Users\\Gerald Wong\\AppData\\Local\\PyTensor\\compiledir_Windows-10-10.0.26100-SP0-Intel64_Family_6_Model_154_Stepping_3_GenuineIntel-3.10.16-64\\tmpn9f89fm4\\m52592e18fb66ba378e5be6fe9bccf91a7fa21d4d238285546214d2f3b9d3aec5.pyd\" \"C:\\Users\\Gerald Wong\\AppData\\Local\\PyTensor\\compiledir_Windows-10-10.0.26100-SP0-Intel64_Family_6_Model_154_Stepping_3_GenuineIntel-3.10.16-64\\tmpn9f89fm4\\mod.cpp\" \"c:\\Users\\Gerald Wong\\.conda\\envs\\hssm-play\\python310.dll\"\n",
      "C:/Users/Gerald Wong/.conda/envs/hssm-play/Library/bin/../lib/gcc/x86_64-w64-mingw32/13.3.0/../../../../x86_64-w64-mingw32/bin/ld.exe: cannot find Wong/.conda/envs/hssm-play/Library/lib: No such file or directory\n",
      "collect2.exe: error: ld returned 1 exit status\n",
      "\n",
      "\n"
     ]
    },
    {
     "name": "stdout",
     "output_type": "stream",
     "text": [
      "\n",
      "You can find the C code in this temporary file: C:\\Users\\GERALD~1\\AppData\\Local\\Temp\\pytensor_compilation_error_ywp4t3a1\n"
     ]
    },
    {
     "name": "stderr",
     "output_type": "stream",
     "text": [
      "ERROR (pytensor.graph.rewriting.basic): Rewrite failure due to: constant_folding\n",
      "ERROR (pytensor.graph.rewriting.basic): node: ExpandDims{axis=0}(0.0)\n",
      "ERROR (pytensor.graph.rewriting.basic): TRACEBACK:\n",
      "ERROR (pytensor.graph.rewriting.basic): Traceback (most recent call last):\n",
      "  File \"c:\\Users\\Gerald Wong\\.conda\\envs\\hssm-play\\lib\\site-packages\\pytensor\\graph\\rewriting\\basic.py\", line 1922, in process_node\n",
      "    replacements = node_rewriter.transform(fgraph, node)\n",
      "  File \"c:\\Users\\Gerald Wong\\.conda\\envs\\hssm-play\\lib\\site-packages\\pytensor\\graph\\rewriting\\basic.py\", line 1086, in transform\n",
      "    return self.fn(fgraph, node)\n",
      "  File \"c:\\Users\\Gerald Wong\\.conda\\envs\\hssm-play\\lib\\site-packages\\pytensor\\tensor\\rewriting\\basic.py\", line 1173, in constant_folding\n",
      "    return unconditional_constant_folding.transform(fgraph, node)\n",
      "  File \"c:\\Users\\Gerald Wong\\.conda\\envs\\hssm-play\\lib\\site-packages\\pytensor\\graph\\rewriting\\basic.py\", line 1086, in transform\n",
      "    return self.fn(fgraph, node)\n",
      "  File \"c:\\Users\\Gerald Wong\\.conda\\envs\\hssm-play\\lib\\site-packages\\pytensor\\tensor\\rewriting\\basic.py\", line 1122, in unconditional_constant_folding\n",
      "    thunk = node.op.make_thunk(node, storage_map, compute_map, no_recycling=[])\n",
      "  File \"c:\\Users\\Gerald Wong\\.conda\\envs\\hssm-play\\lib\\site-packages\\pytensor\\link\\c\\op.py\", line 119, in make_thunk\n",
      "    return self.make_c_thunk(node, storage_map, compute_map, no_recycling)\n",
      "  File \"c:\\Users\\Gerald Wong\\.conda\\envs\\hssm-play\\lib\\site-packages\\pytensor\\link\\c\\op.py\", line 84, in make_c_thunk\n",
      "    outputs = cl.make_thunk(\n",
      "  File \"c:\\Users\\Gerald Wong\\.conda\\envs\\hssm-play\\lib\\site-packages\\pytensor\\link\\c\\basic.py\", line 1185, in make_thunk\n",
      "    cthunk, module, in_storage, out_storage, error_storage = self.__compile__(\n",
      "  File \"c:\\Users\\Gerald Wong\\.conda\\envs\\hssm-play\\lib\\site-packages\\pytensor\\link\\c\\basic.py\", line 1102, in __compile__\n",
      "    thunk, module = self.cthunk_factory(\n",
      "  File \"c:\\Users\\Gerald Wong\\.conda\\envs\\hssm-play\\lib\\site-packages\\pytensor\\link\\c\\basic.py\", line 1626, in cthunk_factory\n",
      "    module = cache.module_from_key(key=key, lnk=self)\n",
      "  File \"c:\\Users\\Gerald Wong\\.conda\\envs\\hssm-play\\lib\\site-packages\\pytensor\\link\\c\\cmodule.py\", line 1250, in module_from_key\n",
      "    module = lnk.compile_cmodule(location)\n",
      "  File \"c:\\Users\\Gerald Wong\\.conda\\envs\\hssm-play\\lib\\site-packages\\pytensor\\link\\c\\basic.py\", line 1527, in compile_cmodule\n",
      "    module = c_compiler.compile_str(\n",
      "  File \"c:\\Users\\Gerald Wong\\.conda\\envs\\hssm-play\\lib\\site-packages\\pytensor\\link\\c\\cmodule.py\", line 2676, in compile_str\n",
      "    raise CompileError(\n",
      "pytensor.link.c.exceptions.CompileError: Compilation failed (return status=1):\n",
      "\"C:\\Users\\Gerald Wong\\.conda\\envs\\hssm-play\\Library\\bin\\g++.EXE\" -shared -g -O3 -fno-math-errno -Wno-unused-label -Wno-unused-variable -Wno-write-strings -Wno-c++11-narrowing -fno-exceptions -fno-unwind-tables -fno-asynchronous-unwind-tables -DNPY_NO_DEPRECATED_API=NPY_1_7_API_VERSION -m64 -DMS_WIN64 -I\"c:\\Users\\Gerald Wong\\.conda\\envs\\hssm-play\\lib\\site-packages\\numpy\\core\\include\" -I\"c:\\Users\\Gerald Wong\\.conda\\envs\\hssm-play\\include\" -I\"c:\\Users\\Gerald Wong\\.conda\\envs\\hssm-play\\lib\\site-packages\\pytensor\\link\\c\\c_code\" -L\"c:\\Users\\Gerald Wong\\.conda\\envs\\hssm-play\\libs\" -L\"c:\\Users\\Gerald Wong\\.conda\\envs\\hssm-play\" -o \"C:\\Users\\Gerald Wong\\AppData\\Local\\PyTensor\\compiledir_Windows-10-10.0.26100-SP0-Intel64_Family_6_Model_154_Stepping_3_GenuineIntel-3.10.16-64\\tmpuv18fktl\\m52592e18fb66ba378e5be6fe9bccf91a7fa21d4d238285546214d2f3b9d3aec5.pyd\" \"C:\\Users\\Gerald Wong\\AppData\\Local\\PyTensor\\compiledir_Windows-10-10.0.26100-SP0-Intel64_Family_6_Model_154_Stepping_3_GenuineIntel-3.10.16-64\\tmpuv18fktl\\mod.cpp\" \"c:\\Users\\Gerald Wong\\.conda\\envs\\hssm-play\\python310.dll\"\n",
      "C:/Users/Gerald Wong/.conda/envs/hssm-play/Library/bin/../lib/gcc/x86_64-w64-mingw32/13.3.0/../../../../x86_64-w64-mingw32/bin/ld.exe: cannot find Wong/.conda/envs/hssm-play/Library/lib: No such file or directory\n",
      "collect2.exe: error: ld returned 1 exit status\n",
      "\n",
      "\n"
     ]
    },
    {
     "name": "stdout",
     "output_type": "stream",
     "text": [
      "\n",
      "You can find the C code in this temporary file: C:\\Users\\GERALD~1\\AppData\\Local\\Temp\\pytensor_compilation_error_fflyypph\n"
     ]
    },
    {
     "name": "stderr",
     "output_type": "stream",
     "text": [
      "ERROR (pytensor.graph.rewriting.basic): Rewrite failure due to: constant_folding\n",
      "ERROR (pytensor.graph.rewriting.basic): node: ExpandDims{axis=0}(-inf)\n",
      "ERROR (pytensor.graph.rewriting.basic): TRACEBACK:\n",
      "ERROR (pytensor.graph.rewriting.basic): Traceback (most recent call last):\n",
      "  File \"c:\\Users\\Gerald Wong\\.conda\\envs\\hssm-play\\lib\\site-packages\\pytensor\\graph\\rewriting\\basic.py\", line 1922, in process_node\n",
      "    replacements = node_rewriter.transform(fgraph, node)\n",
      "  File \"c:\\Users\\Gerald Wong\\.conda\\envs\\hssm-play\\lib\\site-packages\\pytensor\\graph\\rewriting\\basic.py\", line 1086, in transform\n",
      "    return self.fn(fgraph, node)\n",
      "  File \"c:\\Users\\Gerald Wong\\.conda\\envs\\hssm-play\\lib\\site-packages\\pytensor\\tensor\\rewriting\\basic.py\", line 1173, in constant_folding\n",
      "    return unconditional_constant_folding.transform(fgraph, node)\n",
      "  File \"c:\\Users\\Gerald Wong\\.conda\\envs\\hssm-play\\lib\\site-packages\\pytensor\\graph\\rewriting\\basic.py\", line 1086, in transform\n",
      "    return self.fn(fgraph, node)\n",
      "  File \"c:\\Users\\Gerald Wong\\.conda\\envs\\hssm-play\\lib\\site-packages\\pytensor\\tensor\\rewriting\\basic.py\", line 1122, in unconditional_constant_folding\n",
      "    thunk = node.op.make_thunk(node, storage_map, compute_map, no_recycling=[])\n",
      "  File \"c:\\Users\\Gerald Wong\\.conda\\envs\\hssm-play\\lib\\site-packages\\pytensor\\link\\c\\op.py\", line 119, in make_thunk\n",
      "    return self.make_c_thunk(node, storage_map, compute_map, no_recycling)\n",
      "  File \"c:\\Users\\Gerald Wong\\.conda\\envs\\hssm-play\\lib\\site-packages\\pytensor\\link\\c\\op.py\", line 84, in make_c_thunk\n",
      "    outputs = cl.make_thunk(\n",
      "  File \"c:\\Users\\Gerald Wong\\.conda\\envs\\hssm-play\\lib\\site-packages\\pytensor\\link\\c\\basic.py\", line 1185, in make_thunk\n",
      "    cthunk, module, in_storage, out_storage, error_storage = self.__compile__(\n",
      "  File \"c:\\Users\\Gerald Wong\\.conda\\envs\\hssm-play\\lib\\site-packages\\pytensor\\link\\c\\basic.py\", line 1102, in __compile__\n",
      "    thunk, module = self.cthunk_factory(\n",
      "  File \"c:\\Users\\Gerald Wong\\.conda\\envs\\hssm-play\\lib\\site-packages\\pytensor\\link\\c\\basic.py\", line 1626, in cthunk_factory\n",
      "    module = cache.module_from_key(key=key, lnk=self)\n",
      "  File \"c:\\Users\\Gerald Wong\\.conda\\envs\\hssm-play\\lib\\site-packages\\pytensor\\link\\c\\cmodule.py\", line 1250, in module_from_key\n",
      "    module = lnk.compile_cmodule(location)\n",
      "  File \"c:\\Users\\Gerald Wong\\.conda\\envs\\hssm-play\\lib\\site-packages\\pytensor\\link\\c\\basic.py\", line 1527, in compile_cmodule\n",
      "    module = c_compiler.compile_str(\n",
      "  File \"c:\\Users\\Gerald Wong\\.conda\\envs\\hssm-play\\lib\\site-packages\\pytensor\\link\\c\\cmodule.py\", line 2676, in compile_str\n",
      "    raise CompileError(\n",
      "pytensor.link.c.exceptions.CompileError: Compilation failed (return status=1):\n",
      "\"C:\\Users\\Gerald Wong\\.conda\\envs\\hssm-play\\Library\\bin\\g++.EXE\" -shared -g -O3 -fno-math-errno -Wno-unused-label -Wno-unused-variable -Wno-write-strings -Wno-c++11-narrowing -fno-exceptions -fno-unwind-tables -fno-asynchronous-unwind-tables -DNPY_NO_DEPRECATED_API=NPY_1_7_API_VERSION -m64 -DMS_WIN64 -I\"c:\\Users\\Gerald Wong\\.conda\\envs\\hssm-play\\lib\\site-packages\\numpy\\core\\include\" -I\"c:\\Users\\Gerald Wong\\.conda\\envs\\hssm-play\\include\" -I\"c:\\Users\\Gerald Wong\\.conda\\envs\\hssm-play\\lib\\site-packages\\pytensor\\link\\c\\c_code\" -L\"c:\\Users\\Gerald Wong\\.conda\\envs\\hssm-play\\libs\" -L\"c:\\Users\\Gerald Wong\\.conda\\envs\\hssm-play\" -o \"C:\\Users\\Gerald Wong\\AppData\\Local\\PyTensor\\compiledir_Windows-10-10.0.26100-SP0-Intel64_Family_6_Model_154_Stepping_3_GenuineIntel-3.10.16-64\\tmpq22v6ze5\\m592274835bee3bcf7bf2cb65b70477fb2a0214df94b73fac749e4ac5fb9f3e01.pyd\" \"C:\\Users\\Gerald Wong\\AppData\\Local\\PyTensor\\compiledir_Windows-10-10.0.26100-SP0-Intel64_Family_6_Model_154_Stepping_3_GenuineIntel-3.10.16-64\\tmpq22v6ze5\\mod.cpp\" \"c:\\Users\\Gerald Wong\\.conda\\envs\\hssm-play\\python310.dll\"\n",
      "C:/Users/Gerald Wong/.conda/envs/hssm-play/Library/bin/../lib/gcc/x86_64-w64-mingw32/13.3.0/../../../../x86_64-w64-mingw32/bin/ld.exe: cannot find Wong/.conda/envs/hssm-play/Library/lib: No such file or directory\n",
      "collect2.exe: error: ld returned 1 exit status\n",
      "\n",
      "\n"
     ]
    },
    {
     "name": "stdout",
     "output_type": "stream",
     "text": [
      "\n",
      "You can find the C code in this temporary file: C:\\Users\\GERALD~1\\AppData\\Local\\Temp\\pytensor_compilation_error_zqlz3f1s\n"
     ]
    },
    {
     "name": "stderr",
     "output_type": "stream",
     "text": [
      "ERROR (pytensor.graph.rewriting.basic): Rewrite failure due to: constant_folding\n",
      "ERROR (pytensor.graph.rewriting.basic): node: ExpandDims{axis=0}(20.0)\n",
      "ERROR (pytensor.graph.rewriting.basic): TRACEBACK:\n",
      "ERROR (pytensor.graph.rewriting.basic): Traceback (most recent call last):\n",
      "  File \"c:\\Users\\Gerald Wong\\.conda\\envs\\hssm-play\\lib\\site-packages\\pytensor\\graph\\rewriting\\basic.py\", line 1922, in process_node\n",
      "    replacements = node_rewriter.transform(fgraph, node)\n",
      "  File \"c:\\Users\\Gerald Wong\\.conda\\envs\\hssm-play\\lib\\site-packages\\pytensor\\graph\\rewriting\\basic.py\", line 1086, in transform\n",
      "    return self.fn(fgraph, node)\n",
      "  File \"c:\\Users\\Gerald Wong\\.conda\\envs\\hssm-play\\lib\\site-packages\\pytensor\\tensor\\rewriting\\basic.py\", line 1173, in constant_folding\n",
      "    return unconditional_constant_folding.transform(fgraph, node)\n",
      "  File \"c:\\Users\\Gerald Wong\\.conda\\envs\\hssm-play\\lib\\site-packages\\pytensor\\graph\\rewriting\\basic.py\", line 1086, in transform\n",
      "    return self.fn(fgraph, node)\n",
      "  File \"c:\\Users\\Gerald Wong\\.conda\\envs\\hssm-play\\lib\\site-packages\\pytensor\\tensor\\rewriting\\basic.py\", line 1122, in unconditional_constant_folding\n",
      "    thunk = node.op.make_thunk(node, storage_map, compute_map, no_recycling=[])\n",
      "  File \"c:\\Users\\Gerald Wong\\.conda\\envs\\hssm-play\\lib\\site-packages\\pytensor\\link\\c\\op.py\", line 119, in make_thunk\n",
      "    return self.make_c_thunk(node, storage_map, compute_map, no_recycling)\n",
      "  File \"c:\\Users\\Gerald Wong\\.conda\\envs\\hssm-play\\lib\\site-packages\\pytensor\\link\\c\\op.py\", line 84, in make_c_thunk\n",
      "    outputs = cl.make_thunk(\n",
      "  File \"c:\\Users\\Gerald Wong\\.conda\\envs\\hssm-play\\lib\\site-packages\\pytensor\\link\\c\\basic.py\", line 1185, in make_thunk\n",
      "    cthunk, module, in_storage, out_storage, error_storage = self.__compile__(\n",
      "  File \"c:\\Users\\Gerald Wong\\.conda\\envs\\hssm-play\\lib\\site-packages\\pytensor\\link\\c\\basic.py\", line 1102, in __compile__\n",
      "    thunk, module = self.cthunk_factory(\n",
      "  File \"c:\\Users\\Gerald Wong\\.conda\\envs\\hssm-play\\lib\\site-packages\\pytensor\\link\\c\\basic.py\", line 1626, in cthunk_factory\n",
      "    module = cache.module_from_key(key=key, lnk=self)\n",
      "  File \"c:\\Users\\Gerald Wong\\.conda\\envs\\hssm-play\\lib\\site-packages\\pytensor\\link\\c\\cmodule.py\", line 1250, in module_from_key\n",
      "    module = lnk.compile_cmodule(location)\n",
      "  File \"c:\\Users\\Gerald Wong\\.conda\\envs\\hssm-play\\lib\\site-packages\\pytensor\\link\\c\\basic.py\", line 1527, in compile_cmodule\n",
      "    module = c_compiler.compile_str(\n",
      "  File \"c:\\Users\\Gerald Wong\\.conda\\envs\\hssm-play\\lib\\site-packages\\pytensor\\link\\c\\cmodule.py\", line 2676, in compile_str\n",
      "    raise CompileError(\n",
      "pytensor.link.c.exceptions.CompileError: Compilation failed (return status=1):\n",
      "\"C:\\Users\\Gerald Wong\\.conda\\envs\\hssm-play\\Library\\bin\\g++.EXE\" -shared -g -O3 -fno-math-errno -Wno-unused-label -Wno-unused-variable -Wno-write-strings -Wno-c++11-narrowing -fno-exceptions -fno-unwind-tables -fno-asynchronous-unwind-tables -DNPY_NO_DEPRECATED_API=NPY_1_7_API_VERSION -m64 -DMS_WIN64 -I\"c:\\Users\\Gerald Wong\\.conda\\envs\\hssm-play\\lib\\site-packages\\numpy\\core\\include\" -I\"c:\\Users\\Gerald Wong\\.conda\\envs\\hssm-play\\include\" -I\"c:\\Users\\Gerald Wong\\.conda\\envs\\hssm-play\\lib\\site-packages\\pytensor\\link\\c\\c_code\" -L\"c:\\Users\\Gerald Wong\\.conda\\envs\\hssm-play\\libs\" -L\"c:\\Users\\Gerald Wong\\.conda\\envs\\hssm-play\" -o \"C:\\Users\\Gerald Wong\\AppData\\Local\\PyTensor\\compiledir_Windows-10-10.0.26100-SP0-Intel64_Family_6_Model_154_Stepping_3_GenuineIntel-3.10.16-64\\tmpxiv53p1h\\m52592e18fb66ba378e5be6fe9bccf91a7fa21d4d238285546214d2f3b9d3aec5.pyd\" \"C:\\Users\\Gerald Wong\\AppData\\Local\\PyTensor\\compiledir_Windows-10-10.0.26100-SP0-Intel64_Family_6_Model_154_Stepping_3_GenuineIntel-3.10.16-64\\tmpxiv53p1h\\mod.cpp\" \"c:\\Users\\Gerald Wong\\.conda\\envs\\hssm-play\\python310.dll\"\n",
      "C:/Users/Gerald Wong/.conda/envs/hssm-play/Library/bin/../lib/gcc/x86_64-w64-mingw32/13.3.0/../../../../x86_64-w64-mingw32/bin/ld.exe: cannot find Wong/.conda/envs/hssm-play/Library/lib: No such file or directory\n",
      "collect2.exe: error: ld returned 1 exit status\n",
      "\n",
      "\n"
     ]
    },
    {
     "name": "stdout",
     "output_type": "stream",
     "text": [
      "\n",
      "You can find the C code in this temporary file: C:\\Users\\GERALD~1\\AppData\\Local\\Temp\\pytensor_compilation_error_9so39ih7\n"
     ]
    },
    {
     "ename": "KeyboardInterrupt",
     "evalue": "",
     "output_type": "error",
     "traceback": [
      "\u001b[1;31m---------------------------------------------------------------------------\u001b[0m",
      "\u001b[1;31mKeyboardInterrupt\u001b[0m                         Traceback (most recent call last)",
      "Cell \u001b[1;32mIn[21], line 1\u001b[0m\n\u001b[1;32m----> 1\u001b[0m simple_ddm \u001b[38;5;241m=\u001b[39m \u001b[43mhssm\u001b[49m\u001b[38;5;241;43m.\u001b[39;49m\u001b[43mHSSM\u001b[49m\u001b[43m(\u001b[49m\u001b[43mdata\u001b[49m\u001b[38;5;241;43m=\u001b[39;49m\u001b[43mdataset\u001b[49m\u001b[43m)\u001b[49m\n",
      "File \u001b[1;32mc:\\Users\\Gerald Wong\\.conda\\envs\\hssm-play\\lib\\site-packages\\hssm\\hssm.py:460\u001b[0m, in \u001b[0;36mHSSM.__init__\u001b[1;34m(self, data, model, choices, include, model_config, loglik, loglik_kind, p_outlier, lapse, global_formula, link_settings, prior_settings, extra_namespace, missing_data, deadline, loglik_missing_data, process_initvals, initval_jitter, **kwargs)\u001b[0m\n\u001b[0;32m    456\u001b[0m \u001b[38;5;28mself\u001b[39m\u001b[38;5;241m.\u001b[39mlapse \u001b[38;5;241m=\u001b[39m lapse \u001b[38;5;28;01mif\u001b[39;00m \u001b[38;5;28mself\u001b[39m\u001b[38;5;241m.\u001b[39mhas_lapse \u001b[38;5;28;01melse\u001b[39;00m \u001b[38;5;28;01mNone\u001b[39;00m\n\u001b[0;32m    458\u001b[0m \u001b[38;5;28mself\u001b[39m\u001b[38;5;241m.\u001b[39m_post_check_data_sanity()\n\u001b[1;32m--> 460\u001b[0m \u001b[38;5;28mself\u001b[39m\u001b[38;5;241m.\u001b[39mmodel_distribution \u001b[38;5;241m=\u001b[39m \u001b[38;5;28;43mself\u001b[39;49m\u001b[38;5;241;43m.\u001b[39;49m\u001b[43m_make_model_distribution\u001b[49m\u001b[43m(\u001b[49m\u001b[43m)\u001b[49m\n\u001b[0;32m    462\u001b[0m \u001b[38;5;28mself\u001b[39m\u001b[38;5;241m.\u001b[39mfamily \u001b[38;5;241m=\u001b[39m make_family(\n\u001b[0;32m    463\u001b[0m     \u001b[38;5;28mself\u001b[39m\u001b[38;5;241m.\u001b[39mmodel_distribution,\n\u001b[0;32m    464\u001b[0m     \u001b[38;5;28mself\u001b[39m\u001b[38;5;241m.\u001b[39mlist_params,\n\u001b[0;32m    465\u001b[0m     \u001b[38;5;28mself\u001b[39m\u001b[38;5;241m.\u001b[39mlink,\n\u001b[0;32m    466\u001b[0m     \u001b[38;5;28mself\u001b[39m\u001b[38;5;241m.\u001b[39m_parent,\n\u001b[0;32m    467\u001b[0m )\n\u001b[0;32m    469\u001b[0m \u001b[38;5;28mself\u001b[39m\u001b[38;5;241m.\u001b[39mmodel \u001b[38;5;241m=\u001b[39m bmb\u001b[38;5;241m.\u001b[39mModel(\n\u001b[0;32m    470\u001b[0m     \u001b[38;5;28mself\u001b[39m\u001b[38;5;241m.\u001b[39mformula,\n\u001b[0;32m    471\u001b[0m     data\u001b[38;5;241m=\u001b[39m\u001b[38;5;28mself\u001b[39m\u001b[38;5;241m.\u001b[39mdata,\n\u001b[1;32m   (...)\u001b[0m\n\u001b[0;32m    475\u001b[0m     \u001b[38;5;241m*\u001b[39m\u001b[38;5;241m*\u001b[39mkwargs,\n\u001b[0;32m    476\u001b[0m )\n",
      "File \u001b[1;32mc:\\Users\\Gerald Wong\\.conda\\envs\\hssm-play\\lib\\site-packages\\hssm\\hssm.py:1931\u001b[0m, in \u001b[0;36mHSSM._make_model_distribution\u001b[1;34m(self)\u001b[0m\n\u001b[0;32m   1923\u001b[0m     \u001b[38;5;28mself\u001b[39m\u001b[38;5;241m.\u001b[39mloglik \u001b[38;5;241m=\u001b[39m assemble_callables(\n\u001b[0;32m   1924\u001b[0m         \u001b[38;5;28mself\u001b[39m\u001b[38;5;241m.\u001b[39mloglik,\n\u001b[0;32m   1925\u001b[0m         \u001b[38;5;28mself\u001b[39m\u001b[38;5;241m.\u001b[39mloglik_missing_data,\n\u001b[0;32m   1926\u001b[0m         params_only,\n\u001b[0;32m   1927\u001b[0m         has_deadline\u001b[38;5;241m=\u001b[39m\u001b[38;5;28mself\u001b[39m\u001b[38;5;241m.\u001b[39mdeadline,\n\u001b[0;32m   1928\u001b[0m     )\n\u001b[0;32m   1930\u001b[0m \u001b[38;5;28mself\u001b[39m\u001b[38;5;241m.\u001b[39mdata \u001b[38;5;241m=\u001b[39m _rearrange_data(\u001b[38;5;28mself\u001b[39m\u001b[38;5;241m.\u001b[39mdata)\n\u001b[1;32m-> 1931\u001b[0m \u001b[38;5;28;01mreturn\u001b[39;00m \u001b[43mmake_distribution\u001b[49m\u001b[43m(\u001b[49m\n\u001b[0;32m   1932\u001b[0m \u001b[43m    \u001b[49m\u001b[43mrv\u001b[49m\u001b[38;5;241;43m=\u001b[39;49m\u001b[38;5;28;43mself\u001b[39;49m\u001b[38;5;241;43m.\u001b[39;49m\u001b[43mmodel_config\u001b[49m\u001b[38;5;241;43m.\u001b[39;49m\u001b[43mrv\u001b[49m\u001b[43m \u001b[49m\u001b[38;5;129;43;01mor\u001b[39;49;00m\u001b[43m \u001b[49m\u001b[38;5;28;43mself\u001b[39;49m\u001b[38;5;241;43m.\u001b[39;49m\u001b[43mmodel_name\u001b[49m\u001b[43m,\u001b[49m\n\u001b[0;32m   1933\u001b[0m \u001b[43m    \u001b[49m\u001b[43mloglik\u001b[49m\u001b[38;5;241;43m=\u001b[39;49m\u001b[38;5;28;43mself\u001b[39;49m\u001b[38;5;241;43m.\u001b[39;49m\u001b[43mloglik\u001b[49m\u001b[43m,\u001b[49m\n\u001b[0;32m   1934\u001b[0m \u001b[43m    \u001b[49m\u001b[43mlist_params\u001b[49m\u001b[38;5;241;43m=\u001b[39;49m\u001b[38;5;28;43mself\u001b[39;49m\u001b[38;5;241;43m.\u001b[39;49m\u001b[43mlist_params\u001b[49m\u001b[43m,\u001b[49m\n\u001b[0;32m   1935\u001b[0m \u001b[43m    \u001b[49m\u001b[43mbounds\u001b[49m\u001b[38;5;241;43m=\u001b[39;49m\u001b[38;5;28;43mself\u001b[39;49m\u001b[38;5;241;43m.\u001b[39;49m\u001b[43mbounds\u001b[49m\u001b[43m,\u001b[49m\n\u001b[0;32m   1936\u001b[0m \u001b[43m    \u001b[49m\u001b[43mlapse\u001b[49m\u001b[38;5;241;43m=\u001b[39;49m\u001b[38;5;28;43mself\u001b[39;49m\u001b[38;5;241;43m.\u001b[39;49m\u001b[43mlapse\u001b[49m\u001b[43m,\u001b[49m\n\u001b[0;32m   1937\u001b[0m \u001b[43m    \u001b[49m\u001b[43mextra_fields\u001b[49m\u001b[38;5;241;43m=\u001b[39;49m\u001b[43m(\u001b[49m\n\u001b[0;32m   1938\u001b[0m \u001b[43m        \u001b[49m\u001b[38;5;28;43;01mNone\u001b[39;49;00m\n\u001b[0;32m   1939\u001b[0m \u001b[43m        \u001b[49m\u001b[38;5;28;43;01mif\u001b[39;49;00m\u001b[43m \u001b[49m\u001b[38;5;129;43;01mnot\u001b[39;49;00m\u001b[43m \u001b[49m\u001b[38;5;28;43mself\u001b[39;49m\u001b[38;5;241;43m.\u001b[39;49m\u001b[43mextra_fields\u001b[49m\n\u001b[0;32m   1940\u001b[0m \u001b[43m        \u001b[49m\u001b[38;5;28;43;01melse\u001b[39;49;00m\u001b[43m \u001b[49m\u001b[43m[\u001b[49m\u001b[43mdeepcopy\u001b[49m\u001b[43m(\u001b[49m\u001b[38;5;28;43mself\u001b[39;49m\u001b[38;5;241;43m.\u001b[39;49m\u001b[43mdata\u001b[49m\u001b[43m[\u001b[49m\u001b[43mfield\u001b[49m\u001b[43m]\u001b[49m\u001b[38;5;241;43m.\u001b[39;49m\u001b[43mvalues\u001b[49m\u001b[43m)\u001b[49m\u001b[43m \u001b[49m\u001b[38;5;28;43;01mfor\u001b[39;49;00m\u001b[43m \u001b[49m\u001b[43mfield\u001b[49m\u001b[43m \u001b[49m\u001b[38;5;129;43;01min\u001b[39;49;00m\u001b[43m \u001b[49m\u001b[38;5;28;43mself\u001b[39;49m\u001b[38;5;241;43m.\u001b[39;49m\u001b[43mextra_fields\u001b[49m\u001b[43m]\u001b[49m\n\u001b[0;32m   1941\u001b[0m \u001b[43m    \u001b[49m\u001b[43m)\u001b[49m\u001b[43m,\u001b[49m\n\u001b[0;32m   1942\u001b[0m \u001b[43m\u001b[49m\u001b[43m)\u001b[49m\n",
      "File \u001b[1;32mc:\\Users\\Gerald Wong\\.conda\\envs\\hssm-play\\lib\\site-packages\\hssm\\distribution_utils\\dist.py:487\u001b[0m, in \u001b[0;36mmake_distribution\u001b[1;34m(rv, loglik, list_params, bounds, lapse, extra_fields)\u001b[0m\n\u001b[0;32m    482\u001b[0m     data_vector \u001b[38;5;241m=\u001b[39m pt\u001b[38;5;241m.\u001b[39mdvector()\n\u001b[0;32m    483\u001b[0m     lapse_logp \u001b[38;5;241m=\u001b[39m pm\u001b[38;5;241m.\u001b[39mlogp(\n\u001b[0;32m    484\u001b[0m         get_distribution_from_prior(lapse)\u001b[38;5;241m.\u001b[39mdist(\u001b[38;5;241m*\u001b[39m\u001b[38;5;241m*\u001b[39mlapse\u001b[38;5;241m.\u001b[39margs),\n\u001b[0;32m    485\u001b[0m         data_vector,\n\u001b[0;32m    486\u001b[0m     )\n\u001b[1;32m--> 487\u001b[0m     lapse_func \u001b[38;5;241m=\u001b[39m \u001b[43mpytensor\u001b[49m\u001b[38;5;241;43m.\u001b[39;49m\u001b[43mfunction\u001b[49m\u001b[43m(\u001b[49m\n\u001b[0;32m    488\u001b[0m \u001b[43m        \u001b[49m\u001b[43m[\u001b[49m\u001b[43mdata_vector\u001b[49m\u001b[43m]\u001b[49m\u001b[43m,\u001b[49m\n\u001b[0;32m    489\u001b[0m \u001b[43m        \u001b[49m\u001b[43mlapse_logp\u001b[49m\u001b[43m,\u001b[49m\n\u001b[0;32m    490\u001b[0m \u001b[43m    \u001b[49m\u001b[43m)\u001b[49m\n\u001b[0;32m    491\u001b[0m \u001b[38;5;28;01melse\u001b[39;00m:\n\u001b[0;32m    492\u001b[0m     lapse_func \u001b[38;5;241m=\u001b[39m \u001b[38;5;28;01mNone\u001b[39;00m\n",
      "File \u001b[1;32mc:\\Users\\Gerald Wong\\.conda\\envs\\hssm-play\\lib\\site-packages\\pytensor\\compile\\function\\__init__.py:332\u001b[0m, in \u001b[0;36mfunction\u001b[1;34m(inputs, outputs, mode, updates, givens, no_default_updates, accept_inplace, name, rebuild_strict, allow_input_downcast, profile, on_unused_input, trust_input)\u001b[0m\n\u001b[0;32m    321\u001b[0m     fn \u001b[38;5;241m=\u001b[39m orig_function(\n\u001b[0;32m    322\u001b[0m         inputs,\n\u001b[0;32m    323\u001b[0m         outputs,\n\u001b[1;32m   (...)\u001b[0m\n\u001b[0;32m    327\u001b[0m         trust_input\u001b[38;5;241m=\u001b[39mtrust_input,\n\u001b[0;32m    328\u001b[0m     )\n\u001b[0;32m    329\u001b[0m \u001b[38;5;28;01melse\u001b[39;00m:\n\u001b[0;32m    330\u001b[0m     \u001b[38;5;66;03m# note: pfunc will also call orig_function -- orig_function is\u001b[39;00m\n\u001b[0;32m    331\u001b[0m     \u001b[38;5;66;03m#      a choke point that all compilation must pass through\u001b[39;00m\n\u001b[1;32m--> 332\u001b[0m     fn \u001b[38;5;241m=\u001b[39m \u001b[43mpfunc\u001b[49m\u001b[43m(\u001b[49m\n\u001b[0;32m    333\u001b[0m \u001b[43m        \u001b[49m\u001b[43mparams\u001b[49m\u001b[38;5;241;43m=\u001b[39;49m\u001b[43minputs\u001b[49m\u001b[43m,\u001b[49m\n\u001b[0;32m    334\u001b[0m \u001b[43m        \u001b[49m\u001b[43moutputs\u001b[49m\u001b[38;5;241;43m=\u001b[39;49m\u001b[43moutputs\u001b[49m\u001b[43m,\u001b[49m\n\u001b[0;32m    335\u001b[0m \u001b[43m        \u001b[49m\u001b[43mmode\u001b[49m\u001b[38;5;241;43m=\u001b[39;49m\u001b[43mmode\u001b[49m\u001b[43m,\u001b[49m\n\u001b[0;32m    336\u001b[0m \u001b[43m        \u001b[49m\u001b[43mupdates\u001b[49m\u001b[38;5;241;43m=\u001b[39;49m\u001b[43mupdates\u001b[49m\u001b[43m,\u001b[49m\n\u001b[0;32m    337\u001b[0m \u001b[43m        \u001b[49m\u001b[43mgivens\u001b[49m\u001b[38;5;241;43m=\u001b[39;49m\u001b[43mgivens\u001b[49m\u001b[43m,\u001b[49m\n\u001b[0;32m    338\u001b[0m \u001b[43m        \u001b[49m\u001b[43mno_default_updates\u001b[49m\u001b[38;5;241;43m=\u001b[39;49m\u001b[43mno_default_updates\u001b[49m\u001b[43m,\u001b[49m\n\u001b[0;32m    339\u001b[0m \u001b[43m        \u001b[49m\u001b[43maccept_inplace\u001b[49m\u001b[38;5;241;43m=\u001b[39;49m\u001b[43maccept_inplace\u001b[49m\u001b[43m,\u001b[49m\n\u001b[0;32m    340\u001b[0m \u001b[43m        \u001b[49m\u001b[43mname\u001b[49m\u001b[38;5;241;43m=\u001b[39;49m\u001b[43mname\u001b[49m\u001b[43m,\u001b[49m\n\u001b[0;32m    341\u001b[0m \u001b[43m        \u001b[49m\u001b[43mrebuild_strict\u001b[49m\u001b[38;5;241;43m=\u001b[39;49m\u001b[43mrebuild_strict\u001b[49m\u001b[43m,\u001b[49m\n\u001b[0;32m    342\u001b[0m \u001b[43m        \u001b[49m\u001b[43mallow_input_downcast\u001b[49m\u001b[38;5;241;43m=\u001b[39;49m\u001b[43mallow_input_downcast\u001b[49m\u001b[43m,\u001b[49m\n\u001b[0;32m    343\u001b[0m \u001b[43m        \u001b[49m\u001b[43mon_unused_input\u001b[49m\u001b[38;5;241;43m=\u001b[39;49m\u001b[43mon_unused_input\u001b[49m\u001b[43m,\u001b[49m\n\u001b[0;32m    344\u001b[0m \u001b[43m        \u001b[49m\u001b[43mprofile\u001b[49m\u001b[38;5;241;43m=\u001b[39;49m\u001b[43mprofile\u001b[49m\u001b[43m,\u001b[49m\n\u001b[0;32m    345\u001b[0m \u001b[43m        \u001b[49m\u001b[43moutput_keys\u001b[49m\u001b[38;5;241;43m=\u001b[39;49m\u001b[43moutput_keys\u001b[49m\u001b[43m,\u001b[49m\n\u001b[0;32m    346\u001b[0m \u001b[43m        \u001b[49m\u001b[43mtrust_input\u001b[49m\u001b[38;5;241;43m=\u001b[39;49m\u001b[43mtrust_input\u001b[49m\u001b[43m,\u001b[49m\n\u001b[0;32m    347\u001b[0m \u001b[43m    \u001b[49m\u001b[43m)\u001b[49m\n\u001b[0;32m    348\u001b[0m \u001b[38;5;28;01mreturn\u001b[39;00m fn\n",
      "File \u001b[1;32mc:\\Users\\Gerald Wong\\.conda\\envs\\hssm-play\\lib\\site-packages\\pytensor\\compile\\function\\pfunc.py:466\u001b[0m, in \u001b[0;36mpfunc\u001b[1;34m(params, outputs, mode, updates, givens, no_default_updates, accept_inplace, name, rebuild_strict, allow_input_downcast, profile, on_unused_input, output_keys, fgraph, trust_input)\u001b[0m\n\u001b[0;32m    452\u001b[0m     profile \u001b[38;5;241m=\u001b[39m ProfileStats(message\u001b[38;5;241m=\u001b[39mprofile)\n\u001b[0;32m    454\u001b[0m inputs, cloned_outputs \u001b[38;5;241m=\u001b[39m construct_pfunc_ins_and_outs(\n\u001b[0;32m    455\u001b[0m     params,\n\u001b[0;32m    456\u001b[0m     outputs,\n\u001b[1;32m   (...)\u001b[0m\n\u001b[0;32m    463\u001b[0m     fgraph\u001b[38;5;241m=\u001b[39mfgraph,\n\u001b[0;32m    464\u001b[0m )\n\u001b[1;32m--> 466\u001b[0m \u001b[38;5;28;01mreturn\u001b[39;00m \u001b[43morig_function\u001b[49m\u001b[43m(\u001b[49m\n\u001b[0;32m    467\u001b[0m \u001b[43m    \u001b[49m\u001b[43minputs\u001b[49m\u001b[43m,\u001b[49m\n\u001b[0;32m    468\u001b[0m \u001b[43m    \u001b[49m\u001b[43mcloned_outputs\u001b[49m\u001b[43m,\u001b[49m\n\u001b[0;32m    469\u001b[0m \u001b[43m    \u001b[49m\u001b[43mmode\u001b[49m\u001b[43m,\u001b[49m\n\u001b[0;32m    470\u001b[0m \u001b[43m    \u001b[49m\u001b[43maccept_inplace\u001b[49m\u001b[38;5;241;43m=\u001b[39;49m\u001b[43maccept_inplace\u001b[49m\u001b[43m,\u001b[49m\n\u001b[0;32m    471\u001b[0m \u001b[43m    \u001b[49m\u001b[43mname\u001b[49m\u001b[38;5;241;43m=\u001b[39;49m\u001b[43mname\u001b[49m\u001b[43m,\u001b[49m\n\u001b[0;32m    472\u001b[0m \u001b[43m    \u001b[49m\u001b[43mprofile\u001b[49m\u001b[38;5;241;43m=\u001b[39;49m\u001b[43mprofile\u001b[49m\u001b[43m,\u001b[49m\n\u001b[0;32m    473\u001b[0m \u001b[43m    \u001b[49m\u001b[43mon_unused_input\u001b[49m\u001b[38;5;241;43m=\u001b[39;49m\u001b[43mon_unused_input\u001b[49m\u001b[43m,\u001b[49m\n\u001b[0;32m    474\u001b[0m \u001b[43m    \u001b[49m\u001b[43moutput_keys\u001b[49m\u001b[38;5;241;43m=\u001b[39;49m\u001b[43moutput_keys\u001b[49m\u001b[43m,\u001b[49m\n\u001b[0;32m    475\u001b[0m \u001b[43m    \u001b[49m\u001b[43mfgraph\u001b[49m\u001b[38;5;241;43m=\u001b[39;49m\u001b[43mfgraph\u001b[49m\u001b[43m,\u001b[49m\n\u001b[0;32m    476\u001b[0m \u001b[43m    \u001b[49m\u001b[43mtrust_input\u001b[49m\u001b[38;5;241;43m=\u001b[39;49m\u001b[43mtrust_input\u001b[49m\u001b[43m,\u001b[49m\n\u001b[0;32m    477\u001b[0m \u001b[43m\u001b[49m\u001b[43m)\u001b[49m\n",
      "File \u001b[1;32mc:\\Users\\Gerald Wong\\.conda\\envs\\hssm-play\\lib\\site-packages\\pytensor\\compile\\function\\types.py:1820\u001b[0m, in \u001b[0;36morig_function\u001b[1;34m(inputs, outputs, mode, accept_inplace, name, profile, on_unused_input, output_keys, fgraph, trust_input)\u001b[0m\n\u001b[0;32m   1818\u001b[0m \u001b[38;5;28;01mtry\u001b[39;00m:\n\u001b[0;32m   1819\u001b[0m     Maker \u001b[38;5;241m=\u001b[39m \u001b[38;5;28mgetattr\u001b[39m(mode, \u001b[38;5;124m\"\u001b[39m\u001b[38;5;124mfunction_maker\u001b[39m\u001b[38;5;124m\"\u001b[39m, FunctionMaker)\n\u001b[1;32m-> 1820\u001b[0m     m \u001b[38;5;241m=\u001b[39m \u001b[43mMaker\u001b[49m\u001b[43m(\u001b[49m\n\u001b[0;32m   1821\u001b[0m \u001b[43m        \u001b[49m\u001b[43minputs\u001b[49m\u001b[43m,\u001b[49m\n\u001b[0;32m   1822\u001b[0m \u001b[43m        \u001b[49m\u001b[43moutputs\u001b[49m\u001b[43m,\u001b[49m\n\u001b[0;32m   1823\u001b[0m \u001b[43m        \u001b[49m\u001b[43mmode\u001b[49m\u001b[43m,\u001b[49m\n\u001b[0;32m   1824\u001b[0m \u001b[43m        \u001b[49m\u001b[43maccept_inplace\u001b[49m\u001b[38;5;241;43m=\u001b[39;49m\u001b[43maccept_inplace\u001b[49m\u001b[43m,\u001b[49m\n\u001b[0;32m   1825\u001b[0m \u001b[43m        \u001b[49m\u001b[43mprofile\u001b[49m\u001b[38;5;241;43m=\u001b[39;49m\u001b[43mprofile\u001b[49m\u001b[43m,\u001b[49m\n\u001b[0;32m   1826\u001b[0m \u001b[43m        \u001b[49m\u001b[43mon_unused_input\u001b[49m\u001b[38;5;241;43m=\u001b[39;49m\u001b[43mon_unused_input\u001b[49m\u001b[43m,\u001b[49m\n\u001b[0;32m   1827\u001b[0m \u001b[43m        \u001b[49m\u001b[43moutput_keys\u001b[49m\u001b[38;5;241;43m=\u001b[39;49m\u001b[43moutput_keys\u001b[49m\u001b[43m,\u001b[49m\n\u001b[0;32m   1828\u001b[0m \u001b[43m        \u001b[49m\u001b[43mname\u001b[49m\u001b[38;5;241;43m=\u001b[39;49m\u001b[43mname\u001b[49m\u001b[43m,\u001b[49m\n\u001b[0;32m   1829\u001b[0m \u001b[43m        \u001b[49m\u001b[43mfgraph\u001b[49m\u001b[38;5;241;43m=\u001b[39;49m\u001b[43mfgraph\u001b[49m\u001b[43m,\u001b[49m\n\u001b[0;32m   1830\u001b[0m \u001b[43m        \u001b[49m\u001b[43mtrust_input\u001b[49m\u001b[38;5;241;43m=\u001b[39;49m\u001b[43mtrust_input\u001b[49m\u001b[43m,\u001b[49m\n\u001b[0;32m   1831\u001b[0m \u001b[43m    \u001b[49m\u001b[43m)\u001b[49m\n\u001b[0;32m   1832\u001b[0m     \u001b[38;5;28;01mwith\u001b[39;00m config\u001b[38;5;241m.\u001b[39mchange_flags(compute_test_value\u001b[38;5;241m=\u001b[39m\u001b[38;5;124m\"\u001b[39m\u001b[38;5;124moff\u001b[39m\u001b[38;5;124m\"\u001b[39m):\n\u001b[0;32m   1833\u001b[0m         fn \u001b[38;5;241m=\u001b[39m m\u001b[38;5;241m.\u001b[39mcreate(defaults)\n",
      "File \u001b[1;32mc:\\Users\\Gerald Wong\\.conda\\envs\\hssm-play\\lib\\site-packages\\pytensor\\compile\\function\\types.py:1581\u001b[0m, in \u001b[0;36mFunctionMaker.__init__\u001b[1;34m(self, inputs, outputs, mode, accept_inplace, function_builder, profile, on_unused_input, fgraph, output_keys, name, no_fgraph_prep, trust_input)\u001b[0m\n\u001b[0;32m   1578\u001b[0m \u001b[38;5;28mself\u001b[39m\u001b[38;5;241m.\u001b[39mfgraph \u001b[38;5;241m=\u001b[39m fgraph\n\u001b[0;32m   1580\u001b[0m \u001b[38;5;28;01mif\u001b[39;00m \u001b[38;5;129;01mnot\u001b[39;00m no_fgraph_prep:\n\u001b[1;32m-> 1581\u001b[0m     \u001b[38;5;28;43mself\u001b[39;49m\u001b[38;5;241;43m.\u001b[39;49m\u001b[43mprepare_fgraph\u001b[49m\u001b[43m(\u001b[49m\u001b[43minputs\u001b[49m\u001b[43m,\u001b[49m\u001b[43m \u001b[49m\u001b[43moutputs\u001b[49m\u001b[43m,\u001b[49m\u001b[43m \u001b[49m\u001b[43mfound_updates\u001b[49m\u001b[43m,\u001b[49m\u001b[43m \u001b[49m\u001b[43mfgraph\u001b[49m\u001b[43m,\u001b[49m\u001b[43m \u001b[49m\u001b[43mmode\u001b[49m\u001b[43m,\u001b[49m\u001b[43m \u001b[49m\u001b[43mprofile\u001b[49m\u001b[43m)\u001b[49m\n\u001b[0;32m   1583\u001b[0m \u001b[38;5;28;01massert\u001b[39;00m \u001b[38;5;28mlen\u001b[39m(fgraph\u001b[38;5;241m.\u001b[39moutputs) \u001b[38;5;241m==\u001b[39m \u001b[38;5;28mlen\u001b[39m(outputs \u001b[38;5;241m+\u001b[39m found_updates)\n\u001b[0;32m   1585\u001b[0m \u001b[38;5;66;03m# The 'no_borrow' outputs are the ones for which that we can't\u001b[39;00m\n\u001b[0;32m   1586\u001b[0m \u001b[38;5;66;03m# return the internal storage pointer.\u001b[39;00m\n",
      "File \u001b[1;32mc:\\Users\\Gerald Wong\\.conda\\envs\\hssm-play\\lib\\site-packages\\pytensor\\compile\\function\\types.py:1468\u001b[0m, in \u001b[0;36mFunctionMaker.prepare_fgraph\u001b[1;34m(inputs, outputs, additional_outputs, fgraph, mode, profile)\u001b[0m\n\u001b[0;32m   1461\u001b[0m rewrite_time \u001b[38;5;241m=\u001b[39m \u001b[38;5;28;01mNone\u001b[39;00m\n\u001b[0;32m   1463\u001b[0m \u001b[38;5;28;01mwith\u001b[39;00m config\u001b[38;5;241m.\u001b[39mchange_flags(\n\u001b[0;32m   1464\u001b[0m     mode\u001b[38;5;241m=\u001b[39mmode,\n\u001b[0;32m   1465\u001b[0m     compute_test_value\u001b[38;5;241m=\u001b[39mconfig\u001b[38;5;241m.\u001b[39mcompute_test_value_opt,\n\u001b[0;32m   1466\u001b[0m     traceback__limit\u001b[38;5;241m=\u001b[39mconfig\u001b[38;5;241m.\u001b[39mtraceback__compile_limit,\n\u001b[0;32m   1467\u001b[0m ):\n\u001b[1;32m-> 1468\u001b[0m     rewriter_profile \u001b[38;5;241m=\u001b[39m \u001b[43mrewriter\u001b[49m\u001b[43m(\u001b[49m\u001b[43mfgraph\u001b[49m\u001b[43m)\u001b[49m\n\u001b[0;32m   1470\u001b[0m     end_rewriter \u001b[38;5;241m=\u001b[39m time\u001b[38;5;241m.\u001b[39mperf_counter()\n\u001b[0;32m   1471\u001b[0m     rewrite_time \u001b[38;5;241m=\u001b[39m end_rewriter \u001b[38;5;241m-\u001b[39m start_rewriter\n",
      "File \u001b[1;32mc:\\Users\\Gerald Wong\\.conda\\envs\\hssm-play\\lib\\site-packages\\pytensor\\graph\\rewriting\\basic.py:124\u001b[0m, in \u001b[0;36mGraphRewriter.__call__\u001b[1;34m(self, fgraph)\u001b[0m\n\u001b[0;32m    122\u001b[0m \u001b[38;5;28;01mdef\u001b[39;00m \u001b[38;5;21m__call__\u001b[39m(\u001b[38;5;28mself\u001b[39m, fgraph):\n\u001b[0;32m    123\u001b[0m \u001b[38;5;250m    \u001b[39m\u001b[38;5;124;03m\"\"\"Rewrite a `FunctionGraph`.\"\"\"\u001b[39;00m\n\u001b[1;32m--> 124\u001b[0m     \u001b[38;5;28;01mreturn\u001b[39;00m \u001b[38;5;28;43mself\u001b[39;49m\u001b[38;5;241;43m.\u001b[39;49m\u001b[43mrewrite\u001b[49m\u001b[43m(\u001b[49m\u001b[43mfgraph\u001b[49m\u001b[43m)\u001b[49m\n",
      "File \u001b[1;32mc:\\Users\\Gerald Wong\\.conda\\envs\\hssm-play\\lib\\site-packages\\pytensor\\graph\\rewriting\\basic.py:120\u001b[0m, in \u001b[0;36mGraphRewriter.rewrite\u001b[1;34m(self, fgraph, *args, **kwargs)\u001b[0m\n\u001b[0;32m    111\u001b[0m \u001b[38;5;250m\u001b[39m\u001b[38;5;124;03m\"\"\"\u001b[39;00m\n\u001b[0;32m    112\u001b[0m \n\u001b[0;32m    113\u001b[0m \u001b[38;5;124;03mThis is meant as a shortcut for the following::\u001b[39;00m\n\u001b[1;32m   (...)\u001b[0m\n\u001b[0;32m    117\u001b[0m \n\u001b[0;32m    118\u001b[0m \u001b[38;5;124;03m\"\"\"\u001b[39;00m\n\u001b[0;32m    119\u001b[0m \u001b[38;5;28mself\u001b[39m\u001b[38;5;241m.\u001b[39madd_requirements(fgraph)\n\u001b[1;32m--> 120\u001b[0m \u001b[38;5;28;01mreturn\u001b[39;00m \u001b[38;5;28mself\u001b[39m\u001b[38;5;241m.\u001b[39mapply(fgraph, \u001b[38;5;241m*\u001b[39margs, \u001b[38;5;241m*\u001b[39m\u001b[38;5;241m*\u001b[39mkwargs)\n",
      "File \u001b[1;32mc:\\Users\\Gerald Wong\\.conda\\envs\\hssm-play\\lib\\site-packages\\pytensor\\graph\\rewriting\\basic.py:292\u001b[0m, in \u001b[0;36mSequentialGraphRewriter.apply\u001b[1;34m(self, fgraph)\u001b[0m\n\u001b[0;32m    290\u001b[0m nb_nodes_before \u001b[38;5;241m=\u001b[39m \u001b[38;5;28mlen\u001b[39m(fgraph\u001b[38;5;241m.\u001b[39mapply_nodes)\n\u001b[0;32m    291\u001b[0m t0 \u001b[38;5;241m=\u001b[39m time\u001b[38;5;241m.\u001b[39mperf_counter()\n\u001b[1;32m--> 292\u001b[0m sub_prof \u001b[38;5;241m=\u001b[39m \u001b[43mrewriter\u001b[49m\u001b[38;5;241;43m.\u001b[39;49m\u001b[43mapply\u001b[49m\u001b[43m(\u001b[49m\u001b[43mfgraph\u001b[49m\u001b[43m)\u001b[49m\n\u001b[0;32m    293\u001b[0m l\u001b[38;5;241m.\u001b[39mappend(\u001b[38;5;28mfloat\u001b[39m(time\u001b[38;5;241m.\u001b[39mperf_counter() \u001b[38;5;241m-\u001b[39m t0))\n\u001b[0;32m    294\u001b[0m sub_profs\u001b[38;5;241m.\u001b[39mappend(sub_prof)\n",
      "File \u001b[1;32mc:\\Users\\Gerald Wong\\.conda\\envs\\hssm-play\\lib\\site-packages\\pytensor\\graph\\rewriting\\basic.py:2456\u001b[0m, in \u001b[0;36mEquilibriumGraphRewriter.apply\u001b[1;34m(self, fgraph, start_from)\u001b[0m\n\u001b[0;32m   2454\u001b[0m nb \u001b[38;5;241m=\u001b[39m change_tracker\u001b[38;5;241m.\u001b[39mnb_imported\n\u001b[0;32m   2455\u001b[0m t_rewrite \u001b[38;5;241m=\u001b[39m time\u001b[38;5;241m.\u001b[39mperf_counter()\n\u001b[1;32m-> 2456\u001b[0m sub_prof \u001b[38;5;241m=\u001b[39m \u001b[43mgrewrite\u001b[49m\u001b[38;5;241;43m.\u001b[39;49m\u001b[43mapply\u001b[49m\u001b[43m(\u001b[49m\u001b[43mfgraph\u001b[49m\u001b[43m)\u001b[49m\n\u001b[0;32m   2457\u001b[0m time_rewriters[grewrite] \u001b[38;5;241m+\u001b[39m\u001b[38;5;241m=\u001b[39m time\u001b[38;5;241m.\u001b[39mperf_counter() \u001b[38;5;241m-\u001b[39m t_rewrite\n\u001b[0;32m   2458\u001b[0m sub_profs\u001b[38;5;241m.\u001b[39mappend(sub_prof)\n",
      "File \u001b[1;32mc:\\Users\\Gerald Wong\\.conda\\envs\\hssm-play\\lib\\site-packages\\pytensor\\graph\\rewriting\\basic.py:2040\u001b[0m, in \u001b[0;36mWalkingGraphRewriter.apply\u001b[1;34m(self, fgraph, start_from)\u001b[0m\n\u001b[0;32m   2038\u001b[0m             \u001b[38;5;28;01mcontinue\u001b[39;00m\n\u001b[0;32m   2039\u001b[0m         current_node \u001b[38;5;241m=\u001b[39m node\n\u001b[1;32m-> 2040\u001b[0m         nb \u001b[38;5;241m+\u001b[39m\u001b[38;5;241m=\u001b[39m \u001b[38;5;28;43mself\u001b[39;49m\u001b[38;5;241;43m.\u001b[39;49m\u001b[43mprocess_node\u001b[49m\u001b[43m(\u001b[49m\u001b[43mfgraph\u001b[49m\u001b[43m,\u001b[49m\u001b[43m \u001b[49m\u001b[43mnode\u001b[49m\u001b[43m)\u001b[49m\n\u001b[0;32m   2041\u001b[0m     loop_t \u001b[38;5;241m=\u001b[39m time\u001b[38;5;241m.\u001b[39mperf_counter() \u001b[38;5;241m-\u001b[39m t0\n\u001b[0;32m   2042\u001b[0m \u001b[38;5;28;01mfinally\u001b[39;00m:\n",
      "File \u001b[1;32mc:\\Users\\Gerald Wong\\.conda\\envs\\hssm-play\\lib\\site-packages\\pytensor\\graph\\rewriting\\basic.py:1922\u001b[0m, in \u001b[0;36mNodeProcessingGraphRewriter.process_node\u001b[1;34m(self, fgraph, node, node_rewriter)\u001b[0m\n\u001b[0;32m   1920\u001b[0m \u001b[38;5;28;01massert\u001b[39;00m node_rewriter \u001b[38;5;129;01mis\u001b[39;00m \u001b[38;5;129;01mnot\u001b[39;00m \u001b[38;5;28;01mNone\u001b[39;00m\n\u001b[0;32m   1921\u001b[0m \u001b[38;5;28;01mtry\u001b[39;00m:\n\u001b[1;32m-> 1922\u001b[0m     replacements \u001b[38;5;241m=\u001b[39m \u001b[43mnode_rewriter\u001b[49m\u001b[38;5;241;43m.\u001b[39;49m\u001b[43mtransform\u001b[49m\u001b[43m(\u001b[49m\u001b[43mfgraph\u001b[49m\u001b[43m,\u001b[49m\u001b[43m \u001b[49m\u001b[43mnode\u001b[49m\u001b[43m)\u001b[49m\n\u001b[0;32m   1923\u001b[0m \u001b[38;5;28;01mexcept\u001b[39;00m \u001b[38;5;167;01mException\u001b[39;00m \u001b[38;5;28;01mas\u001b[39;00m e:\n\u001b[0;32m   1924\u001b[0m     \u001b[38;5;28;01mif\u001b[39;00m \u001b[38;5;28mself\u001b[39m\u001b[38;5;241m.\u001b[39mfailure_callback \u001b[38;5;129;01mis\u001b[39;00m \u001b[38;5;129;01mnot\u001b[39;00m \u001b[38;5;28;01mNone\u001b[39;00m:\n",
      "File \u001b[1;32mc:\\Users\\Gerald Wong\\.conda\\envs\\hssm-play\\lib\\site-packages\\pytensor\\graph\\rewriting\\basic.py:1086\u001b[0m, in \u001b[0;36mFromFunctionNodeRewriter.transform\u001b[1;34m(self, fgraph, node)\u001b[0m\n\u001b[0;32m   1081\u001b[0m     \u001b[38;5;28;01mif\u001b[39;00m \u001b[38;5;129;01mnot\u001b[39;00m (\n\u001b[0;32m   1082\u001b[0m         node\u001b[38;5;241m.\u001b[39mop \u001b[38;5;129;01min\u001b[39;00m \u001b[38;5;28mself\u001b[39m\u001b[38;5;241m.\u001b[39m_tracks \u001b[38;5;129;01mor\u001b[39;00m \u001b[38;5;28misinstance\u001b[39m(node\u001b[38;5;241m.\u001b[39mop, \u001b[38;5;28mself\u001b[39m\u001b[38;5;241m.\u001b[39m_tracked_types)\n\u001b[0;32m   1083\u001b[0m     ):\n\u001b[0;32m   1084\u001b[0m         \u001b[38;5;28;01mreturn\u001b[39;00m \u001b[38;5;28;01mFalse\u001b[39;00m\n\u001b[1;32m-> 1086\u001b[0m \u001b[38;5;28;01mreturn\u001b[39;00m \u001b[38;5;28;43mself\u001b[39;49m\u001b[38;5;241;43m.\u001b[39;49m\u001b[43mfn\u001b[49m\u001b[43m(\u001b[49m\u001b[43mfgraph\u001b[49m\u001b[43m,\u001b[49m\u001b[43m \u001b[49m\u001b[43mnode\u001b[49m\u001b[43m)\u001b[49m\n",
      "File \u001b[1;32mc:\\Users\\Gerald Wong\\.conda\\envs\\hssm-play\\lib\\site-packages\\pytensor\\tensor\\rewriting\\basic.py:1173\u001b[0m, in \u001b[0;36mconstant_folding\u001b[1;34m(fgraph, node)\u001b[0m\n\u001b[0;32m   1170\u001b[0m \u001b[38;5;28;01mif\u001b[39;00m \u001b[38;5;129;01mnot\u001b[39;00m node\u001b[38;5;241m.\u001b[39mop\u001b[38;5;241m.\u001b[39mdo_constant_folding(fgraph, node):\n\u001b[0;32m   1171\u001b[0m     \u001b[38;5;28;01mreturn\u001b[39;00m \u001b[38;5;28;01mFalse\u001b[39;00m\n\u001b[1;32m-> 1173\u001b[0m \u001b[38;5;28;01mreturn\u001b[39;00m \u001b[43munconditional_constant_folding\u001b[49m\u001b[38;5;241;43m.\u001b[39;49m\u001b[43mtransform\u001b[49m\u001b[43m(\u001b[49m\u001b[43mfgraph\u001b[49m\u001b[43m,\u001b[49m\u001b[43m \u001b[49m\u001b[43mnode\u001b[49m\u001b[43m)\u001b[49m\n",
      "File \u001b[1;32mc:\\Users\\Gerald Wong\\.conda\\envs\\hssm-play\\lib\\site-packages\\pytensor\\graph\\rewriting\\basic.py:1086\u001b[0m, in \u001b[0;36mFromFunctionNodeRewriter.transform\u001b[1;34m(self, fgraph, node)\u001b[0m\n\u001b[0;32m   1081\u001b[0m     \u001b[38;5;28;01mif\u001b[39;00m \u001b[38;5;129;01mnot\u001b[39;00m (\n\u001b[0;32m   1082\u001b[0m         node\u001b[38;5;241m.\u001b[39mop \u001b[38;5;129;01min\u001b[39;00m \u001b[38;5;28mself\u001b[39m\u001b[38;5;241m.\u001b[39m_tracks \u001b[38;5;129;01mor\u001b[39;00m \u001b[38;5;28misinstance\u001b[39m(node\u001b[38;5;241m.\u001b[39mop, \u001b[38;5;28mself\u001b[39m\u001b[38;5;241m.\u001b[39m_tracked_types)\n\u001b[0;32m   1083\u001b[0m     ):\n\u001b[0;32m   1084\u001b[0m         \u001b[38;5;28;01mreturn\u001b[39;00m \u001b[38;5;28;01mFalse\u001b[39;00m\n\u001b[1;32m-> 1086\u001b[0m \u001b[38;5;28;01mreturn\u001b[39;00m \u001b[38;5;28;43mself\u001b[39;49m\u001b[38;5;241;43m.\u001b[39;49m\u001b[43mfn\u001b[49m\u001b[43m(\u001b[49m\u001b[43mfgraph\u001b[49m\u001b[43m,\u001b[49m\u001b[43m \u001b[49m\u001b[43mnode\u001b[49m\u001b[43m)\u001b[49m\n",
      "File \u001b[1;32mc:\\Users\\Gerald Wong\\.conda\\envs\\hssm-play\\lib\\site-packages\\pytensor\\tensor\\rewriting\\basic.py:1122\u001b[0m, in \u001b[0;36munconditional_constant_folding\u001b[1;34m(fgraph, node)\u001b[0m\n\u001b[0;32m   1119\u001b[0m     storage_map[o] \u001b[38;5;241m=\u001b[39m [\u001b[38;5;28;01mNone\u001b[39;00m]\n\u001b[0;32m   1120\u001b[0m     compute_map[o] \u001b[38;5;241m=\u001b[39m [\u001b[38;5;28;01mFalse\u001b[39;00m]\n\u001b[1;32m-> 1122\u001b[0m thunk \u001b[38;5;241m=\u001b[39m \u001b[43mnode\u001b[49m\u001b[38;5;241;43m.\u001b[39;49m\u001b[43mop\u001b[49m\u001b[38;5;241;43m.\u001b[39;49m\u001b[43mmake_thunk\u001b[49m\u001b[43m(\u001b[49m\u001b[43mnode\u001b[49m\u001b[43m,\u001b[49m\u001b[43m \u001b[49m\u001b[43mstorage_map\u001b[49m\u001b[43m,\u001b[49m\u001b[43m \u001b[49m\u001b[43mcompute_map\u001b[49m\u001b[43m,\u001b[49m\u001b[43m \u001b[49m\u001b[43mno_recycling\u001b[49m\u001b[38;5;241;43m=\u001b[39;49m\u001b[43m[\u001b[49m\u001b[43m]\u001b[49m\u001b[43m)\u001b[49m\n\u001b[0;32m   1123\u001b[0m required \u001b[38;5;241m=\u001b[39m thunk()\n\u001b[0;32m   1125\u001b[0m \u001b[38;5;66;03m# A node whose inputs are all provided should always return successfully\u001b[39;00m\n",
      "File \u001b[1;32mc:\\Users\\Gerald Wong\\.conda\\envs\\hssm-play\\lib\\site-packages\\pytensor\\link\\c\\op.py:119\u001b[0m, in \u001b[0;36mCOp.make_thunk\u001b[1;34m(self, node, storage_map, compute_map, no_recycling, impl)\u001b[0m\n\u001b[0;32m    115\u001b[0m \u001b[38;5;28mself\u001b[39m\u001b[38;5;241m.\u001b[39mprepare_node(\n\u001b[0;32m    116\u001b[0m     node, storage_map\u001b[38;5;241m=\u001b[39mstorage_map, compute_map\u001b[38;5;241m=\u001b[39mcompute_map, impl\u001b[38;5;241m=\u001b[39m\u001b[38;5;124m\"\u001b[39m\u001b[38;5;124mc\u001b[39m\u001b[38;5;124m\"\u001b[39m\n\u001b[0;32m    117\u001b[0m )\n\u001b[0;32m    118\u001b[0m \u001b[38;5;28;01mtry\u001b[39;00m:\n\u001b[1;32m--> 119\u001b[0m     \u001b[38;5;28;01mreturn\u001b[39;00m \u001b[38;5;28;43mself\u001b[39;49m\u001b[38;5;241;43m.\u001b[39;49m\u001b[43mmake_c_thunk\u001b[49m\u001b[43m(\u001b[49m\u001b[43mnode\u001b[49m\u001b[43m,\u001b[49m\u001b[43m \u001b[49m\u001b[43mstorage_map\u001b[49m\u001b[43m,\u001b[49m\u001b[43m \u001b[49m\u001b[43mcompute_map\u001b[49m\u001b[43m,\u001b[49m\u001b[43m \u001b[49m\u001b[43mno_recycling\u001b[49m\u001b[43m)\u001b[49m\n\u001b[0;32m    120\u001b[0m \u001b[38;5;28;01mexcept\u001b[39;00m (\u001b[38;5;167;01mNotImplementedError\u001b[39;00m, MethodNotDefined):\n\u001b[0;32m    121\u001b[0m     \u001b[38;5;66;03m# We requested the c code, so don't catch the error.\u001b[39;00m\n\u001b[0;32m    122\u001b[0m     \u001b[38;5;28;01mif\u001b[39;00m impl \u001b[38;5;241m==\u001b[39m \u001b[38;5;124m\"\u001b[39m\u001b[38;5;124mc\u001b[39m\u001b[38;5;124m\"\u001b[39m:\n",
      "File \u001b[1;32mc:\\Users\\Gerald Wong\\.conda\\envs\\hssm-play\\lib\\site-packages\\pytensor\\link\\c\\op.py:84\u001b[0m, in \u001b[0;36mCOp.make_c_thunk\u001b[1;34m(self, node, storage_map, compute_map, no_recycling)\u001b[0m\n\u001b[0;32m     82\u001b[0m         warnings\u001b[38;5;241m.\u001b[39mwarn(\u001b[38;5;124mf\u001b[39m\u001b[38;5;124m\"\u001b[39m\u001b[38;5;124mDisabling C code for \u001b[39m\u001b[38;5;132;01m{\u001b[39;00m\u001b[38;5;28mself\u001b[39m\u001b[38;5;132;01m}\u001b[39;00m\u001b[38;5;124m due to unsupported float16\u001b[39m\u001b[38;5;124m\"\u001b[39m)\n\u001b[0;32m     83\u001b[0m         \u001b[38;5;28;01mraise\u001b[39;00m \u001b[38;5;167;01mNotImplementedError\u001b[39;00m(\u001b[38;5;124m\"\u001b[39m\u001b[38;5;124mfloat16\u001b[39m\u001b[38;5;124m\"\u001b[39m)\n\u001b[1;32m---> 84\u001b[0m outputs \u001b[38;5;241m=\u001b[39m \u001b[43mcl\u001b[49m\u001b[38;5;241;43m.\u001b[39;49m\u001b[43mmake_thunk\u001b[49m\u001b[43m(\u001b[49m\n\u001b[0;32m     85\u001b[0m \u001b[43m    \u001b[49m\u001b[43minput_storage\u001b[49m\u001b[38;5;241;43m=\u001b[39;49m\u001b[43mnode_input_storage\u001b[49m\u001b[43m,\u001b[49m\u001b[43m \u001b[49m\u001b[43moutput_storage\u001b[49m\u001b[38;5;241;43m=\u001b[39;49m\u001b[43mnode_output_storage\u001b[49m\n\u001b[0;32m     86\u001b[0m \u001b[43m\u001b[49m\u001b[43m)\u001b[49m\n\u001b[0;32m     87\u001b[0m thunk, node_input_filters, node_output_filters \u001b[38;5;241m=\u001b[39m outputs\n\u001b[0;32m     89\u001b[0m \u001b[38;5;129m@is_cthunk_wrapper_type\u001b[39m\n\u001b[0;32m     90\u001b[0m \u001b[38;5;28;01mdef\u001b[39;00m \u001b[38;5;21mrval\u001b[39m():\n",
      "File \u001b[1;32mc:\\Users\\Gerald Wong\\.conda\\envs\\hssm-play\\lib\\site-packages\\pytensor\\link\\c\\basic.py:1185\u001b[0m, in \u001b[0;36mCLinker.make_thunk\u001b[1;34m(self, input_storage, output_storage, storage_map, cache, **kwargs)\u001b[0m\n\u001b[0;32m   1150\u001b[0m \u001b[38;5;250m\u001b[39m\u001b[38;5;124;03m\"\"\"Compile this linker's `self.fgraph` and return a function that performs the computations.\u001b[39;00m\n\u001b[0;32m   1151\u001b[0m \n\u001b[0;32m   1152\u001b[0m \u001b[38;5;124;03mThe return values can be used as follows:\u001b[39;00m\n\u001b[1;32m   (...)\u001b[0m\n\u001b[0;32m   1182\u001b[0m \n\u001b[0;32m   1183\u001b[0m \u001b[38;5;124;03m\"\"\"\u001b[39;00m\n\u001b[0;32m   1184\u001b[0m init_tasks, tasks \u001b[38;5;241m=\u001b[39m \u001b[38;5;28mself\u001b[39m\u001b[38;5;241m.\u001b[39mget_init_tasks()\n\u001b[1;32m-> 1185\u001b[0m cthunk, module, in_storage, out_storage, error_storage \u001b[38;5;241m=\u001b[39m \u001b[38;5;28;43mself\u001b[39;49m\u001b[38;5;241;43m.\u001b[39;49m\u001b[43m__compile__\u001b[49m\u001b[43m(\u001b[49m\n\u001b[0;32m   1186\u001b[0m \u001b[43m    \u001b[49m\u001b[43minput_storage\u001b[49m\u001b[43m,\u001b[49m\u001b[43m \u001b[49m\u001b[43moutput_storage\u001b[49m\u001b[43m,\u001b[49m\u001b[43m \u001b[49m\u001b[43mstorage_map\u001b[49m\u001b[43m,\u001b[49m\u001b[43m \u001b[49m\u001b[43mcache\u001b[49m\n\u001b[0;32m   1187\u001b[0m \u001b[43m\u001b[49m\u001b[43m)\u001b[49m\n\u001b[0;32m   1189\u001b[0m res \u001b[38;5;241m=\u001b[39m _CThunk(cthunk, init_tasks, tasks, error_storage, module)\n\u001b[0;32m   1190\u001b[0m res\u001b[38;5;241m.\u001b[39mnodes \u001b[38;5;241m=\u001b[39m \u001b[38;5;28mself\u001b[39m\u001b[38;5;241m.\u001b[39mnode_order\n",
      "File \u001b[1;32mc:\\Users\\Gerald Wong\\.conda\\envs\\hssm-play\\lib\\site-packages\\pytensor\\link\\c\\basic.py:1102\u001b[0m, in \u001b[0;36mCLinker.__compile__\u001b[1;34m(self, input_storage, output_storage, storage_map, cache)\u001b[0m\n\u001b[0;32m   1100\u001b[0m input_storage \u001b[38;5;241m=\u001b[39m \u001b[38;5;28mtuple\u001b[39m(input_storage)\n\u001b[0;32m   1101\u001b[0m output_storage \u001b[38;5;241m=\u001b[39m \u001b[38;5;28mtuple\u001b[39m(output_storage)\n\u001b[1;32m-> 1102\u001b[0m thunk, module \u001b[38;5;241m=\u001b[39m \u001b[38;5;28;43mself\u001b[39;49m\u001b[38;5;241;43m.\u001b[39;49m\u001b[43mcthunk_factory\u001b[49m\u001b[43m(\u001b[49m\n\u001b[0;32m   1103\u001b[0m \u001b[43m    \u001b[49m\u001b[43merror_storage\u001b[49m\u001b[43m,\u001b[49m\n\u001b[0;32m   1104\u001b[0m \u001b[43m    \u001b[49m\u001b[43minput_storage\u001b[49m\u001b[43m,\u001b[49m\n\u001b[0;32m   1105\u001b[0m \u001b[43m    \u001b[49m\u001b[43moutput_storage\u001b[49m\u001b[43m,\u001b[49m\n\u001b[0;32m   1106\u001b[0m \u001b[43m    \u001b[49m\u001b[43mstorage_map\u001b[49m\u001b[43m,\u001b[49m\n\u001b[0;32m   1107\u001b[0m \u001b[43m    \u001b[49m\u001b[43mcache\u001b[49m\u001b[43m,\u001b[49m\n\u001b[0;32m   1108\u001b[0m \u001b[43m\u001b[49m\u001b[43m)\u001b[49m\n\u001b[0;32m   1109\u001b[0m \u001b[38;5;28;01mreturn\u001b[39;00m (\n\u001b[0;32m   1110\u001b[0m     thunk,\n\u001b[0;32m   1111\u001b[0m     module,\n\u001b[1;32m   (...)\u001b[0m\n\u001b[0;32m   1124\u001b[0m     error_storage,\n\u001b[0;32m   1125\u001b[0m )\n",
      "File \u001b[1;32mc:\\Users\\Gerald Wong\\.conda\\envs\\hssm-play\\lib\\site-packages\\pytensor\\link\\c\\basic.py:1626\u001b[0m, in \u001b[0;36mCLinker.cthunk_factory\u001b[1;34m(self, error_storage, in_storage, out_storage, storage_map, cache)\u001b[0m\n\u001b[0;32m   1624\u001b[0m     \u001b[38;5;28;01mif\u001b[39;00m cache \u001b[38;5;129;01mis\u001b[39;00m \u001b[38;5;28;01mNone\u001b[39;00m:\n\u001b[0;32m   1625\u001b[0m         cache \u001b[38;5;241m=\u001b[39m get_module_cache()\n\u001b[1;32m-> 1626\u001b[0m     module \u001b[38;5;241m=\u001b[39m \u001b[43mcache\u001b[49m\u001b[38;5;241;43m.\u001b[39;49m\u001b[43mmodule_from_key\u001b[49m\u001b[43m(\u001b[49m\u001b[43mkey\u001b[49m\u001b[38;5;241;43m=\u001b[39;49m\u001b[43mkey\u001b[49m\u001b[43m,\u001b[49m\u001b[43m \u001b[49m\u001b[43mlnk\u001b[49m\u001b[38;5;241;43m=\u001b[39;49m\u001b[38;5;28;43mself\u001b[39;49m\u001b[43m)\u001b[49m\n\u001b[0;32m   1628\u001b[0m \u001b[38;5;28mvars\u001b[39m \u001b[38;5;241m=\u001b[39m \u001b[38;5;28mself\u001b[39m\u001b[38;5;241m.\u001b[39minputs \u001b[38;5;241m+\u001b[39m \u001b[38;5;28mself\u001b[39m\u001b[38;5;241m.\u001b[39moutputs \u001b[38;5;241m+\u001b[39m \u001b[38;5;28mself\u001b[39m\u001b[38;5;241m.\u001b[39morphans\n\u001b[0;32m   1629\u001b[0m \u001b[38;5;66;03m# List of indices that should be ignored when passing the arguments\u001b[39;00m\n\u001b[0;32m   1630\u001b[0m \u001b[38;5;66;03m# (basically, everything that the previous call to uniq eliminated)\u001b[39;00m\n",
      "File \u001b[1;32mc:\\Users\\Gerald Wong\\.conda\\envs\\hssm-play\\lib\\site-packages\\pytensor\\link\\c\\cmodule.py:1250\u001b[0m, in \u001b[0;36mModuleCache.module_from_key\u001b[1;34m(self, key, lnk)\u001b[0m\n\u001b[0;32m   1248\u001b[0m \u001b[38;5;28;01mtry\u001b[39;00m:\n\u001b[0;32m   1249\u001b[0m     location \u001b[38;5;241m=\u001b[39m dlimport_workdir(\u001b[38;5;28mself\u001b[39m\u001b[38;5;241m.\u001b[39mdirname)\n\u001b[1;32m-> 1250\u001b[0m     module \u001b[38;5;241m=\u001b[39m \u001b[43mlnk\u001b[49m\u001b[38;5;241;43m.\u001b[39;49m\u001b[43mcompile_cmodule\u001b[49m\u001b[43m(\u001b[49m\u001b[43mlocation\u001b[49m\u001b[43m)\u001b[49m\n\u001b[0;32m   1251\u001b[0m     name \u001b[38;5;241m=\u001b[39m module\u001b[38;5;241m.\u001b[39m\u001b[38;5;18m__file__\u001b[39m\n\u001b[0;32m   1252\u001b[0m     \u001b[38;5;28;01massert\u001b[39;00m name\u001b[38;5;241m.\u001b[39mstartswith(location)\n",
      "File \u001b[1;32mc:\\Users\\Gerald Wong\\.conda\\envs\\hssm-play\\lib\\site-packages\\pytensor\\link\\c\\basic.py:1527\u001b[0m, in \u001b[0;36mCLinker.compile_cmodule\u001b[1;34m(self, location)\u001b[0m\n\u001b[0;32m   1525\u001b[0m \u001b[38;5;28;01mtry\u001b[39;00m:\n\u001b[0;32m   1526\u001b[0m     _logger\u001b[38;5;241m.\u001b[39mdebug(\u001b[38;5;124mf\u001b[39m\u001b[38;5;124m\"\u001b[39m\u001b[38;5;124mLOCATION \u001b[39m\u001b[38;5;132;01m{\u001b[39;00mlocation\u001b[38;5;132;01m}\u001b[39;00m\u001b[38;5;124m\"\u001b[39m)\n\u001b[1;32m-> 1527\u001b[0m     module \u001b[38;5;241m=\u001b[39m \u001b[43mc_compiler\u001b[49m\u001b[38;5;241;43m.\u001b[39;49m\u001b[43mcompile_str\u001b[49m\u001b[43m(\u001b[49m\n\u001b[0;32m   1528\u001b[0m \u001b[43m        \u001b[49m\u001b[43mmodule_name\u001b[49m\u001b[38;5;241;43m=\u001b[39;49m\u001b[43mmod\u001b[49m\u001b[38;5;241;43m.\u001b[39;49m\u001b[43mcode_hash\u001b[49m\u001b[43m,\u001b[49m\n\u001b[0;32m   1529\u001b[0m \u001b[43m        \u001b[49m\u001b[43msrc_code\u001b[49m\u001b[38;5;241;43m=\u001b[39;49m\u001b[43msrc_code\u001b[49m\u001b[43m,\u001b[49m\n\u001b[0;32m   1530\u001b[0m \u001b[43m        \u001b[49m\u001b[43mlocation\u001b[49m\u001b[38;5;241;43m=\u001b[39;49m\u001b[43mlocation\u001b[49m\u001b[43m,\u001b[49m\n\u001b[0;32m   1531\u001b[0m \u001b[43m        \u001b[49m\u001b[43minclude_dirs\u001b[49m\u001b[38;5;241;43m=\u001b[39;49m\u001b[38;5;28;43mself\u001b[39;49m\u001b[38;5;241;43m.\u001b[39;49m\u001b[43mheader_dirs\u001b[49m\u001b[43m(\u001b[49m\u001b[43m)\u001b[49m\u001b[43m,\u001b[49m\n\u001b[0;32m   1532\u001b[0m \u001b[43m        \u001b[49m\u001b[43mlib_dirs\u001b[49m\u001b[38;5;241;43m=\u001b[39;49m\u001b[38;5;28;43mself\u001b[39;49m\u001b[38;5;241;43m.\u001b[39;49m\u001b[43mlib_dirs\u001b[49m\u001b[43m(\u001b[49m\u001b[43m)\u001b[49m\u001b[43m,\u001b[49m\n\u001b[0;32m   1533\u001b[0m \u001b[43m        \u001b[49m\u001b[43mlibs\u001b[49m\u001b[38;5;241;43m=\u001b[39;49m\u001b[43mlibs\u001b[49m\u001b[43m,\u001b[49m\n\u001b[0;32m   1534\u001b[0m \u001b[43m        \u001b[49m\u001b[43mpreargs\u001b[49m\u001b[38;5;241;43m=\u001b[39;49m\u001b[43mpreargs\u001b[49m\u001b[43m,\u001b[49m\n\u001b[0;32m   1535\u001b[0m \u001b[43m    \u001b[49m\u001b[43m)\u001b[49m\n\u001b[0;32m   1536\u001b[0m \u001b[38;5;28;01mexcept\u001b[39;00m \u001b[38;5;167;01mException\u001b[39;00m \u001b[38;5;28;01mas\u001b[39;00m e:\n\u001b[0;32m   1537\u001b[0m     e\u001b[38;5;241m.\u001b[39margs \u001b[38;5;241m+\u001b[39m\u001b[38;5;241m=\u001b[39m (\u001b[38;5;28mstr\u001b[39m(\u001b[38;5;28mself\u001b[39m\u001b[38;5;241m.\u001b[39mfgraph),)\n",
      "File \u001b[1;32mc:\\Users\\Gerald Wong\\.conda\\envs\\hssm-play\\lib\\site-packages\\pytensor\\link\\c\\cmodule.py:2624\u001b[0m, in \u001b[0;36mGCC_compiler.compile_str\u001b[1;34m(module_name, src_code, location, include_dirs, lib_dirs, libs, preargs, py_module, hide_symbols)\u001b[0m\n\u001b[0;32m   2621\u001b[0m     \u001b[38;5;28mprint\u001b[39m(\u001b[38;5;124m\"\u001b[39m\u001b[38;5;124m \u001b[39m\u001b[38;5;124m\"\u001b[39m\u001b[38;5;241m.\u001b[39mjoin(cmd), file\u001b[38;5;241m=\u001b[39msys\u001b[38;5;241m.\u001b[39mstderr)\n\u001b[0;32m   2623\u001b[0m \u001b[38;5;28;01mtry\u001b[39;00m:\n\u001b[1;32m-> 2624\u001b[0m     p_out \u001b[38;5;241m=\u001b[39m \u001b[43moutput_subprocess_Popen\u001b[49m\u001b[43m(\u001b[49m\u001b[43mcmd\u001b[49m\u001b[43m)\u001b[49m\n\u001b[0;32m   2625\u001b[0m     compile_stderr \u001b[38;5;241m=\u001b[39m p_out[\u001b[38;5;241m1\u001b[39m]\u001b[38;5;241m.\u001b[39mdecode()\n\u001b[0;32m   2626\u001b[0m \u001b[38;5;28;01mexcept\u001b[39;00m \u001b[38;5;167;01mException\u001b[39;00m:\n\u001b[0;32m   2627\u001b[0m     \u001b[38;5;66;03m# An exception can occur e.g. if `g++` is not found.\u001b[39;00m\n",
      "File \u001b[1;32mc:\\Users\\Gerald Wong\\.conda\\envs\\hssm-play\\lib\\site-packages\\pytensor\\utils.py:200\u001b[0m, in \u001b[0;36moutput_subprocess_Popen\u001b[1;34m(command, **params)\u001b[0m\n\u001b[0;32m    197\u001b[0m p \u001b[38;5;241m=\u001b[39m subprocess_Popen(command, \u001b[38;5;241m*\u001b[39m\u001b[38;5;241m*\u001b[39mparams)\n\u001b[0;32m    198\u001b[0m \u001b[38;5;66;03m# we need to use communicate to make sure we don't deadlock around\u001b[39;00m\n\u001b[0;32m    199\u001b[0m \u001b[38;5;66;03m# the stdout/stderr pipe.\u001b[39;00m\n\u001b[1;32m--> 200\u001b[0m out \u001b[38;5;241m=\u001b[39m \u001b[43mp\u001b[49m\u001b[38;5;241;43m.\u001b[39;49m\u001b[43mcommunicate\u001b[49m\u001b[43m(\u001b[49m\u001b[43m)\u001b[49m\n\u001b[0;32m    201\u001b[0m \u001b[38;5;28;01mreturn\u001b[39;00m (\u001b[38;5;241m*\u001b[39mout, p\u001b[38;5;241m.\u001b[39mreturncode)\n",
      "File \u001b[1;32mc:\\Users\\Gerald Wong\\.conda\\envs\\hssm-play\\lib\\subprocess.py:1154\u001b[0m, in \u001b[0;36mPopen.communicate\u001b[1;34m(self, input, timeout)\u001b[0m\n\u001b[0;32m   1151\u001b[0m     endtime \u001b[38;5;241m=\u001b[39m \u001b[38;5;28;01mNone\u001b[39;00m\n\u001b[0;32m   1153\u001b[0m \u001b[38;5;28;01mtry\u001b[39;00m:\n\u001b[1;32m-> 1154\u001b[0m     stdout, stderr \u001b[38;5;241m=\u001b[39m \u001b[38;5;28;43mself\u001b[39;49m\u001b[38;5;241;43m.\u001b[39;49m\u001b[43m_communicate\u001b[49m\u001b[43m(\u001b[49m\u001b[38;5;28;43minput\u001b[39;49m\u001b[43m,\u001b[49m\u001b[43m \u001b[49m\u001b[43mendtime\u001b[49m\u001b[43m,\u001b[49m\u001b[43m \u001b[49m\u001b[43mtimeout\u001b[49m\u001b[43m)\u001b[49m\n\u001b[0;32m   1155\u001b[0m \u001b[38;5;28;01mexcept\u001b[39;00m \u001b[38;5;167;01mKeyboardInterrupt\u001b[39;00m:\n\u001b[0;32m   1156\u001b[0m     \u001b[38;5;66;03m# https://bugs.python.org/issue25942\u001b[39;00m\n\u001b[0;32m   1157\u001b[0m     \u001b[38;5;66;03m# See the detailed comment in .wait().\u001b[39;00m\n\u001b[0;32m   1158\u001b[0m     \u001b[38;5;28;01mif\u001b[39;00m timeout \u001b[38;5;129;01mis\u001b[39;00m \u001b[38;5;129;01mnot\u001b[39;00m \u001b[38;5;28;01mNone\u001b[39;00m:\n",
      "File \u001b[1;32mc:\\Users\\Gerald Wong\\.conda\\envs\\hssm-play\\lib\\subprocess.py:1544\u001b[0m, in \u001b[0;36mPopen._communicate\u001b[1;34m(self, input, endtime, orig_timeout)\u001b[0m\n\u001b[0;32m   1540\u001b[0m \u001b[38;5;66;03m# Wait for the reader threads, or time out.  If we time out, the\u001b[39;00m\n\u001b[0;32m   1541\u001b[0m \u001b[38;5;66;03m# threads remain reading and the fds left open in case the user\u001b[39;00m\n\u001b[0;32m   1542\u001b[0m \u001b[38;5;66;03m# calls communicate again.\u001b[39;00m\n\u001b[0;32m   1543\u001b[0m \u001b[38;5;28;01mif\u001b[39;00m \u001b[38;5;28mself\u001b[39m\u001b[38;5;241m.\u001b[39mstdout \u001b[38;5;129;01mis\u001b[39;00m \u001b[38;5;129;01mnot\u001b[39;00m \u001b[38;5;28;01mNone\u001b[39;00m:\n\u001b[1;32m-> 1544\u001b[0m     \u001b[38;5;28;43mself\u001b[39;49m\u001b[38;5;241;43m.\u001b[39;49m\u001b[43mstdout_thread\u001b[49m\u001b[38;5;241;43m.\u001b[39;49m\u001b[43mjoin\u001b[49m\u001b[43m(\u001b[49m\u001b[38;5;28;43mself\u001b[39;49m\u001b[38;5;241;43m.\u001b[39;49m\u001b[43m_remaining_time\u001b[49m\u001b[43m(\u001b[49m\u001b[43mendtime\u001b[49m\u001b[43m)\u001b[49m\u001b[43m)\u001b[49m\n\u001b[0;32m   1545\u001b[0m     \u001b[38;5;28;01mif\u001b[39;00m \u001b[38;5;28mself\u001b[39m\u001b[38;5;241m.\u001b[39mstdout_thread\u001b[38;5;241m.\u001b[39mis_alive():\n\u001b[0;32m   1546\u001b[0m         \u001b[38;5;28;01mraise\u001b[39;00m TimeoutExpired(\u001b[38;5;28mself\u001b[39m\u001b[38;5;241m.\u001b[39margs, orig_timeout)\n",
      "File \u001b[1;32mc:\\Users\\Gerald Wong\\.conda\\envs\\hssm-play\\lib\\threading.py:1096\u001b[0m, in \u001b[0;36mThread.join\u001b[1;34m(self, timeout)\u001b[0m\n\u001b[0;32m   1093\u001b[0m     \u001b[38;5;28;01mraise\u001b[39;00m \u001b[38;5;167;01mRuntimeError\u001b[39;00m(\u001b[38;5;124m\"\u001b[39m\u001b[38;5;124mcannot join current thread\u001b[39m\u001b[38;5;124m\"\u001b[39m)\n\u001b[0;32m   1095\u001b[0m \u001b[38;5;28;01mif\u001b[39;00m timeout \u001b[38;5;129;01mis\u001b[39;00m \u001b[38;5;28;01mNone\u001b[39;00m:\n\u001b[1;32m-> 1096\u001b[0m     \u001b[38;5;28;43mself\u001b[39;49m\u001b[38;5;241;43m.\u001b[39;49m\u001b[43m_wait_for_tstate_lock\u001b[49m\u001b[43m(\u001b[49m\u001b[43m)\u001b[49m\n\u001b[0;32m   1097\u001b[0m \u001b[38;5;28;01melse\u001b[39;00m:\n\u001b[0;32m   1098\u001b[0m     \u001b[38;5;66;03m# the behavior of a negative timeout isn't documented, but\u001b[39;00m\n\u001b[0;32m   1099\u001b[0m     \u001b[38;5;66;03m# historically .join(timeout=x) for x<0 has acted as if timeout=0\u001b[39;00m\n\u001b[0;32m   1100\u001b[0m     \u001b[38;5;28mself\u001b[39m\u001b[38;5;241m.\u001b[39m_wait_for_tstate_lock(timeout\u001b[38;5;241m=\u001b[39m\u001b[38;5;28mmax\u001b[39m(timeout, \u001b[38;5;241m0\u001b[39m))\n",
      "File \u001b[1;32mc:\\Users\\Gerald Wong\\.conda\\envs\\hssm-play\\lib\\threading.py:1116\u001b[0m, in \u001b[0;36mThread._wait_for_tstate_lock\u001b[1;34m(self, block, timeout)\u001b[0m\n\u001b[0;32m   1113\u001b[0m     \u001b[38;5;28;01mreturn\u001b[39;00m\n\u001b[0;32m   1115\u001b[0m \u001b[38;5;28;01mtry\u001b[39;00m:\n\u001b[1;32m-> 1116\u001b[0m     \u001b[38;5;28;01mif\u001b[39;00m \u001b[43mlock\u001b[49m\u001b[38;5;241;43m.\u001b[39;49m\u001b[43macquire\u001b[49m\u001b[43m(\u001b[49m\u001b[43mblock\u001b[49m\u001b[43m,\u001b[49m\u001b[43m \u001b[49m\u001b[43mtimeout\u001b[49m\u001b[43m)\u001b[49m:\n\u001b[0;32m   1117\u001b[0m         lock\u001b[38;5;241m.\u001b[39mrelease()\n\u001b[0;32m   1118\u001b[0m         \u001b[38;5;28mself\u001b[39m\u001b[38;5;241m.\u001b[39m_stop()\n",
      "\u001b[1;31mKeyboardInterrupt\u001b[0m: "
     ]
    }
   ],
   "source": [
    "simple_ddm = hssm.HSSM(data=dataset)"
   ]
  },
  {
   "cell_type": "code",
   "execution_count": null,
   "id": "1de747f3",
   "metadata": {},
   "outputs": [],
   "source": []
  }
 ],
 "metadata": {
  "kernelspec": {
   "display_name": "hssm-meta",
   "language": "python",
   "name": "python3"
  },
  "language_info": {
   "codemirror_mode": {
    "name": "ipython",
    "version": 3
   },
   "file_extension": ".py",
   "mimetype": "text/x-python",
   "name": "python",
   "nbconvert_exporter": "python",
   "pygments_lexer": "ipython3",
   "version": "3.10.16"
  }
 },
 "nbformat": 4,
 "nbformat_minor": 5
}
