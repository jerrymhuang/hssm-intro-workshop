{
 "cells": [
  {
   "cell_type": "code",
   "execution_count": 1,
   "id": "initial_id",
   "metadata": {
    "collapsed": true,
    "jupyter": {
     "is_executing": true
    }
   },
   "outputs": [],
   "source": [
    "import warnings\n",
    "\n",
    "warnings.filterwarnings('ignore')"
   ]
  },
  {
   "cell_type": "code",
   "execution_count": 2,
   "id": "596838c4afe2d5fd",
   "metadata": {
    "jupyter": {
     "is_executing": true
    }
   },
   "outputs": [],
   "source": [
    "import numpy as np\n",
    "import matplotlib.pyplot as plt\n",
    "import seaborn as sns"
   ]
  },
  {
   "cell_type": "code",
   "execution_count": 4,
   "id": "cd28cb0ef4a45ac4",
   "metadata": {},
   "outputs": [],
   "source": [
    "import arviz as az\n",
    "import bambi as bmb\n",
    "import hddm_wfpt\n",
    "import jax\n",
    "import pytensor\n",
    "\n",
    "import hssm"
   ]
  },
  {
   "cell_type": "code",
   "execution_count": 5,
   "id": "9deb7545",
   "metadata": {},
   "outputs": [],
   "source": [
    "RNG = np.random.default_rng(seed=2025)\n",
    "np.set_printoptions(suppress=True)"
   ]
  },
  {
   "cell_type": "code",
   "execution_count": 6,
   "id": "c5ab9799",
   "metadata": {},
   "outputs": [],
   "source": [
    "pytensor.config.floatX = \"float32\"\n",
    "jax.config.update(\"jax_enable_x64\", False)"
   ]
  },
  {
   "cell_type": "code",
   "execution_count": 7,
   "id": "e7ec92a0",
   "metadata": {},
   "outputs": [],
   "source": [
    "true_params = {\n",
    "    \"v\": 0.5,\n",
    "    \"a\": 1.5,\n",
    "    \"z\": 0.5,\n",
    "    \"t\": 0.5\n",
    "}"
   ]
  },
  {
   "cell_type": "code",
   "execution_count": 8,
   "id": "a100dd71",
   "metadata": {},
   "outputs": [],
   "source": [
    "dataset = hssm.simulate_data(model=\"ddm\", theta=true_params, size=1000)"
   ]
  },
  {
   "cell_type": "code",
   "execution_count": 9,
   "id": "7f858966",
   "metadata": {},
   "outputs": [
    {
     "data": {
      "application/vnd.microsoft.datawrangler.viewer.v0+json": {
       "columns": [
        {
         "name": "index",
         "rawType": "int64",
         "type": "integer"
        },
        {
         "name": "rt",
         "rawType": "float64",
         "type": "float"
        },
        {
         "name": "response",
         "rawType": "float64",
         "type": "float"
        }
       ],
       "conversionMethod": "pd.DataFrame",
       "ref": "04738a48-48d3-493d-b076-2a33eb0e5a5d",
       "rows": [
        [
         "0",
         "3.046386957168579",
         "-1.0"
        ],
        [
         "1",
         "1.6812593936920166",
         "1.0"
        ],
        [
         "2",
         "0.9574923515319824",
         "1.0"
        ],
        [
         "3",
         "5.573529243469238",
         "1.0"
        ],
        [
         "4",
         "3.558351516723633",
         "1.0"
        ],
        [
         "5",
         "2.614572763442993",
         "1.0"
        ],
        [
         "6",
         "1.2384674549102783",
         "1.0"
        ],
        [
         "7",
         "1.7202116250991821",
         "1.0"
        ],
        [
         "8",
         "3.073840379714966",
         "1.0"
        ],
        [
         "9",
         "4.614631652832031",
         "-1.0"
        ],
        [
         "10",
         "2.0291788578033447",
         "1.0"
        ],
        [
         "11",
         "4.254969596862793",
         "1.0"
        ],
        [
         "12",
         "2.0800981521606445",
         "1.0"
        ],
        [
         "13",
         "0.8889707326889038",
         "1.0"
        ],
        [
         "14",
         "4.071606159210205",
         "1.0"
        ],
        [
         "15",
         "4.3190412521362305",
         "1.0"
        ],
        [
         "16",
         "1.580290675163269",
         "1.0"
        ],
        [
         "17",
         "2.2736217975616455",
         "-1.0"
        ],
        [
         "18",
         "1.7555820941925049",
         "1.0"
        ],
        [
         "19",
         "1.2909072637557983",
         "1.0"
        ],
        [
         "20",
         "3.3832383155822754",
         "1.0"
        ],
        [
         "21",
         "2.633025646209717",
         "1.0"
        ],
        [
         "22",
         "2.750415563583374",
         "-1.0"
        ],
        [
         "23",
         "2.1200613975524902",
         "-1.0"
        ],
        [
         "24",
         "0.8871832489967346",
         "1.0"
        ],
        [
         "25",
         "1.5222088098526",
         "1.0"
        ],
        [
         "26",
         "0.7581364512443542",
         "1.0"
        ],
        [
         "27",
         "1.4556187391281128",
         "1.0"
        ],
        [
         "28",
         "1.507006287574768",
         "1.0"
        ],
        [
         "29",
         "5.116791725158691",
         "1.0"
        ],
        [
         "30",
         "4.489526271820068",
         "1.0"
        ],
        [
         "31",
         "2.0383923053741455",
         "1.0"
        ],
        [
         "32",
         "5.3329315185546875",
         "-1.0"
        ],
        [
         "33",
         "2.579568386077881",
         "1.0"
        ],
        [
         "34",
         "1.5915164947509766",
         "1.0"
        ],
        [
         "35",
         "2.017843246459961",
         "-1.0"
        ],
        [
         "36",
         "2.778184175491333",
         "1.0"
        ],
        [
         "37",
         "1.272742748260498",
         "1.0"
        ],
        [
         "38",
         "2.037598133087158",
         "1.0"
        ],
        [
         "39",
         "4.23522424697876",
         "1.0"
        ],
        [
         "40",
         "4.866969108581543",
         "1.0"
        ],
        [
         "41",
         "1.4371496438980103",
         "1.0"
        ],
        [
         "42",
         "1.4395458698272705",
         "-1.0"
        ],
        [
         "43",
         "2.669680118560791",
         "1.0"
        ],
        [
         "44",
         "4.5129570960998535",
         "1.0"
        ],
        [
         "45",
         "3.0554542541503906",
         "1.0"
        ],
        [
         "46",
         "1.3146331310272217",
         "1.0"
        ],
        [
         "47",
         "2.50946044921875",
         "1.0"
        ],
        [
         "48",
         "0.9629865288734436",
         "1.0"
        ],
        [
         "49",
         "3.4316561222076416",
         "1.0"
        ]
       ],
       "shape": {
        "columns": 2,
        "rows": 1000
       }
      },
      "text/html": [
       "<div>\n",
       "<style scoped>\n",
       "    .dataframe tbody tr th:only-of-type {\n",
       "        vertical-align: middle;\n",
       "    }\n",
       "\n",
       "    .dataframe tbody tr th {\n",
       "        vertical-align: top;\n",
       "    }\n",
       "\n",
       "    .dataframe thead th {\n",
       "        text-align: right;\n",
       "    }\n",
       "</style>\n",
       "<table border=\"1\" class=\"dataframe\">\n",
       "  <thead>\n",
       "    <tr style=\"text-align: right;\">\n",
       "      <th></th>\n",
       "      <th>rt</th>\n",
       "      <th>response</th>\n",
       "    </tr>\n",
       "  </thead>\n",
       "  <tbody>\n",
       "    <tr>\n",
       "      <th>0</th>\n",
       "      <td>3.046387</td>\n",
       "      <td>-1.0</td>\n",
       "    </tr>\n",
       "    <tr>\n",
       "      <th>1</th>\n",
       "      <td>1.681259</td>\n",
       "      <td>1.0</td>\n",
       "    </tr>\n",
       "    <tr>\n",
       "      <th>2</th>\n",
       "      <td>0.957492</td>\n",
       "      <td>1.0</td>\n",
       "    </tr>\n",
       "    <tr>\n",
       "      <th>3</th>\n",
       "      <td>5.573529</td>\n",
       "      <td>1.0</td>\n",
       "    </tr>\n",
       "    <tr>\n",
       "      <th>4</th>\n",
       "      <td>3.558352</td>\n",
       "      <td>1.0</td>\n",
       "    </tr>\n",
       "    <tr>\n",
       "      <th>...</th>\n",
       "      <td>...</td>\n",
       "      <td>...</td>\n",
       "    </tr>\n",
       "    <tr>\n",
       "      <th>995</th>\n",
       "      <td>7.416538</td>\n",
       "      <td>1.0</td>\n",
       "    </tr>\n",
       "    <tr>\n",
       "      <th>996</th>\n",
       "      <td>1.064397</td>\n",
       "      <td>1.0</td>\n",
       "    </tr>\n",
       "    <tr>\n",
       "      <th>997</th>\n",
       "      <td>1.075810</td>\n",
       "      <td>1.0</td>\n",
       "    </tr>\n",
       "    <tr>\n",
       "      <th>998</th>\n",
       "      <td>10.958697</td>\n",
       "      <td>1.0</td>\n",
       "    </tr>\n",
       "    <tr>\n",
       "      <th>999</th>\n",
       "      <td>1.470629</td>\n",
       "      <td>1.0</td>\n",
       "    </tr>\n",
       "  </tbody>\n",
       "</table>\n",
       "<p>1000 rows × 2 columns</p>\n",
       "</div>"
      ],
      "text/plain": [
       "            rt  response\n",
       "0     3.046387      -1.0\n",
       "1     1.681259       1.0\n",
       "2     0.957492       1.0\n",
       "3     5.573529       1.0\n",
       "4     3.558352       1.0\n",
       "..         ...       ...\n",
       "995   7.416538       1.0\n",
       "996   1.064397       1.0\n",
       "997   1.075810       1.0\n",
       "998  10.958697       1.0\n",
       "999   1.470629       1.0\n",
       "\n",
       "[1000 rows x 2 columns]"
      ]
     },
     "execution_count": 9,
     "metadata": {},
     "output_type": "execute_result"
    }
   ],
   "source": [
    "dataset"
   ]
  },
  {
   "cell_type": "code",
   "execution_count": 10,
   "id": "2cbeb3f0",
   "metadata": {},
   "outputs": [
    {
     "data": {
      "text/plain": [
       "<Axes: xlabel='rt', ylabel='Count'>"
      ]
     },
     "execution_count": 10,
     "metadata": {},
     "output_type": "execute_result"
    },
    {
     "data": {
      "image/png": "[encoded data removed]",
      "text/plain": [
       "<Figure size 640x480 with 1 Axes>"
      ]
     },
     "metadata": {},
     "output_type": "display_data"
    }
   ],
   "source": [
    "sns.histplot(dataset.rt)"
   ]
  },
  {
   "cell_type": "code",
   "execution_count": 11,
   "id": "ed3f4aac",
   "metadata": {},
   "outputs": [
    {
     "name": "stdout",
     "output_type": "stream",
     "text": [
      "Model initialized successfully.\n"
     ]
    }
   ],
   "source": [
    "simple_ddm = hssm.HSSM(data=dataset)"
   ]
  },
  {
   "cell_type": "code",
   "execution_count": 12,
   "id": "1de747f3",
   "metadata": {},
   "outputs": [
    {
     "data": {
      "text/plain": [
       "Hierarchical Sequential Sampling Model\n",
       "Model: ddm\n",
       "\n",
       "Response variable: rt,response\n",
       "Likelihood: analytical\n",
       "Observations: 1000\n",
       "\n",
       "Parameters:\n",
       "\n",
       "v:\n",
       "    Prior: Normal(mu: 0.0, sigma: 2.0)\n",
       "    Explicit bounds: (-inf, inf)\n",
       "\n",
       "a:\n",
       "    Prior: HalfNormal(sigma: 2.0)\n",
       "    Explicit bounds: (0.0, inf)\n",
       "\n",
       "z:\n",
       "    Prior: Uniform(lower: 0.0, upper: 1.0)\n",
       "    Explicit bounds: (0.0, 1.0)\n",
       "\n",
       "t:\n",
       "    Prior: HalfNormal(sigma: 2.0)\n",
       "    Explicit bounds: (0.0, inf)\n",
       "\n",
       "\n",
       "Lapse probability: 0.05\n",
       "Lapse distribution: Uniform(lower: 0.0, upper: 20.0)"
      ]
     },
     "execution_count": 12,
     "metadata": {},
     "output_type": "execute_result"
    }
   ],
   "source": [
    "simple_ddm"
   ]
  },
  {
   "cell_type": "code",
   "execution_count": 13,
   "id": "5e91f337",
   "metadata": {},
   "outputs": [
    {
     "data": {
      "image/svg+xml": [
       "<?xml version=\"1.0\" encoding=\"UTF-8\" standalone=\"no\"?>\n",
       "<!DOCTYPE svg PUBLIC \"-//W3C//DTD SVG 1.1//EN\"\n",
       " \"http://www.w3.org/Graphics/SVG/1.1/DTD/svg11.dtd\">\n",
       "<!-- Generated by graphviz version 4.0.0 (0)\n",
       " -->\n",
       "<!-- Pages: 1 -->\n",
       "<svg width=\"470pt\" height=\"233pt\"\n",
       " viewBox=\"0.00 0.00 470.41 232.91\" xmlns=\"http://www.w3.org/2000/svg\" xmlns:xlink=\"http://www.w3.org/1999/xlink\">\n",
       "<g id=\"graph0\" class=\"graph\" transform=\"scale(1 1) rotate(0) translate(4 228.91)\">\n",
       "<polygon fill=\"white\" stroke=\"transparent\" points=\"-4,4 -4,-228.91 466.41,-228.91 466.41,4 -4,4\"/>\n",
       "<g id=\"clust2\" class=\"cluster\">\n",
       "<title>cluster__obs__ (1000) x rt,response_extra_dim_0 (2)</title>\n",
       "<path fill=\"none\" stroke=\"black\" d=\"M84.72,-8C84.72,-8 331.72,-8 331.72,-8 337.72,-8 343.72,-14 343.72,-20 343.72,-20 343.72,-109.95 343.72,-109.95 343.72,-115.95 337.72,-121.95 331.72,-121.95 331.72,-121.95 84.72,-121.95 84.72,-121.95 78.72,-121.95 72.72,-115.95 72.72,-109.95 72.72,-109.95 72.72,-20 72.72,-20 72.72,-14 78.72,-8 84.72,-8\"/>\n",
       "<text text-anchor=\"middle\" x=\"208.22\" y=\"-15.8\" font-family=\"Times New Roman,serif\" font-size=\"14.00\">__obs__ (1000) x rt,response_extra_dim_0 (2)</text>\n",
       "</g>\n",
       "<!-- v -->\n",
       "<g id=\"node1\" class=\"node\">\n",
       "<title>v</title>\n",
       "<ellipse fill=\"none\" stroke=\"black\" cx=\"41.72\" cy=\"-187.43\" rx=\"41.94\" ry=\"37.45\"/>\n",
       "<text text-anchor=\"middle\" x=\"41.72\" y=\"-198.73\" font-family=\"Times New Roman,serif\" font-size=\"14.00\">v</text>\n",
       "<text text-anchor=\"middle\" x=\"41.72\" y=\"-183.73\" font-family=\"Times New Roman,serif\" font-size=\"14.00\">~</text>\n",
       "<text text-anchor=\"middle\" x=\"41.72\" y=\"-168.73\" font-family=\"Times New Roman,serif\" font-size=\"14.00\">Normal</text>\n",
       "</g>\n",
       "<!-- rt,response -->\n",
       "<g id=\"node5\" class=\"node\">\n",
       "<title>rt,response</title>\n",
       "<ellipse fill=\"lightgrey\" stroke=\"black\" cx=\"207.72\" cy=\"-76.48\" rx=\"53.98\" ry=\"37.45\"/>\n",
       "<text text-anchor=\"middle\" x=\"207.72\" y=\"-87.78\" font-family=\"Times New Roman,serif\" font-size=\"14.00\">rt,response</text>\n",
       "<text text-anchor=\"middle\" x=\"207.72\" y=\"-72.78\" font-family=\"Times New Roman,serif\" font-size=\"14.00\">~</text>\n",
       "<text text-anchor=\"middle\" x=\"207.72\" y=\"-57.78\" font-family=\"Times New Roman,serif\" font-size=\"14.00\">HSSM</text>\n",
       "</g>\n",
       "<!-- v&#45;&gt;rt,response -->\n",
       "<g id=\"edge4\" class=\"edge\">\n",
       "<title>v&#45;&gt;rt,response</title>\n",
       "<path fill=\"none\" stroke=\"black\" d=\"M73.62,-163.18C79.91,-158.72 86.48,-154.14 92.72,-149.95 114.32,-135.44 138.64,-119.99 159.34,-107.09\"/>\n",
       "<polygon fill=\"black\" stroke=\"black\" points=\"161.32,-109.98 167.97,-101.73 157.62,-104.04 161.32,-109.98\"/>\n",
       "</g>\n",
       "<!-- z -->\n",
       "<g id=\"node2\" class=\"node\">\n",
       "<title>z</title>\n",
       "<ellipse fill=\"none\" stroke=\"black\" cx=\"146.72\" cy=\"-187.43\" rx=\"45.01\" ry=\"37.45\"/>\n",
       "<text text-anchor=\"middle\" x=\"146.72\" y=\"-198.73\" font-family=\"Times New Roman,serif\" font-size=\"14.00\">z</text>\n",
       "<text text-anchor=\"middle\" x=\"146.72\" y=\"-183.73\" font-family=\"Times New Roman,serif\" font-size=\"14.00\">~</text>\n",
       "<text text-anchor=\"middle\" x=\"146.72\" y=\"-168.73\" font-family=\"Times New Roman,serif\" font-size=\"14.00\">Uniform</text>\n",
       "</g>\n",
       "<!-- z&#45;&gt;rt,response -->\n",
       "<g id=\"edge1\" class=\"edge\">\n",
       "<title>z&#45;&gt;rt,response</title>\n",
       "<path fill=\"none\" stroke=\"black\" d=\"M165.35,-153.15C171.1,-142.88 177.52,-131.42 183.58,-120.59\"/>\n",
       "<polygon fill=\"black\" stroke=\"black\" points=\"186.74,-122.12 188.57,-111.68 180.63,-118.7 186.74,-122.12\"/>\n",
       "</g>\n",
       "<!-- a -->\n",
       "<g id=\"node3\" class=\"node\">\n",
       "<title>a</title>\n",
       "<ellipse fill=\"none\" stroke=\"black\" cx=\"268.72\" cy=\"-187.43\" rx=\"58.88\" ry=\"37.45\"/>\n",
       "<text text-anchor=\"middle\" x=\"268.72\" y=\"-198.73\" font-family=\"Times New Roman,serif\" font-size=\"14.00\">a</text>\n",
       "<text text-anchor=\"middle\" x=\"268.72\" y=\"-183.73\" font-family=\"Times New Roman,serif\" font-size=\"14.00\">~</text>\n",
       "<text text-anchor=\"middle\" x=\"268.72\" y=\"-168.73\" font-family=\"Times New Roman,serif\" font-size=\"14.00\">HalfNormal</text>\n",
       "</g>\n",
       "<!-- a&#45;&gt;rt,response -->\n",
       "<g id=\"edge2\" class=\"edge\">\n",
       "<title>a&#45;&gt;rt,response</title>\n",
       "<path fill=\"none\" stroke=\"black\" d=\"M249.42,-151.96C243.86,-142.02 237.72,-131.06 231.9,-120.67\"/>\n",
       "<polygon fill=\"black\" stroke=\"black\" points=\"234.83,-118.74 226.89,-111.73 228.73,-122.16 234.83,-118.74\"/>\n",
       "</g>\n",
       "<!-- t -->\n",
       "<g id=\"node4\" class=\"node\">\n",
       "<title>t</title>\n",
       "<ellipse fill=\"none\" stroke=\"black\" cx=\"403.72\" cy=\"-187.43\" rx=\"58.88\" ry=\"37.45\"/>\n",
       "<text text-anchor=\"middle\" x=\"403.72\" y=\"-198.73\" font-family=\"Times New Roman,serif\" font-size=\"14.00\">t</text>\n",
       "<text text-anchor=\"middle\" x=\"403.72\" y=\"-183.73\" font-family=\"Times New Roman,serif\" font-size=\"14.00\">~</text>\n",
       "<text text-anchor=\"middle\" x=\"403.72\" y=\"-168.73\" font-family=\"Times New Roman,serif\" font-size=\"14.00\">HalfNormal</text>\n",
       "</g>\n",
       "<!-- t&#45;&gt;rt,response -->\n",
       "<g id=\"edge3\" class=\"edge\">\n",
       "<title>t&#45;&gt;rt,response</title>\n",
       "<path fill=\"none\" stroke=\"black\" d=\"M360.22,-162.25C330.04,-145.47 289.75,-123.08 258.17,-105.52\"/>\n",
       "<polygon fill=\"black\" stroke=\"black\" points=\"259.52,-102.27 249.08,-100.47 256.12,-108.39 259.52,-102.27\"/>\n",
       "</g>\n",
       "</g>\n",
       "</svg>\n"
      ],
      "text/plain": [
       "<graphviz.graphs.Digraph at 0x1518a4dbf40>"
      ]
     },
     "execution_count": 13,
     "metadata": {},
     "output_type": "execute_result"
    }
   ],
   "source": [
    "simple_ddm.graph()"
   ]
  },
  {
   "cell_type": "code",
   "execution_count": null,
   "id": "d4d0357b",
   "metadata": {},
   "outputs": [],
   "source": []
  }
 ],
 "metadata": {
  "kernelspec": {
   "display_name": "Python 3",
   "language": "python",
   "name": "python3"
  },
  "language_info": {
   "codemirror_mode": {
    "name": "ipython",
    "version": 3
   },
   "file_extension": ".py",
   "mimetype": "text/x-python",
   "name": "python",
   "nbconvert_exporter": "python",
   "pygments_lexer": "ipython3",
   "version": "3.10.16"
  }
 },
 "nbformat": 4,
 "nbformat_minor": 5
}
